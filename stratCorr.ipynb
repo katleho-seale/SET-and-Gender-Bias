{
 "cells": [
  {
   "cell_type": "code",
   "execution_count": 1,
   "metadata": {
    "collapsed": false
   },
   "outputs": [],
   "source": [
    "import math\n",
    "import numpy as np\n",
    "from numpy.random import random\n",
    "import scipy as sp\n",
    "from scipy import special\n",
    "from __future__ import division\n",
    "\n",
    "def corr(x, y, rs, reps=10**4):\n",
    "    '''\n",
    "    Simulate permutation p-value for Spearman correlation coefficient\n",
    "    FIX ME: implement one and two-sided versions\n",
    "    '''\n",
    "    t = np.corrcoef(x, y)[0,1]\n",
    "    pval = np.sum([np.corrcoef(rs.permutation(x), y)[0,1] >= t for i in range(reps)])/reps\n",
    "    return t, pval    \n",
    "\n",
    "def stratCorrTst(x, y, group):\n",
    "    '''\n",
    "    Calculates sum of Spearman correlations between x and y, computed separately in each group.\n",
    "    '''\n",
    "    tst = 0.0\n",
    "    for g in np.unique(group):\n",
    "        gg = group == g\n",
    "        tst += np.corrcoef(x[gg], y[gg])[0,1]\n",
    "    return tst\n",
    "\n",
    "def permuteWithinGroups(x, group, rs):\n",
    "    '''\n",
    "    Permutes the elements of x within groups\n",
    "    Input: ndarray x to be permuted, ndarray group of group ids, np.random.RandomState object rs\n",
    "    '''\n",
    "    permuted = x.copy()\n",
    "    for g in np.unique(group):\n",
    "        gg = group == g\n",
    "        permuted[gg] = rs.permutation(permuted[gg])      \n",
    "    return permuted\n",
    "\n",
    "def stratCorr(x, y, group, rs, reps=10**4):\n",
    "    '''\n",
    "    Simulate permutation p-value of stratified Spearman correlation test.\n",
    "    FIX ME: implement one and two-sided versions\n",
    "    '''\n",
    "    t = stratCorrTst(x, y, group)\n",
    "    pval = np.sum([stratCorrTst(permuteWithinGroups(x, group, rs), y, group) >= t for i in range(reps)])/reps\n",
    "    return t, pval\n"
   ]
  },
  {
   "cell_type": "code",
   "execution_count": 2,
   "metadata": {
    "collapsed": false
   },
   "outputs": [],
   "source": [
    "seed = 1\n",
    "rs = np.random.RandomState(seed=seed)\n",
    "group = np.array([0, 0, 0, 1, 1, 1])\n",
    "x = np.array([0, 0, 1, 0, 1, 1])\n",
    "y = np.array([0, 0, 1, 0, 1, 1])\n",
    "reps = 10**4"
   ]
  },
  {
   "cell_type": "code",
   "execution_count": 3,
   "metadata": {
    "collapsed": false
   },
   "outputs": [
    {
     "name": "stdout",
     "output_type": "stream",
     "text": [
      "(2.0, 0.111) 0.111111111111\n"
     ]
    }
   ],
   "source": [
    "## test stratCorr\n",
    "print stratCorr(x, y, group, rs, reps=reps), 1/9 # for the test data, true p-value is 1/9"
   ]
  },
  {
   "cell_type": "code",
   "execution_count": 4,
   "metadata": {
    "collapsed": false
   },
   "outputs": [
    {
     "name": "stdout",
     "output_type": "stream",
     "text": [
      "(1.0, 0.054899999999999997) 0.05\n"
     ]
    }
   ],
   "source": [
    "# test corr\n",
    "print corr(x, y, rs, reps=reps), 1/sp.special.binom(6,3) # for the test data, true p-value is 1/20"
   ]
  }
 ],
 "metadata": {
  "kernelspec": {
   "display_name": "Python 2",
   "language": "python",
   "name": "python2"
  },
  "language_info": {
   "codemirror_mode": {
    "name": "ipython",
    "version": 2
   },
   "file_extension": ".py",
   "mimetype": "text/x-python",
   "name": "python",
   "nbconvert_exporter": "python",
   "pygments_lexer": "ipython2",
   "version": "2.7.9"
  }
 },
 "nbformat": 4,
 "nbformat_minor": 0
}
