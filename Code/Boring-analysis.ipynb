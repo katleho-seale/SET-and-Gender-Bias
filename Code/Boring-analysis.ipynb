{
 "cells": [
  {
   "cell_type": "markdown",
   "metadata": {},
   "source": [
    "# Gender Biases in Student Evaluations of Teachers\n",
    "============================================================================\n"
   ]
  },
  {
   "cell_type": "code",
   "execution_count": 8,
   "metadata": {
    "collapsed": false
   },
   "outputs": [],
   "source": [
    "# boilerplate\n",
    "%matplotlib inline\n",
    "import math\n",
    "import numpy as np\n",
    "import pandas as pd\n",
    "from numpy.random import random\n",
    "import scipy as sp\n",
    "from scipy import special\n",
    "import matplotlib.pyplot as plt\n",
    "from __future__ import division\n",
    "\n",
    "# initialize PRNG\n",
    "rs = np.random.RandomState(seed=1)"
   ]
  },
  {
   "cell_type": "markdown",
   "metadata": {},
   "source": [
    "Permutation test code\n",
    "============\n",
    "You must install the _permute_ package to use this code. Install instructions can be found at https://github.com/statlab/permute.  Our analysis uses version 0.1.alpha3."
   ]
  },
  {
   "cell_type": "code",
   "execution_count": 9,
   "metadata": {
    "collapsed": false
   },
   "outputs": [
    {
     "name": "stdout",
     "output_type": "stream",
     "text": [
      "permute: version 0.1.alpha3\n"
     ]
    }
   ],
   "source": [
    "from permute.core import corr  \n",
    "from permute.stratified import sim_corr\n",
    "import permute\n",
    "print \"permute: version\", permute.__version__"
   ]
  },
  {
   "cell_type": "markdown",
   "metadata": {},
   "source": [
    "## Read data and define new fields"
   ]
  },
  {
   "cell_type": "code",
   "execution_count": 10,
   "metadata": {
    "collapsed": false
   },
   "outputs": [
    {
     "data": {
      "text/html": [
       "<div>\n",
       "<table border=\"1\" class=\"dataframe\">\n",
       "  <thead>\n",
       "    <tr style=\"text-align: right;\">\n",
       "      <th></th>\n",
       "      <th>student_id</th>\n",
       "      <th>year</th>\n",
       "      <th>dual_degree</th>\n",
       "      <th>entreescpoen</th>\n",
       "      <th>stu_male</th>\n",
       "      <th>stu_female</th>\n",
       "      <th>admission_exam</th>\n",
       "      <th>admission_cep</th>\n",
       "      <th>admission_bactb</th>\n",
       "      <th>admission_other</th>\n",
       "      <th>...</th>\n",
       "      <th>scpo</th>\n",
       "      <th>both_female</th>\n",
       "      <th>both_male</th>\n",
       "      <th>stumale_proffemale</th>\n",
       "      <th>stufemale_profmale</th>\n",
       "      <th>already_taught</th>\n",
       "      <th>fall</th>\n",
       "      <th>spring</th>\n",
       "      <th>three_evals</th>\n",
       "      <th>sum_q10</th>\n",
       "    </tr>\n",
       "  </thead>\n",
       "  <tbody>\n",
       "    <tr>\n",
       "      <th>count</th>\n",
       "      <td>19619.000000</td>\n",
       "      <td>19619.000000</td>\n",
       "      <td>19619.000000</td>\n",
       "      <td>19619.000000</td>\n",
       "      <td>19619.000000</td>\n",
       "      <td>19619.000000</td>\n",
       "      <td>19619.000000</td>\n",
       "      <td>19619</td>\n",
       "      <td>19619.000000</td>\n",
       "      <td>19619.000000</td>\n",
       "      <td>...</td>\n",
       "      <td>19619.000000</td>\n",
       "      <td>19619.000000</td>\n",
       "      <td>19619.000000</td>\n",
       "      <td>19619.000000</td>\n",
       "      <td>19619.000000</td>\n",
       "      <td>19619.000000</td>\n",
       "      <td>19619.000000</td>\n",
       "      <td>19619.000000</td>\n",
       "      <td>19619.000000</td>\n",
       "      <td>19619.000000</td>\n",
       "    </tr>\n",
       "    <tr>\n",
       "      <th>mean</th>\n",
       "      <td>2437.125244</td>\n",
       "      <td>2010.233498</td>\n",
       "      <td>0.115806</td>\n",
       "      <td>2010.205821</td>\n",
       "      <td>0.441562</td>\n",
       "      <td>0.558438</td>\n",
       "      <td>0.778378</td>\n",
       "      <td>0</td>\n",
       "      <td>0.129517</td>\n",
       "      <td>0.036393</td>\n",
       "      <td>...</td>\n",
       "      <td>0.109078</td>\n",
       "      <td>0.172231</td>\n",
       "      <td>0.301188</td>\n",
       "      <td>0.140374</td>\n",
       "      <td>0.386207</td>\n",
       "      <td>0.593200</td>\n",
       "      <td>0.589480</td>\n",
       "      <td>0.410520</td>\n",
       "      <td>0.893216</td>\n",
       "      <td>6.529793</td>\n",
       "    </tr>\n",
       "    <tr>\n",
       "      <th>std</th>\n",
       "      <td>1239.322345</td>\n",
       "      <td>1.347421</td>\n",
       "      <td>0.320005</td>\n",
       "      <td>1.356838</td>\n",
       "      <td>0.496588</td>\n",
       "      <td>0.496588</td>\n",
       "      <td>0.415310</td>\n",
       "      <td>0</td>\n",
       "      <td>0.335803</td>\n",
       "      <td>0.187318</td>\n",
       "      <td>...</td>\n",
       "      <td>0.311717</td>\n",
       "      <td>0.377626</td>\n",
       "      <td>0.458810</td>\n",
       "      <td>0.347377</td>\n",
       "      <td>0.486881</td>\n",
       "      <td>0.491272</td>\n",
       "      <td>0.491926</td>\n",
       "      <td>0.491926</td>\n",
       "      <td>0.308793</td>\n",
       "      <td>1.665621</td>\n",
       "    </tr>\n",
       "    <tr>\n",
       "      <th>min</th>\n",
       "      <td>1.000000</td>\n",
       "      <td>2008.000000</td>\n",
       "      <td>0.000000</td>\n",
       "      <td>2006.000000</td>\n",
       "      <td>0.000000</td>\n",
       "      <td>0.000000</td>\n",
       "      <td>0.000000</td>\n",
       "      <td>0</td>\n",
       "      <td>0.000000</td>\n",
       "      <td>0.000000</td>\n",
       "      <td>...</td>\n",
       "      <td>0.000000</td>\n",
       "      <td>0.000000</td>\n",
       "      <td>0.000000</td>\n",
       "      <td>0.000000</td>\n",
       "      <td>0.000000</td>\n",
       "      <td>0.000000</td>\n",
       "      <td>0.000000</td>\n",
       "      <td>0.000000</td>\n",
       "      <td>0.000000</td>\n",
       "      <td>1.000000</td>\n",
       "    </tr>\n",
       "    <tr>\n",
       "      <th>25%</th>\n",
       "      <td>1459.500000</td>\n",
       "      <td>2009.000000</td>\n",
       "      <td>0.000000</td>\n",
       "      <td>2009.000000</td>\n",
       "      <td>0.000000</td>\n",
       "      <td>0.000000</td>\n",
       "      <td>1.000000</td>\n",
       "      <td>0</td>\n",
       "      <td>0.000000</td>\n",
       "      <td>0.000000</td>\n",
       "      <td>...</td>\n",
       "      <td>0.000000</td>\n",
       "      <td>0.000000</td>\n",
       "      <td>0.000000</td>\n",
       "      <td>0.000000</td>\n",
       "      <td>0.000000</td>\n",
       "      <td>0.000000</td>\n",
       "      <td>0.000000</td>\n",
       "      <td>0.000000</td>\n",
       "      <td>1.000000</td>\n",
       "      <td>6.000000</td>\n",
       "    </tr>\n",
       "    <tr>\n",
       "      <th>50%</th>\n",
       "      <td>2495.000000</td>\n",
       "      <td>2010.000000</td>\n",
       "      <td>0.000000</td>\n",
       "      <td>2010.000000</td>\n",
       "      <td>0.000000</td>\n",
       "      <td>1.000000</td>\n",
       "      <td>1.000000</td>\n",
       "      <td>0</td>\n",
       "      <td>0.000000</td>\n",
       "      <td>0.000000</td>\n",
       "      <td>...</td>\n",
       "      <td>0.000000</td>\n",
       "      <td>0.000000</td>\n",
       "      <td>0.000000</td>\n",
       "      <td>0.000000</td>\n",
       "      <td>0.000000</td>\n",
       "      <td>1.000000</td>\n",
       "      <td>1.000000</td>\n",
       "      <td>0.000000</td>\n",
       "      <td>1.000000</td>\n",
       "      <td>7.000000</td>\n",
       "    </tr>\n",
       "    <tr>\n",
       "      <th>75%</th>\n",
       "      <td>3446.000000</td>\n",
       "      <td>2011.000000</td>\n",
       "      <td>0.000000</td>\n",
       "      <td>2011.000000</td>\n",
       "      <td>1.000000</td>\n",
       "      <td>1.000000</td>\n",
       "      <td>1.000000</td>\n",
       "      <td>0</td>\n",
       "      <td>0.000000</td>\n",
       "      <td>0.000000</td>\n",
       "      <td>...</td>\n",
       "      <td>0.000000</td>\n",
       "      <td>0.000000</td>\n",
       "      <td>1.000000</td>\n",
       "      <td>0.000000</td>\n",
       "      <td>1.000000</td>\n",
       "      <td>1.000000</td>\n",
       "      <td>1.000000</td>\n",
       "      <td>1.000000</td>\n",
       "      <td>1.000000</td>\n",
       "      <td>8.000000</td>\n",
       "    </tr>\n",
       "    <tr>\n",
       "      <th>max</th>\n",
       "      <td>4423.000000</td>\n",
       "      <td>2012.000000</td>\n",
       "      <td>1.000000</td>\n",
       "      <td>2012.000000</td>\n",
       "      <td>1.000000</td>\n",
       "      <td>1.000000</td>\n",
       "      <td>1.000000</td>\n",
       "      <td>0</td>\n",
       "      <td>1.000000</td>\n",
       "      <td>1.000000</td>\n",
       "      <td>...</td>\n",
       "      <td>1.000000</td>\n",
       "      <td>1.000000</td>\n",
       "      <td>1.000000</td>\n",
       "      <td>1.000000</td>\n",
       "      <td>1.000000</td>\n",
       "      <td>1.000000</td>\n",
       "      <td>1.000000</td>\n",
       "      <td>1.000000</td>\n",
       "      <td>1.000000</td>\n",
       "      <td>9.000000</td>\n",
       "    </tr>\n",
       "  </tbody>\n",
       "</table>\n",
       "<p>8 rows × 71 columns</p>\n",
       "</div>"
      ],
      "text/plain": [
       "         student_id          year   dual_degree  entreescpoen      stu_male  \\\n",
       "count  19619.000000  19619.000000  19619.000000  19619.000000  19619.000000   \n",
       "mean    2437.125244   2010.233498      0.115806   2010.205821      0.441562   \n",
       "std     1239.322345      1.347421      0.320005      1.356838      0.496588   \n",
       "min        1.000000   2008.000000      0.000000   2006.000000      0.000000   \n",
       "25%     1459.500000   2009.000000      0.000000   2009.000000      0.000000   \n",
       "50%     2495.000000   2010.000000      0.000000   2010.000000      0.000000   \n",
       "75%     3446.000000   2011.000000      0.000000   2011.000000      1.000000   \n",
       "max     4423.000000   2012.000000      1.000000   2012.000000      1.000000   \n",
       "\n",
       "         stu_female  admission_exam  admission_cep  admission_bactb  \\\n",
       "count  19619.000000    19619.000000          19619     19619.000000   \n",
       "mean       0.558438        0.778378              0         0.129517   \n",
       "std        0.496588        0.415310              0         0.335803   \n",
       "min        0.000000        0.000000              0         0.000000   \n",
       "25%        0.000000        1.000000              0         0.000000   \n",
       "50%        1.000000        1.000000              0         0.000000   \n",
       "75%        1.000000        1.000000              0         0.000000   \n",
       "max        1.000000        1.000000              0         1.000000   \n",
       "\n",
       "       admission_other      ...               scpo   both_female  \\\n",
       "count     19619.000000      ...       19619.000000  19619.000000   \n",
       "mean          0.036393      ...           0.109078      0.172231   \n",
       "std           0.187318      ...           0.311717      0.377626   \n",
       "min           0.000000      ...           0.000000      0.000000   \n",
       "25%           0.000000      ...           0.000000      0.000000   \n",
       "50%           0.000000      ...           0.000000      0.000000   \n",
       "75%           0.000000      ...           0.000000      0.000000   \n",
       "max           1.000000      ...           1.000000      1.000000   \n",
       "\n",
       "          both_male  stumale_proffemale  stufemale_profmale  already_taught  \\\n",
       "count  19619.000000        19619.000000        19619.000000    19619.000000   \n",
       "mean       0.301188            0.140374            0.386207        0.593200   \n",
       "std        0.458810            0.347377            0.486881        0.491272   \n",
       "min        0.000000            0.000000            0.000000        0.000000   \n",
       "25%        0.000000            0.000000            0.000000        0.000000   \n",
       "50%        0.000000            0.000000            0.000000        1.000000   \n",
       "75%        1.000000            0.000000            1.000000        1.000000   \n",
       "max        1.000000            1.000000            1.000000        1.000000   \n",
       "\n",
       "               fall        spring   three_evals       sum_q10  \n",
       "count  19619.000000  19619.000000  19619.000000  19619.000000  \n",
       "mean       0.589480      0.410520      0.893216      6.529793  \n",
       "std        0.491926      0.491926      0.308793      1.665621  \n",
       "min        0.000000      0.000000      0.000000      1.000000  \n",
       "25%        0.000000      0.000000      1.000000      6.000000  \n",
       "50%        1.000000      0.000000      1.000000      7.000000  \n",
       "75%        1.000000      1.000000      1.000000      8.000000  \n",
       "max        1.000000      1.000000      1.000000      9.000000  \n",
       "\n",
       "[8 rows x 71 columns]"
      ]
     },
     "execution_count": 10,
     "metadata": {},
     "output_type": "execute_result"
    }
   ],
   "source": [
    "dat = pd.read_stata(\"../../SET data/permutation_all triplets.dta\",  convert_categoricals=False )\n",
    "dat = dat[dat.admission_cep == 0]\n",
    "dat.describe()\n",
    "\n",
    "# dat = pd.read_stata(\"sample_permutation.dta\",  convert_categoricals=False)\n",
    "# dat.describe()"
   ]
  },
  {
   "cell_type": "code",
   "execution_count": 11,
   "metadata": {
    "collapsed": false
   },
   "outputs": [],
   "source": [
    "evals = ['q16', 'q1', 'q2', 'q3', 'q4', 'q5', 'q6', 'q7', 'q8', 'q9', 'q10', 'q13', 'q14', 'q15']\n",
    "if isinstance(dat.q16[0], str):\n",
    "    for e in evals:\n",
    "        dat[e].replace(['nonpertinent', 'insuffisant', 'moyen', 'bon', 'excellent'],\\\n",
    "                       [0,1,2,3,4],\\\n",
    "                       inplace=True)\n",
    "    \n",
    "dat['course'] = dat['prof_id']\n",
    "dat.course.loc[dat['history']==1] = 'history' \n",
    "dat.course.loc[dat['micro']==1] = 'micro' \n",
    "dat.course.loc[dat['ip']==1] = 'ip' \n",
    "dat.course.loc[dat['macro']==1] = 'macro' \n",
    "dat.course.loc[dat['socio']==1] = 'socio' \n",
    "dat.course.loc[dat['scpo']==1] = 'scpo' \n",
    "\n",
    "dat['gender'] = dat['prof_male']\n",
    "dat.gender.loc[dat.gender==1] = 'M'\n",
    "dat.gender.loc[dat.gender==0] = 'F'\n",
    "dat['student_gender'] = dat['stu_male']\n",
    "dat.student_gender.loc[dat.student_gender==1] = 'M'\n",
    "dat.student_gender.loc[dat.student_gender==0] = 'F'\n",
    "\n",
    "# Define the fun times for class\n",
    "dat['plumTime'] = (dat['extremetime'] < 2) & dat['day'].isin([2,3,4])\n",
    "\n",
    "# Define difference in final and midterm exams\n",
    "dat['diff_final_cont'] = dat['note_cm'] - dat['note_conf']\n",
    "\n",
    "# Define the permutation strata: permute independently by course/semester\n",
    "dat['course_year'] = dat['course'] + dat['year'].map(str)\n",
    "course_year_values = dat['course_year'].unique()\n",
    "course_year_values.sort()\n",
    "dat['course_year_int'] = dat['course_year']\n",
    "for i in range(len(dat.course_year.unique())):\n",
    "    dat.course_year_int.loc[dat.course_year == course_year_values[i]] = i\n",
    "dat.course_year_int = dat.course_year_int.astype(int)"
   ]
  },
  {
   "cell_type": "markdown",
   "metadata": {},
   "source": [
    "## Data filtering\n",
    "\n",
    "Most of the analyses omit grades in PI, for two reasons: \n",
    "1. The final exam is oral\n",
    "2. There is a large imbalance in the gender of the instructors: 52 male, 12 female\n",
    "3. Since the course is \"easy,\" that would bias results in favor of making male instructors look more effective"
   ]
  },
  {
   "cell_type": "code",
   "execution_count": 12,
   "metadata": {
    "collapsed": false
   },
   "outputs": [],
   "source": [
    "# remove the Political Institutions courses\n",
    "datNoIp = dat.copy()\n",
    "datNoIp = datNoIp[datNoIp['course'] != 'ip']"
   ]
  },
  {
   "cell_type": "markdown",
   "metadata": {},
   "source": [
    "# Summary statistics\n",
    "\n",
    "## Instructor level statistics"
   ]
  },
  {
   "cell_type": "code",
   "execution_count": 13,
   "metadata": {
    "collapsed": false
   },
   "outputs": [
    {
     "data": {
      "image/png": "[encoded data removed]",
      "text/plain": [
       "<matplotlib.figure.Figure at 0x18406d30>"
      ]
     },
     "metadata": {},
     "output_type": "display_data"
    },
    {
     "name": "stdout",
     "output_type": "stream",
     "text": [
      "Instructors who taught in more than one course (# courses):\n",
      "prof_id\n",
      "7      2\n",
      "19     2\n",
      "21     2\n",
      "23     2\n",
      "46     2\n",
      "53     2\n",
      "55     2\n",
      "65     2\n",
      "66     2\n",
      "68     2\n",
      "89     2\n",
      "90     2\n",
      "93     2\n",
      "94     2\n",
      "97     2\n",
      "100    2\n",
      "102    2\n",
      "105    2\n",
      "113    2\n",
      "119    2\n",
      "134    2\n",
      "142    2\n",
      "147    2\n",
      "148    2\n",
      "158    2\n",
      "167    2\n",
      "189    2\n",
      "195    2\n",
      "199    2\n",
      "201    2\n",
      "214    2\n",
      "219    2\n",
      "230    2\n",
      "231    2\n",
      "237    2\n",
      "238    2\n",
      "239    2\n",
      "243    2\n",
      "244    2\n",
      "245    2\n",
      "251    2\n",
      "255    2\n",
      "280    2\n",
      "286    2\n",
      "288    2\n",
      "290    2\n",
      "294    2\n",
      "299    2\n",
      "324    2\n",
      "326    2\n",
      "365    2\n",
      "366    2\n",
      "Name: course, dtype: int64\n"
     ]
    }
   ],
   "source": [
    "# How many sections did instructors teach?\n",
    "grouped = dat.groupby('prof_id')\n",
    "plt.hist(np.array(grouped.count().course_year))\n",
    "plt.title(\"Number of sections taught by instructors\")\n",
    "plt.xlabel(\"Number of sections\")\n",
    "plt.ylabel(\"Frequency\")\n",
    "plt.show()\n",
    "\n",
    "# Did any instructors teach sections in more than one course?\n",
    "numcourses = grouped.course.agg(lambda x: len(np.unique(x)))\n",
    "print \"Instructors who taught in more than one course (# courses):\\n\", numcourses[numcourses > 1]"
   ]
  },
  {
   "cell_type": "markdown",
   "metadata": {},
   "source": [
    "# Start of the analysis\n",
    "\n",
    "### Ratings v student performance"
   ]
  },
  {
   "cell_type": "code",
   "execution_count": 14,
   "metadata": {
    "collapsed": false
   },
   "outputs": [
    {
     "name": "stdout",
     "output_type": "stream",
     "text": [
      "Analyzing the correlation btw avg evaluation score and final exam grade, by course number\n",
      "Overall:\n",
      "Test statistic (sum of correlations): 0.0425744241141\n",
      "One-sided (upper) p-value: 0.0903\n",
      "Two-sided p-value: 1.8194\n",
      "Number of courses: 949 \n",
      "\n",
      "\n",
      "Course       Test stat Upper P-value Two-sided p-value # Courses\n",
      "history          0.16         0.01         1.98       224.00\n",
      "macro            0.06         0.19         1.62       228.00\n",
      "micro           -0.01         0.55         0.91       226.00\n",
      "scpo            -0.03         0.62         0.75       135.00\n",
      "socio           -0.02         0.61         0.79       136.00\n"
     ]
    }
   ],
   "source": [
    "# Correlation btw avg evaluation score and final exam grade, by course number. Omit IP courses\n",
    "\n",
    "print 'Analyzing the correlation btw avg evaluation score and final exam grade, by course number' \n",
    "\n",
    "theCols = evals + ['prof_male','plumTime','note_cm', 'course_year_int']\n",
    "\n",
    "grouped = datNoIp.groupby(['course_number'])\n",
    "prof_ratings = grouped[theCols].agg(np.mean)\n",
    "nstrat = len(np.unique(prof_ratings['course_year_int']))\n",
    "(t, plow, pupper, pboth, sims) = sim_corr(x = prof_ratings['q16'], y = prof_ratings['note_cm'], \n",
    "                                          group = prof_ratings['course_year_int'], seed = rs)\n",
    "print 'Overall:'\n",
    "print 'Test statistic (sum of correlations):', t/nstrat\n",
    "print 'One-sided (upper) p-value:', pupper\n",
    "print 'Two-sided p-value:', pboth\n",
    "print 'Number of courses:', prof_ratings['note_cm'].size, '\\n'\n",
    "\n",
    "print ('\\n{0:12} {1:8} {2:8} {3:8} {4:8}'.format('Course', 'Test stat', 'Upper P-value', 'Two-sided p-value', '# Courses'))\n",
    "for topic in np.unique(datNoIp.course):\n",
    "    perTopic = datNoIp[datNoIp['course']==topic]\n",
    "    grouped = perTopic.groupby(['course_number'])\n",
    "    prof_ratings = grouped[theCols].agg(np.mean)\n",
    "    nstrat = len(np.unique(prof_ratings['course_year_int']))\n",
    "    (t, plow, pupper, pboth, sims) = sim_corr(x = prof_ratings['q16'], y = prof_ratings['note_cm'], \n",
    "                                              group = prof_ratings['course_year_int'], seed = rs)\n",
    "    print ('{0:8} {1:12.2f} {2:12.2f} {3:12.2f} {4:12.2f}'.format(topic, t/nstrat, pupper, pboth, \\\n",
    "                                                                  prof_ratings['note_cm'].size))"
   ]
  },
  {
   "cell_type": "markdown",
   "metadata": {},
   "source": [
    "### Instructor gender v student performance"
   ]
  },
  {
   "cell_type": "code",
   "execution_count": 15,
   "metadata": {
    "collapsed": false
   },
   "outputs": [
    {
     "name": "stdout",
     "output_type": "stream",
     "text": [
      "Correlation btw final exam average and instructor gender, by course\n",
      "Overall:\n",
      "Test statistic (sum of correlations): -0.060150774877\n",
      "One-sided (upper) p-value: 0.9672\n",
      "Two-sided p-value: 0.0656\n",
      "Number of courses w/ male profs: 625.0\n",
      "Number of courses w/ female profs: 324.0\n",
      "Total number of courses: 949 \n",
      "\n",
      "\n",
      "Course       Test stat Upper P-value Two-sided p-value # Male profs # Female profs # Courses\n",
      "history         -0.08         0.89         0.22       154.00        70.00       224.00\n",
      "macro           -0.06         0.81         0.37       155.00        73.00       228.00\n",
      "micro           -0.06         0.82         0.37       148.00        78.00       226.00\n",
      "scpo            -0.03         0.65         0.70        91.00        44.00       135.00\n",
      "socio           -0.05         0.72         0.55        77.00        59.00       136.00\n"
     ]
    }
   ],
   "source": [
    "# Correlation of final exam and gender, by course.  Excludes IP courses.\n",
    "\n",
    "print 'Correlation btw final exam average and instructor gender, by course' \n",
    "\n",
    "theCols = evals + ['prof_male','note_cm', 'course_year_int']\n",
    "\n",
    "grouped = datNoIp.groupby(['course_number'])\n",
    "prof_ratings = grouped[theCols].agg(np.mean)\n",
    "nstrat = len(np.unique(prof_ratings['course_year_int']))\n",
    "\n",
    "\n",
    "(t, plow, pupper, pboth, sims) = sim_corr(x = prof_ratings['note_cm'], y = prof_ratings['prof_male'], \\\n",
    "                                          group = prof_ratings['course_year_int'], seed = rs)\n",
    "print 'Overall:'\n",
    "print 'Test statistic (sum of correlations):', t/nstrat\n",
    "print 'One-sided (upper) p-value:', pupper\n",
    "print 'Two-sided p-value:', pboth\n",
    "print 'Number of courses w/ male profs:', prof_ratings['prof_male'].sum()\n",
    "print 'Number of courses w/ female profs:', (1-prof_ratings['prof_male']).sum()\n",
    "print 'Total number of courses:', prof_ratings['prof_male'].size, '\\n'\n",
    "\n",
    "\n",
    "\n",
    "print ('\\n{0:12} {1:8} {2:8} {3:8} {4:8} {5:8} {6:8}'.format('Course', 'Test stat', 'Upper P-value', \\\n",
    "                                                             'Two-sided p-value', '# Male profs', \\\n",
    "                                                             '# Female profs', '# Courses'))\n",
    "for topic in np.unique(datNoIp.course):\n",
    "    perTopic = datNoIp[datNoIp['course']==topic]\n",
    "    grouped = perTopic.groupby(['course_number'])\n",
    "    prof_ratings = grouped[theCols].agg(np.mean)\n",
    "    nstrat = len(np.unique(prof_ratings['course_year_int']))\n",
    "    (t, plow, pupper, pboth, sims) = sim_corr(x = prof_ratings['note_cm'], y = prof_ratings['prof_male'], \n",
    "                                          group = prof_ratings['course_year_int'], seed = rs)\n",
    "    print ('{0:8} {1:12.2f} {2:12.2f} {3:12.2f} {4:12.2f} {5:12.2f} {6:12.2f}'.format( topic, t/nstrat, \\\n",
    "                    pupper, pboth, prof_ratings['prof_male'].sum(), \\\n",
    "                    (1-prof_ratings['prof_male']).sum(),  prof_ratings['prof_male'].size ))"
   ]
  },
  {
   "cell_type": "markdown",
   "metadata": {},
   "source": [
    "### Ratings v grade expectations"
   ]
  },
  {
   "cell_type": "code",
   "execution_count": 16,
   "metadata": {
    "collapsed": false
   },
   "outputs": [
    {
     "name": "stdout",
     "output_type": "stream",
     "text": [
      "Analyzing the correlation btw avg evaluation score and cont assessment, by course number\n",
      "Overall:\n",
      "Test statistic (sum of correlations): 0.159998130832\n",
      "One-sided (upper) p-value: 0.0\n",
      "Number of courses: 1176 \n",
      "\n",
      "\n",
      "Course       Test stat Upper P-value # Courses\n",
      "history          0.32         0.00       224.00\n",
      "ip              -0.02         0.61       227.00\n",
      "macro            0.15         0.01       228.00\n",
      "micro            0.13         0.03       226.00\n",
      "scpo             0.17         0.02       135.00\n",
      "socio            0.24         0.00       136.00\n"
     ]
    }
   ],
   "source": [
    "# Correlation btw avg evaluation score and avg cont assessment grades, by course number. Includes IP\n",
    "print 'Analyzing the correlation btw avg evaluation score and cont assessment, by course number' \n",
    "\n",
    "theCols = evals + ['prof_male','plumTime','note_conf', 'course_year_int']\n",
    "\n",
    "grouped = dat.groupby(['course_number'])\n",
    "prof_ratings = grouped[theCols].agg(np.mean)\n",
    "nstrat = len(np.unique(prof_ratings['course_year_int']))\n",
    "(t, plow, pupper, pboth, sims) = sim_corr(x = prof_ratings['q16'], y = prof_ratings['note_conf'], \n",
    "                                          group = prof_ratings['course_year_int'], seed = rs)\n",
    "print 'Overall:'\n",
    "print 'Test statistic (sum of correlations):', t/nstrat\n",
    "print 'One-sided (upper) p-value:', pupper\n",
    "print 'Number of courses:', prof_ratings['note_conf'].size, '\\n'\n",
    "\n",
    "print ('\\n{0:12} {1:8} {2:8} {3:8}'.format('Course', 'Test stat', 'Upper P-value', '# Courses'))\n",
    "for topic in np.unique(dat.course):\n",
    "    perTopic = dat[dat['course']==topic]\n",
    "    grouped = perTopic.groupby(['course_number'])\n",
    "    prof_ratings = grouped[theCols].agg(np.mean)\n",
    "    nstrat = len(np.unique(prof_ratings['course_year_int']))\n",
    "    (t, plow, pupper, pboth, sims) = sim_corr(x = prof_ratings['q16'], y = prof_ratings['note_conf'], \n",
    "                                          group = prof_ratings['course_year_int'], seed = rs)\n",
    "    print ('{0:8} {1:12.2f} {2:12.2f} {3:12.2f}'.format( topic, t/nstrat, \\\n",
    "                    pupper, prof_ratings['note_conf'].size ))    \n",
    "    "
   ]
  },
  {
   "cell_type": "markdown",
   "metadata": {},
   "source": [
    "### Ratings v instructor gender"
   ]
  },
  {
   "cell_type": "code",
   "execution_count": 17,
   "metadata": {
    "collapsed": false
   },
   "outputs": [
    {
     "name": "stdout",
     "output_type": "stream",
     "text": [
      "Analyzing the correlation btw avg evaluation score and gender, by course\n",
      "Overall:\n",
      "Test statistic (sum of correlations): 0.0948791104821\n",
      "One-sided (upper) p-value: 0.0006\n",
      "Two-sided p-value: 1.9988\n",
      "Number of sections w/ male profs: 807.0\n",
      "Number of sections w/ female profs: 369.0\n",
      "Total number of courses: 1176 \n",
      "\n",
      "\n",
      "Course       Test stat Upper P-value Two-sided p-value # Male profs # Female profs # Sections\n",
      "history          0.11         0.04         1.92       154.00        70.00       224.00\n",
      "ip               0.11         0.05         1.90       182.00        45.00       227.00\n",
      "macro            0.10         0.08         1.84       155.00        73.00       228.00\n",
      "micro            0.09         0.08         1.84       148.00        78.00       226.00\n",
      "scpo             0.04         0.31         1.37        91.00        44.00       135.00\n",
      "socio            0.08         0.17         1.66        77.00        59.00       136.00\n"
     ]
    }
   ],
   "source": [
    "# Correlation of avg evaluation score and gender, by course.  Includes IP courses.\n",
    "\n",
    "print 'Analyzing the correlation btw avg evaluation score and gender, by course' \n",
    "\n",
    "theCols = evals + ['prof_male','plumTime', 'course_year_int']\n",
    "\n",
    "grouped = dat.groupby(['course_number'])\n",
    "prof_ratings = grouped[theCols].agg(np.mean)\n",
    "nstrat = len(np.unique(prof_ratings['course_year_int']))\n",
    "\n",
    "\n",
    "(t, plow, pupper, pboth, sims) = sim_corr(x = prof_ratings['q16'], y = prof_ratings['prof_male'], \n",
    "                                          group = prof_ratings['course_year_int'], seed = rs)\n",
    "print 'Overall:'\n",
    "print 'Test statistic (sum of correlations):', t/nstrat\n",
    "print 'One-sided (upper) p-value:', pupper\n",
    "print 'Two-sided p-value:', pboth\n",
    "print 'Number of sections w/ male profs:', prof_ratings['prof_male'].sum()\n",
    "print 'Number of sections w/ female profs:', (1-prof_ratings['prof_male']).sum()\n",
    "print 'Total number of courses:', prof_ratings['prof_male'].size, '\\n'\n",
    "\n",
    "print ('\\n{0:12} {1:8} {2:8} {3:8} {4:8} {5:8} {6:8}'.format('Course', 'Test stat', 'Upper P-value', \\\n",
    "                                                             'Two-sided p-value', '# Male profs', \\\n",
    "                                                             '# Female profs', '# Sections'))\n",
    "for topic in np.unique(dat.course):\n",
    "    perTopic = dat[dat['course']==topic]\n",
    "    grouped = perTopic.groupby(['course_number'])\n",
    "    prof_ratings = grouped[theCols].agg(np.mean)\n",
    "    nstrat = len(np.unique(prof_ratings['course_year_int']))\n",
    "    (t, plow, pupper, pboth, sims) = sim_corr(x = prof_ratings['q16'], y = prof_ratings['prof_male'], \n",
    "                                              group = prof_ratings['course_year_int'], seed = rs)\n",
    "    print ('{0:8} {1:12.2f} {2:12.2f} {3:12.2f} {4:12.2f} {5:12.2f} {6:12.2f}'.format( topic, t/nstrat, \\\n",
    "                    pupper, pboth, prof_ratings['prof_male'].sum(), \\\n",
    "                    (1-prof_ratings['prof_male']).sum(),  prof_ratings['prof_male'].size ))"
   ]
  },
  {
   "cell_type": "markdown",
   "metadata": {},
   "source": [
    "### Ratings and gender concordance"
   ]
  },
  {
   "cell_type": "code",
   "execution_count": 18,
   "metadata": {
    "collapsed": false
   },
   "outputs": [
    {
     "name": "stdout",
     "output_type": "stream",
     "text": [
      "Male students\n",
      "\n",
      "Overall:\n",
      "Test statistic (sum of correlations): 0.151687047654\n",
      "One-sided (upper) p-value: 0.0\n",
      "Two-sided p-value: 2.0\n",
      "Number of sections with male students: 1176 \n",
      "\n",
      "\n",
      "Course       Test stat Upper P-value Two-sided p-value # Sections\n",
      "history          0.17         0.01         1.99       224.00\n",
      "ip               0.12         0.04         1.92       227.00\n",
      "macro            0.14         0.02         1.96       228.00\n",
      "micro            0.18         0.00         1.99       226.00\n",
      "scpo             0.17         0.03         1.94       135.00\n",
      "socio            0.12         0.08         1.84       136.00\n",
      "\n",
      "\n",
      "Female students\n",
      "\n",
      "Overall:\n",
      "Test statistic (sum of correlations): 0.0506263695185\n",
      "One-sided (upper) p-value: 0.0443\n",
      "Two-sided p-value: 1.9114\n",
      "Number of sections with female students: 1176 \n",
      "\n",
      "\n",
      "Course       Test stat Upper P-value Two-sided p-value # Sections\n",
      "history         -0.03         0.70         0.60       224.00\n",
      "ip              -0.11         0.94         0.12       227.00\n",
      "macro           -0.05         0.75         0.49       228.00\n",
      "micro           -0.00         0.52         0.97       226.00\n",
      "scpo             0.04         0.32         1.36       135.00\n",
      "socio           -0.03         0.62         0.76       136.00\n"
     ]
    }
   ],
   "source": [
    "# Gender concordance v overall satisfaction, grouped by course\n",
    "# This looks at how students rate their profs, by course\n",
    "\n",
    "dMale_stu = dat[dat['stu_male']==1]\n",
    "dFemale_stu = dat[dat['stu_female']==1]\n",
    "\n",
    "theCols = evals + ['prof_male','prof_female','plumTime','note_cm', 'course_year_int']\n",
    "\n",
    "groupedMale = dMale_stu.groupby(['course_number'])\n",
    "groupedFemale = dFemale_stu.groupby(['course_number'])\n",
    "prof_ratings_M = groupedMale[theCols].agg(np.mean)\n",
    "prof_ratings_F = groupedFemale[theCols].agg(np.mean)\n",
    "\n",
    "nstrat = len(np.unique(prof_ratings_M['course_year_int']))\n",
    "(t, plow, pupper, pboth, sims) = sim_corr(x = prof_ratings_M['q16'], y = prof_ratings_M['prof_male'], \n",
    "                                          group = prof_ratings_M['course_year_int'], seed = rs)\n",
    "print 'Male students\\n'\n",
    "print 'Overall:'\n",
    "print 'Test statistic (sum of correlations):', t/nstrat\n",
    "print 'One-sided (upper) p-value:', pupper\n",
    "print 'Two-sided p-value:', pboth\n",
    "print 'Number of sections with male students:', prof_ratings_M['prof_male'].size, '\\n'\n",
    "\n",
    "print ('\\n{0:12} {1:8} {2:8} {3:8} {4:8}'.format('Course', 'Test stat', 'Upper P-value', \\\n",
    "                                                             'Two-sided p-value', '# Sections'))\n",
    "for topic in np.unique(dMale_stu['course']):\n",
    "    perTopic = dMale_stu[dMale_stu['course']==topic]\n",
    "    grouped = perTopic.groupby(['course_number'])\n",
    "    prof_ratings = grouped[theCols].agg(np.mean)\n",
    "    nstrat = len(np.unique(prof_ratings['course_year_int']))\n",
    "    (t, plow, pupper, pboth, sims) = sim_corr(x = prof_ratings['q16'], y = prof_ratings['prof_male'], \n",
    "                                              group = prof_ratings['course_year_int'], seed = rs)\n",
    "    print ('{0:8} {1:12.2f} {2:12.2f} {3:12.2f} {4:12.2f}'.format( topic, t/nstrat, \\\n",
    "                    pupper, pboth, prof_ratings['prof_male'].size ))\n",
    "\n",
    "print '\\n\\nFemale students\\n'\n",
    "nstrat = len(np.unique(prof_ratings_F['course_year_int']))\n",
    "(t, plow, pupper, pboth, sims) = sim_corr(x = prof_ratings_F['note_cm'], y = prof_ratings_F['prof_female'],\\\n",
    "                                      group = prof_ratings_F['course_year_int'], seed = rs)\n",
    "print 'Overall:'\n",
    "print 'Test statistic (sum of correlations):', t/nstrat\n",
    "print 'One-sided (upper) p-value:', pupper\n",
    "print 'Two-sided p-value:', pboth\n",
    "print 'Number of sections with female students:', prof_ratings_F['prof_female'].size, '\\n'\n",
    "\n",
    "print ('\\n{0:12} {1:8} {2:8} {3:8} {4:8}'.format('Course', 'Test stat', 'Upper P-value', \\\n",
    "                                                             'Two-sided p-value', '# Sections'))\n",
    "for topic in np.unique(dFemale_stu['course']):\n",
    "    perTopic = dFemale_stu[dFemale_stu['course']==topic]\n",
    "    grouped = perTopic.groupby(['course_number'])\n",
    "    prof_ratings = grouped[theCols].agg(np.mean)\n",
    "    nstrat = len(np.unique(prof_ratings['course_year_int']))\n",
    "    (t, plow, pupper, pboth, sims) = sim_corr(x = prof_ratings['q16'], y = prof_ratings['prof_female'], \n",
    "                                              group = prof_ratings['course_year_int'], seed = rs)\n",
    "    print ('{0:8} {1:12.2f} {2:12.2f} {3:12.2f} {4:12.2f}'.format( topic, t/nstrat, \\\n",
    "                    pupper, pboth, prof_ratings['prof_female'].size ))"
   ]
  },
  {
   "cell_type": "markdown",
   "metadata": {},
   "source": [
    "### Student performance and gender concordance"
   ]
  },
  {
   "cell_type": "code",
   "execution_count": 19,
   "metadata": {
    "collapsed": false
   },
   "outputs": [
    {
     "name": "stdout",
     "output_type": "stream",
     "text": [
      "Male students\n",
      "\n",
      "Overall:\n",
      "Test statistic (sum of correlations): -0.0103353851032\n",
      "One-sided (upper) p-value: 0.6244\n",
      "Two-sided p-value: 0.7512\n",
      "Number of sections with male students: 949 \n",
      "\n",
      "\n",
      "Course       Test stat Upper P-value Two-sided p-value # Sections\n",
      "history         -0.15         0.98         0.03       224.00\n",
      "macro            0.04         0.30         1.40       228.00\n",
      "micro            0.02         0.40         1.20       226.00\n",
      "scpo             0.08         0.18         1.63       135.00\n",
      "socio            0.01         0.47         1.06       136.00\n",
      "\n",
      "\n",
      "Female students \n",
      "\n",
      "Overall:\n",
      "Test statistic (sum of correlations): 0.0619652244491\n",
      "One-sided (upper) p-value: 0.0334\n",
      "Two-sided p-value: 1.9332\n",
      "Number of sections with female students: 949 \n",
      "\n",
      "\n",
      "Course       Test stat Upper P-value Two-sided p-value # Sections\n",
      "history         -0.02         0.63         0.74       224.00\n",
      "macro            0.11         0.05         1.90       228.00\n",
      "micro            0.07         0.14         1.71       226.00\n",
      "scpo             0.11         0.11         1.77       135.00\n",
      "socio            0.06         0.23         1.53       136.00\n"
     ]
    }
   ],
   "source": [
    "# Gender concordance v final exam scores, grouped by course. Excludes IP\n",
    "\n",
    "dMale_stu = datNoIp[datNoIp['stu_male']==1]\n",
    "dFemale_stu = datNoIp[datNoIp['stu_female']==1]\n",
    "\n",
    "theCols = evals + ['prof_male','prof_female','plumTime','note_cm', 'course_year_int']\n",
    "\n",
    "groupedMale = dMale_stu.groupby(['course_number'])\n",
    "groupedFemale = dFemale_stu.groupby(['course_number'])\n",
    "prof_ratings_M = groupedMale[theCols].agg(np.mean)\n",
    "prof_ratings_F = groupedFemale[theCols].agg(np.mean)\n",
    "\n",
    "nstrat = len(np.unique(prof_ratings_M['course_year_int']))\n",
    "(t, plow, pupper, pboth, sims) = sim_corr(x = prof_ratings_M['note_cm'], y = prof_ratings_M['prof_male'], \n",
    "                                          group = prof_ratings_M['course_year_int'], seed = rs)\n",
    "print 'Male students\\n'\n",
    "print 'Overall:'\n",
    "print 'Test statistic (sum of correlations):', t/nstrat\n",
    "print 'One-sided (upper) p-value:', pupper\n",
    "print 'Two-sided p-value:', pboth\n",
    "print 'Number of sections with male students:', prof_ratings_M['prof_male'].size, '\\n'\n",
    "\n",
    "print ('\\n{0:12} {1:8} {2:8} {3:8} {4:8}'.format('Course', 'Test stat', 'Upper P-value', \\\n",
    "                                                             'Two-sided p-value', '# Sections'))\n",
    "    \n",
    "for topic in np.unique(dMale_stu['course']):\n",
    "    perTopic = dMale_stu[dMale_stu['course']==topic]\n",
    "    grouped = perTopic.groupby(['course_number'])\n",
    "    prof_ratings = grouped[theCols].agg(np.mean)\n",
    "    nstrat = len(np.unique(prof_ratings['course_year_int']))\n",
    "    (t, plow, pupper, pboth, sims) = sim_corr(x = prof_ratings['note_cm'], y = prof_ratings['prof_male'], \n",
    "                                              group = prof_ratings['course_year_int'], seed = rs)\n",
    "    print ('{0:8} {1:12.2f} {2:12.2f} {3:12.2f} {4:12.2f}'.format( topic, t/nstrat, \\\n",
    "                    pupper, pboth, prof_ratings['prof_male'].size ))\n",
    "    \n",
    "    \n",
    "print '\\n\\nFemale students \\n'\n",
    "nstrat = len(np.unique(prof_ratings_F['course_year_int']))\n",
    "(t, plow, pupper, pboth, sims) = sim_corr(x = prof_ratings_F['note_cm'], y = prof_ratings_F['prof_female'], \n",
    "                                          group = prof_ratings_F['course_year_int'], seed = rs)\n",
    "print 'Overall:'\n",
    "print 'Test statistic (sum of correlations):', t/nstrat\n",
    "print 'One-sided (upper) p-value:', pupper\n",
    "print 'Two-sided p-value:', pboth\n",
    "print 'Number of sections with female students:', prof_ratings_F['prof_female'].size, '\\n'\n",
    "\n",
    "print ('\\n{0:12} {1:8} {2:8} {3:8} {4:8}'.format('Course', 'Test stat', 'Upper P-value', \\\n",
    "                                                             'Two-sided p-value', '# Sections'))\n",
    "\n",
    "for topic in np.unique(dFemale_stu['course']):\n",
    "    perTopic = dFemale_stu[dFemale_stu['course']==topic]\n",
    "    grouped = perTopic.groupby(['course_number'])\n",
    "    prof_ratings = grouped[theCols].agg(np.mean)\n",
    "    nstrat = len(np.unique(prof_ratings['course_year_int']))\n",
    "    (t, plow, pupper, pboth, sims) = sim_corr(x = prof_ratings['note_cm'], y = prof_ratings['prof_female'], \n",
    "                                              group = prof_ratings['course_year_int'], seed = rs)\n",
    "    print ('{0:8} {1:12.2f} {2:12.2f} {3:12.2f} {4:12.2f}'.format( topic, t/nstrat, \\\n",
    "                    pupper, pboth, prof_ratings['prof_female'].size ))"
   ]
  },
  {
   "cell_type": "markdown",
   "metadata": {},
   "source": [
    "### Association between evaluation scores and class meeting time"
   ]
  },
  {
   "cell_type": "code",
   "execution_count": 20,
   "metadata": {
    "collapsed": false
   },
   "outputs": [
    {
     "name": "stdout",
     "output_type": "stream",
     "text": [
      "Analyzing the correlation btw avg evaluation score and desirable time, by course\n",
      "Overall:\n",
      "Test statistic (sum of correlations): 0.0164860207962\n",
      "One-sided (upper) p-value: 0.2953\n",
      "Two-sided p-value: 1.4094\n",
      "Number of sections with desirable times: 432\n",
      "Number of sections with undesirable times: 744\n",
      "Total number of sections: 1176 \n",
      "\n",
      "\n",
      "Course       Test stat Upper P-value Two-sided p-value # Sections\n",
      "history          0.01         0.42         1.15       224.00\n",
      "ip              -0.06         0.84         0.33       227.00\n",
      "macro            0.02         0.36         1.28       228.00\n",
      "micro            0.01         0.43         1.14       226.00\n",
      "scpo            -0.00         0.50         0.99       135.00\n",
      "socio            0.17         0.03         1.94       136.00\n"
     ]
    }
   ],
   "source": [
    "# Correlation of avg evaluation score and desirable time, by course. Includes IP courses\n",
    "print 'Analyzing the correlation btw avg evaluation score and desirable time, by course' \n",
    "\n",
    "theCols = evals + ['prof_male','plumTime', 'course_year_int']\n",
    "\n",
    "grouped = dat.groupby(['course_number'])\n",
    "prof_ratings = grouped[theCols].agg(np.mean)\n",
    "nstrat = len(np.unique(prof_ratings['course_year_int']))\n",
    "(t, plow, pupper, pboth, sims) = sim_corr(x = prof_ratings['q16'], y = prof_ratings['plumTime'], \n",
    "                                          group = prof_ratings['course_year_int'], seed = rs)\n",
    "print 'Overall:'\n",
    "print 'Test statistic (sum of correlations):', t/nstrat\n",
    "print 'One-sided (upper) p-value:', pupper\n",
    "print 'Two-sided p-value:', pboth\n",
    "print 'Number of sections with desirable times:', prof_ratings['plumTime'].sum()\n",
    "print 'Number of sections with undesirable times:', (1-prof_ratings['plumTime']).sum()\n",
    "print 'Total number of sections:', prof_ratings['plumTime'].size, '\\n'\n",
    "\n",
    "\n",
    "print ('\\n{0:12} {1:8} {2:8} {3:8} {4:8}'.format('Course', 'Test stat', 'Upper P-value', \\\n",
    "                                                             'Two-sided p-value', '# Sections'))\n",
    "for topic in np.unique(dat.course):\n",
    "    perTopic = dat[dat['course']==topic]\n",
    "    grouped = perTopic.groupby(['course_number'])\n",
    "    prof_ratings = grouped[theCols].agg(np.mean)\n",
    "    nstrat = len(np.unique(prof_ratings['course_year_int']))\n",
    "    (t, plow, pupper, pboth, sims) = sim_corr(x = prof_ratings['q16'], y = prof_ratings['plumTime'], \n",
    "                                              group = prof_ratings['course_year_int'], seed = rs)\n",
    "    print ('{0:8} {1:12.2f} {2:12.2f} {3:12.2f} {4:12.2f}'.format( topic, t/nstrat, \\\n",
    "                    pupper, pboth, prof_ratings['plumTime'].size ))"
   ]
  },
  {
   "cell_type": "markdown",
   "metadata": {},
   "source": [
    "### Reliability, self-declared investment in a course"
   ]
  },
  {
   "cell_type": "code",
   "execution_count": 21,
   "metadata": {
    "collapsed": false
   },
   "outputs": [
    {
     "data": {
      "text/plain": [
       "(array([   54.,   617.,  5277.,  6479.,  3822.,  1275.]),\n",
       " array([ 4.        ,  4.83333333,  5.66666667,  6.5       ,  7.33333333,\n",
       "         8.16666667,  9.        ]),\n",
       " <a list of 6 Patch objects>)"
      ]
     },
     "execution_count": 21,
     "metadata": {},
     "output_type": "execute_result"
    },
    {
     "data": {
      "image/png": "[encoded data removed]",
      "text/plain": [
       "<matplotlib.figure.Figure at 0x1f92a588>"
      ]
     },
     "metadata": {},
     "output_type": "display_data"
    }
   ],
   "source": [
    "# dat with IP => to test for reliability on q10 (student self-assessed involvment in the course)\n",
    "\n",
    "wrkld=dat[dat['three_evals']==1]['sum_q10']\n",
    "plt.hist (wrkld.values, bins=6)"
   ]
  },
  {
   "cell_type": "markdown",
   "metadata": {},
   "source": [
    "# Other analyses, not in paper"
   ]
  },
  {
   "cell_type": "markdown",
   "metadata": {},
   "source": [
    "### Instructor gender and student performance, student level"
   ]
  },
  {
   "cell_type": "code",
   "execution_count": 44,
   "metadata": {
    "collapsed": false
   },
   "outputs": [
    {
     "name": "stdout",
     "output_type": "stream",
     "text": [
      "Student-level association between instructor gender and performance: -56.8312804995 0.03 0.97 0.06\n"
     ]
    }
   ],
   "source": [
    "# remove students who took triads from instructors all of the same gender or who have missing final grades.\n",
    "# Since this uses final exams, remove IP courses\n",
    "\n",
    "datNonzeroVar = datNoIp.copy()\n",
    "for g in np.unique(dat['student_id']):\n",
    "    gg = dat['student_id'] == g\n",
    "    if (np.var(datNoIp['note_cm'][gg]) == 0.0) or (np.var(datNoIp['prof_male'][gg]) == 0.0) or \\\n",
    "        np.any(np.isnan(datNoIp['note_cm'][gg])):\n",
    "        datNonzeroVar = datNonzeroVar.drop(datNonzeroVar[datNonzeroVar['student_id'] == g].index)\n",
    "\n",
    "(t, plower, pupper, pboth, sims) = sim_corr(x = datNonzeroVar[~np.isnan(datNonzeroVar['note_cm'])]['prof_male'],\\\n",
    "                                    y = datNonzeroVar[~np.isnan(datNonzeroVar['note_cm'])]['note_cm'],\\\n",
    "                                    group = datNonzeroVar[~np.isnan(datNonzeroVar['note_cm'])]['student_id'],\\\n",
    "                                    seed = rs)\n",
    "                                           \n",
    "print 'Student-level association between instructor gender and performance:', t, plower, pupper, pboth"
   ]
  },
  {
   "cell_type": "markdown",
   "metadata": {},
   "source": [
    "### Association between instructors' average ratings and average continuous assessment grades, by teacher id"
   ]
  },
  {
   "cell_type": "code",
   "execution_count": 45,
   "metadata": {
    "collapsed": false
   },
   "outputs": [
    {
     "name": "stdout",
     "output_type": "stream",
     "text": [
      "Analyzing the correlation btw avg evaluation score and cont assessment, by instructor\n",
      "overall nan 0.0 372 \n",
      "\n",
      "history nan 0.0 70\n",
      "ip nan 0.0 64\n",
      "macro nan 0.0 92\n",
      "micro nan 0.0 94\n",
      "scpo nan 0.0 48\n",
      "socio nan 0.0 56\n"
     ]
    }
   ],
   "source": [
    "# Correlation of avg evaluation score and avg cont assessment grades, by instructor. \n",
    "# Includes IP courses\n",
    "\n",
    "print 'Analyzing the correlation btw avg evaluation score and cont assessment, by instructor' \n",
    "\n",
    "theCols = evals + ['prof_male','plumTime','note_conf', 'course_year_int']\n",
    "\n",
    "grouped = dat.groupby(['prof_id'])\n",
    "prof_ratings = grouped[theCols].agg(np.mean)\n",
    "nstrat = len(np.unique(prof_ratings['course_year_int']))\n",
    "(t, plow, pupper, pboth, sims) = sim_corr(x = prof_ratings['q16'], y = prof_ratings['note_conf'], \n",
    "                                          group = prof_ratings['course_year_int'], seed = rs)\n",
    "print 'overall', t/nstrat, pupper,\\\n",
    "       prof_ratings['note_conf'].size, '\\n'\n",
    "\n",
    "for topic in np.unique(dat.course):\n",
    "    perTopic = dat[dat['course']==topic]\n",
    "    grouped = perTopic.groupby(['prof_id'])\n",
    "    prof_ratings = grouped[theCols].agg(np.mean)\n",
    "    nstrat = len(np.unique(prof_ratings['course_year_int']))\n",
    "    (t, plow, pupper, pboth, sims) = sim_corr(x = prof_ratings['q16'], y = prof_ratings['note_conf'], \n",
    "                                              group = prof_ratings['course_year_int'], seed = rs)\n",
    "    print topic, t/nstrat, pupper, prof_ratings['note_conf'].size\n",
    "    \n",
    "    "
   ]
  },
  {
   "cell_type": "markdown",
   "metadata": {},
   "source": [
    "### Association between concordance of student and teacher genders and overall satisfaction"
   ]
  },
  {
   "cell_type": "code",
   "execution_count": 46,
   "metadata": {
    "collapsed": false
   },
   "outputs": [
    {
     "name": "stdout",
     "output_type": "stream",
     "text": [
      "Correlation of concordance of student and teacher genders and overall satisfaction\n",
      "Male instructors: 0.0744207697344 0.0\n",
      "Female instructors: 0.00411742685134 0.3733\n"
     ]
    }
   ],
   "source": [
    "# Correlation of concordance of student and teacher genders and overall satisfaction. Includes IP courses.\n",
    "print 'Correlation of concordance of student and teacher genders and overall satisfaction'\n",
    "# Male instructors first\n",
    "\n",
    "dMale = dat[dat['prof_male']==1]\n",
    "dFemale = dat[dat['prof_female']==1]\n",
    "\n",
    "nstrat = len(np.unique(dMale['course_year_int']))\n",
    "(t, plow, pupper, pboth, sims) = sim_corr(x=dMale['q16'], y=dMale['stu_male'], \n",
    "                                          group = dMale['course_year_int'], seed=rs)\n",
    "print 'Male instructors:', t/nstrat, pupper\n",
    "\n",
    "# Female instructors\n",
    "nstrat = len(np.unique(dFemale['course_year_int']))\n",
    "(t, plow, pupper, pboth, sims) = sim_corr(x = dFemale['q16'], y = dFemale['stu_female'], \n",
    "                                      group = dFemale['course_year_int'], seed=rs)\n",
    "print 'Female instructors:', t/nstrat, pupper"
   ]
  },
  {
   "cell_type": "markdown",
   "metadata": {
    "collapsed": true
   },
   "source": [
    "### Dimensions of teaching analyses"
   ]
  },
  {
   "cell_type": "code",
   "execution_count": 47,
   "metadata": {
    "collapsed": false
   },
   "outputs": [
    {
     "name": "stdout",
     "output_type": "stream",
     "text": [
      "Analyzing the correlation btw teaching dimension scores and final exam grade, by course number\n",
      "overall 0.00470281210582 0.4427 949 \n",
      "\n",
      "history 0.0532603389894 0.2163 224\n",
      "macro 0.0258851241021 0.3525 228\n",
      "micro -0.0527115355275 0.7752 226\n",
      "scpo 0.0228422426984 0.4058 135\n",
      "socio -0.0339791038978 0.6444 136\n"
     ]
    }
   ],
   "source": [
    "# Correlation of avg teaching dimension scores and final exam grade, by course number.\n",
    "# Excludes IP.\n",
    "print 'Analyzing the correlation btw teaching dimension scores and final exam grade, by course number' \n",
    "\n",
    "theCols = evals + ['prof_male','plumTime','note_cm', 'course_year_int']\n",
    "\n",
    "grouped = datNoIp.groupby(['course_number'])\n",
    "prof_ratings = grouped[theCols].agg(np.mean)\n",
    "nstrat = len(np.unique(prof_ratings['course_year_int']))\n",
    "(t, plow, pupper, pboth, sims) = sim_corr(x = prof_ratings['q5'], y = prof_ratings['note_cm'], \n",
    "                                          group = prof_ratings['course_year_int'], seed = rs)\n",
    "print 'overall', t/nstrat, pupper,\\\n",
    "       prof_ratings['note_cm'].size, '\\n'\n",
    "\n",
    "for topic in np.unique(datNoIp.course):\n",
    "    perTopic = datNoIp[datNoIp['course']==topic]\n",
    "    grouped = perTopic.groupby(['course_number'])\n",
    "    prof_ratings = grouped[theCols].agg(np.mean)\n",
    "    nstrat = len(np.unique(prof_ratings['course_year_int']))\n",
    "    (t, plow, pupper, pboth, sims) = sim_corr(x = prof_ratings['q5'], y = prof_ratings['note_cm'],\n",
    "                                          group = prof_ratings['course_year_int'], seed = rs)\n",
    "\n",
    "    print topic, t/nstrat, pupper, prof_ratings['note_cm'].size\n",
    "    \n",
    "    "
   ]
  },
  {
   "cell_type": "code",
   "execution_count": 48,
   "metadata": {
    "collapsed": false
   },
   "outputs": [
    {
     "name": "stdout",
     "output_type": "stream",
     "text": [
      "Analyzing the correlation btw teaching dimension scores and final exam grade, by course number\n",
      "overall 0.00470281210582 0.4422 949 \n",
      "\n",
      "history 0.0532603389894 0.2124 224\n",
      "macro 0.0258851241021 0.3537 228\n",
      "micro -0.0527115355275 0.7828 226\n",
      "scpo 0.0228422426984 0.3905 135\n",
      "socio -0.0339791038978 0.65 136\n"
     ]
    }
   ],
   "source": [
    "# Correlation of avg teaching dimension scores and final exam grade, by course number.\n",
    "# Since this uses final, omit IP courses\n",
    "\n",
    "print 'Analyzing the correlation btw teaching dimension scores and final exam grade, by course number' \n",
    "\n",
    "theCols = evals + ['prof_male','plumTime','note_cm', 'course_year_int']\n",
    "\n",
    "grouped = datNoIp.groupby(['course_number'])\n",
    "prof_ratings = grouped[theCols].agg(np.mean)\n",
    "nstrat = len(np.unique(prof_ratings['course_year_int']))\n",
    "(t, plow, pupper, pboth, sims) = sim_corr(x = prof_ratings['q5'], y = prof_ratings['note_cm'], \n",
    "                                          group = prof_ratings['course_year_int'], seed = rs)\n",
    "\n",
    "print 'overall', t/nstrat, pupper,\\\n",
    "       prof_ratings['note_cm'].size, '\\n'\n",
    "\n",
    "for topic in np.unique(datNoIp.course):\n",
    "    perTopic = datNoIp[datNoIp['course']==topic]\n",
    "    grouped = perTopic.groupby(['course_number'])\n",
    "    prof_ratings = grouped[theCols].agg(np.mean)\n",
    "    nstrat = len(np.unique(prof_ratings['course_year_int']))\n",
    "    (t, plow, pupper, pboth, sims) = sim_corr(x = prof_ratings['q5'], y = prof_ratings['note_cm'], \n",
    "                                              group = prof_ratings['course_year_int'], seed = rs)\n",
    "    print topic, t/nstrat, pupper, prof_ratings['note_cm'].size"
   ]
  },
  {
   "cell_type": "markdown",
   "metadata": {
    "collapsed": true
   },
   "source": [
    "### Gender concordance analyses"
   ]
  },
  {
   "cell_type": "code",
   "execution_count": 49,
   "metadata": {
    "collapsed": false
   },
   "outputs": [
    {
     "name": "stdout",
     "output_type": "stream",
     "text": [
      "Concordance of genders v continuous assessment, male instructors: -0.000531199781991 0.5258\n",
      "Concordance of genders v continuous assessment, female instructors: 0.0325117445597 0.0064\n"
     ]
    }
   ],
   "source": [
    "# Gender concordance v continuous assessment grade. Include IP. \n",
    "# This looks at how profs are rated by students.\n",
    "\n",
    "dMale = dat[dat['prof_male']==1]\n",
    "dMale = dMale[~np.isnan(dMale['note_conf'])]\n",
    "              \n",
    "dFemale = dat[dat['prof_female']==1]\n",
    "dFemale = dFemale[~np.isnan(dFemale['note_conf'])]\n",
    "\n",
    "nstrat = len(np.unique(dMale['course_year_int']))\n",
    "(t, plow, pupper, pboth, sims) = sim_corr(x=dMale['note_conf'], y=dMale['stu_male'], \n",
    "                                          group = dMale['course_year_int'], seed=rs)\n",
    "print 'Concordance of genders v continuous assessment, male instructors:', t/nstrat, pupper\n",
    "\n",
    "nstrat = len(np.unique(dFemale['course_year_int']))\n",
    "(t, plow, pupper, pboth, sims) = sim_corr(x=dFemale['note_conf'], y=dFemale['stu_female'],\n",
    "                                          group = dFemale['course_year_int'], seed=rs)\n",
    "print 'Concordance of genders v continuous assessment, female instructors:', t/nstrat, pupper"
   ]
  },
  {
   "cell_type": "code",
   "execution_count": 50,
   "metadata": {
    "collapsed": false
   },
   "outputs": [
    {
     "name": "stdout",
     "output_type": "stream",
     "text": [
      "Gender concordance v. preparation and organization, male instructors: 0.0360380290252 0.0\n",
      "Gender concordance v. preparation and organization, female instructors: 0.0173870122473 0.096\n"
     ]
    }
   ],
   "source": [
    "# Gender concordance v preparation & organization. Includes IP courses.\n",
    "# This looks at how profs are rated by students.\n",
    "\n",
    "# redundant, but safe:\n",
    "dMale = dat[dat['prof_male']==1]\n",
    "dMale = dMale[~np.isnan(dMale['q1'])]  # note! need to re-set in following analyses\n",
    "\n",
    "dFemale = dat[dat['prof_female']==1]\n",
    "dFemale = dFemale[~np.isnan(dFemale['q1'])]  # note! need to re-set in following analyses\n",
    "\n",
    "# Male instructors\n",
    "nstrat = len(np.unique(dMale['course_year_int']))\n",
    "(t, plow, pupper, pboth, sims) = sim_corr(x=dMale['q1'], y=dMale['stu_male'], \n",
    "                                          group = dMale['course_year_int'], seed=rs)\n",
    "print 'Gender concordance v. preparation and organization, male instructors:', t/nstrat, pupper\n",
    "\n",
    "# Female instructors\n",
    "nstrat = len(np.unique(dFemale['course_year_int']))\n",
    "(t, plow, pupper, pboth, sims) = sim_corr(x=dFemale['q1'], y=dFemale['stu_female'], \n",
    "                                          group = dFemale['course_year_int'], seed=rs)\n",
    "print 'Gender concordance v. preparation and organization, female instructors:', t/nstrat, pupper"
   ]
  },
  {
   "cell_type": "code",
   "execution_count": 51,
   "metadata": {
    "collapsed": false
   },
   "outputs": [
    {
     "name": "stdout",
     "output_type": "stream",
     "text": [
      "Gender concordance v. preparation and organization, male instructors: 0.0253904492992 0.0011\n",
      "Gender concordance v. preparation and organization, female instructors: 0.030061472493 0.0131\n"
     ]
    }
   ],
   "source": [
    "# Gender concordance v quality of instructional material. Includes IP courses.\n",
    "# This looks at how profs are rated by students.\n",
    "\n",
    "# redundant, but safe:\n",
    "dMale = dat[dat['prof_male']==1]\n",
    "dMale = dMale[~np.isnan(dMale['q2'])]  # note! need to re-set in following analyses\n",
    "\n",
    "dFemale = dat[dat['prof_female']==1]\n",
    "dFemale = dFemale[~np.isnan(dFemale['q2'])]  # note! need to re-set in following analyses\n",
    "\n",
    "# Male instructors\n",
    "nstrat = len(np.unique(dMale['course_year_int']))\n",
    "(t, plow, pupper, pboth, sims) = sim_corr(x=dMale['q2'], y=dMale['stu_male'], \n",
    "                                          group = dMale['course_year_int'], seed=rs)\n",
    "print 'Gender concordance v. preparation and organization, male instructors:', t/nstrat, pupper\n",
    "\n",
    "# Female instructors\n",
    "nstrat = len(np.unique(dFemale['course_year_int']))\n",
    "(t, plow, pupper, pboth, sims) = sim_corr(x=dFemale['q2'], y=dFemale['stu_female'], \n",
    "                                          group = dFemale['course_year_int'], seed=rs)\n",
    "print 'Gender concordance v. preparation and organization, female instructors:', t/nstrat, pupper"
   ]
  },
  {
   "cell_type": "code",
   "execution_count": 52,
   "metadata": {
    "collapsed": false
   },
   "outputs": [
    {
     "name": "stdout",
     "output_type": "stream",
     "text": [
      "Gender concordance v animation, male instructors: 0.04067269344 0.0\n",
      "Gender concordance v animation, female instructors: 0.0212001542454 0.0539\n"
     ]
    }
   ],
   "source": [
    "# Gender concordance v quality of animation. Includes IP courses\n",
    "# This looks at how profs are rated by students.\n",
    "\n",
    "dMale = dat[dat['prof_male']==1]\n",
    "dMale = dMale[~np.isnan(dMale['q5'])]\n",
    "              \n",
    "dFemale = dat[dat['prof_female']==1]\n",
    "dFemale = dFemale[~np.isnan(dFemale['q5'])]\n",
    "\n",
    "nstrat = len(np.unique(dMale['course_year_int']))\n",
    "(t, plow, pupper, pboth, sims) = sim_corr(x=dMale['q5'], y=dMale['stu_male'], \n",
    "                                          group = dMale['course_year_int'], seed=rs)\n",
    "print 'Gender concordance v animation, male instructors:', t/nstrat, pupper\n",
    "\n",
    "nstrat = len(np.unique(dFemale['course_year_int']))\n",
    "(t, plow, pupper, pboth, sims) = sim_corr(x=dFemale['q5'], y=dFemale['stu_female'], \n",
    "                                      group = dFemale['course_year_int'], seed=rs)\n",
    "print 'Gender concordance v animation, female instructors:', t/nstrat, pupper"
   ]
  },
  {
   "cell_type": "markdown",
   "metadata": {
    "collapsed": true
   },
   "source": [
    "### Differences in continuous assessment and final exam grades analyses"
   ]
  },
  {
   "cell_type": "code",
   "execution_count": 53,
   "metadata": {
    "collapsed": false
   },
   "outputs": [
    {
     "name": "stdout",
     "output_type": "stream",
     "text": [
      "Avg evaluation score v difference btw continuous assessment & final grade, by course number\n",
      "overall -0.0885799982605 0.9969 949 \n",
      "\n",
      "history -0.0628540759996 0.8228 224\n",
      "macro -0.026706636269 0.6441 228\n",
      "micro -0.0884152698625 0.9025 226\n",
      "scpo -0.142600088517 0.9498 135\n",
      "socio -0.180833262421 0.9814 136\n"
     ]
    }
   ],
   "source": [
    "# Correlation btw avg evaluation score and difference btw continuous assessment and final grade, by course number\n",
    "# Exclude IP courses\n",
    "print 'Avg evaluation score v difference btw continuous assessment & final grade, by course number' \n",
    "\n",
    "theCols = evals + ['prof_male','plumTime','note_cm', 'diff_final_cont', 'course_year_int']\n",
    "\n",
    "grouped = datNoIp.groupby(['course_number'])\n",
    "prof_ratings = grouped[theCols].agg(np.mean)\n",
    "nstrat = len(np.unique(prof_ratings['course_year_int']))\n",
    "(t, plow, pupper, pboth, sims) = sim_corr(x = prof_ratings['q16'], y = prof_ratings['diff_final_cont'], \n",
    "                                          group = prof_ratings['course_year_int'], seed = rs)\n",
    "print 'overall', t/nstrat, pupper,\\\n",
    "       prof_ratings['diff_final_cont'].size, '\\n'\n",
    "\n",
    "for topic in np.unique(datNoIp.course):\n",
    "    perTopic = datNoIp[datNoIp['course']==topic]\n",
    "    grouped = perTopic.groupby(['course_number'])\n",
    "    prof_ratings = grouped[theCols].agg(np.mean)\n",
    "    nstrat = len(np.unique(prof_ratings['course_year_int']))\n",
    "    (t, plow, pupper, pboth, sims) = sim_corr(x = prof_ratings['q16'], y = prof_ratings['diff_final_cont'], \n",
    "                                              group = prof_ratings['course_year_int'], seed = rs)\n",
    "    print topic, t/nstrat, pupper, prof_ratings['diff_final_cont'].size "
   ]
  },
  {
   "cell_type": "code",
   "execution_count": 54,
   "metadata": {
    "collapsed": false
   },
   "outputs": [
    {
     "name": "stdout",
     "output_type": "stream",
     "text": [
      "Gender concordance v difference btw continuous assessment and final grade, male instructors: 0.166288640046 0.2258\n",
      "Gender concordance v difference btw continuous assessment and final grade, female instructors: -0.0190787582296 0.9196\n"
     ]
    }
   ],
   "source": [
    "# Gender concordance v and difference btw continuous assessment and final grade. Includes IP courses\n",
    "# This looks at how profs grade students compared to their actual level.\n",
    "\n",
    "dMale = dat[dat['prof_male']==1]\n",
    "dMale = dMale[~np.isnan(dMale['diff_final_cont'])]\n",
    "              \n",
    "dFemale = dat[dat['prof_female']==1]\n",
    "dFemale = dFemale[~np.isnan(dFemale['diff_final_cont'])]\n",
    "\n",
    "nstrat = len(np.unique(dMale['course_year_int']))\n",
    "(t, plow, pupper, pboth, sims) = sim_corr(x=dMale['diff_final_cont'], y=dMale['stu_male'], \n",
    "                                          group = dMale['course_year_int'], seed=rs)\n",
    "print 'Gender concordance v difference btw continuous assessment and final grade, male instructors:', t, pupper\n",
    "\n",
    "nstrat = len(np.unique(dFemale['course_year_int']))\n",
    "(t, plow, pupper, pboth, sims) = sim_corr(x=dFemale['diff_final_cont'], y=dFemale['stu_female'], \n",
    "                                          group = dFemale['course_year_int'], seed=rs)\n",
    "print 'Gender concordance v difference btw continuous assessment and final grade, female instructors:', \\\n",
    "    t/nstrat, pupper"
   ]
  },
  {
   "cell_type": "code",
   "execution_count": null,
   "metadata": {
    "collapsed": true
   },
   "outputs": [],
   "source": []
  },
  {
   "cell_type": "code",
   "execution_count": null,
   "metadata": {
    "collapsed": true
   },
   "outputs": [],
   "source": []
  },
  {
   "cell_type": "code",
   "execution_count": null,
   "metadata": {
    "collapsed": true
   },
   "outputs": [],
   "source": []
  }
 ],
 "metadata": {
  "kernelspec": {
   "display_name": "Python 2",
   "language": "python",
   "name": "python2"
  },
  "language_info": {
   "codemirror_mode": {
    "name": "ipython",
    "version": 2
   },
   "file_extension": ".py",
   "mimetype": "text/x-python",
   "name": "python",
   "nbconvert_exporter": "python",
   "pygments_lexer": "ipython2",
   "version": "2.7.11"
  }
 },
 "nbformat": 4,
 "nbformat_minor": 0
}
