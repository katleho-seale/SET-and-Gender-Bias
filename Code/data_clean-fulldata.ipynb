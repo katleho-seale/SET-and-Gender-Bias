{
 "cells": [
  {
   "cell_type": "markdown",
   "metadata": {},
   "source": [
    "Gender Biases in Student Evaluations of Teachers\n",
    "====================================================\n"
   ]
  },
  {
   "cell_type": "code",
   "execution_count": 1,
   "metadata": {
    "collapsed": false
   },
   "outputs": [],
   "source": [
    "# boilerplate\n",
    "%matplotlib inline\n",
    "import math\n",
    "import numpy as np\n",
    "import pandas as pd\n",
    "from numpy.random import random\n",
    "import scipy as sp\n",
    "from scipy import special\n",
    "import matplotlib.pyplot as plt\n",
    "from __future__ import division\n",
    "\n",
    "# initialize PRNG\n",
    "rs = np.random.RandomState(seed=1)"
   ]
  },
  {
   "cell_type": "markdown",
   "metadata": {},
   "source": [
    "Permutation test code\n",
    "============\n",
    "You must install the _permute_ package to use this code. Install instructions can be found at https://github.com/statlab/permute.  Our analysis uses version 0.1.alpha2."
   ]
  },
  {
   "cell_type": "code",
   "execution_count": 2,
   "metadata": {
    "collapsed": false
   },
   "outputs": [
    {
     "name": "stdout",
     "output_type": "stream",
     "text": [
      "permute: version 0.1.alpha2\n"
     ]
    }
   ],
   "source": [
    "from permute.core import corr  \n",
    "from permute.stratified import sim_corr\n",
    "import permute\n",
    "print \"permute: version\", permute.__version__"
   ]
  },
  {
   "cell_type": "markdown",
   "metadata": {},
   "source": [
    "## Read data and define new fields"
   ]
  },
  {
   "cell_type": "code",
   "execution_count": 3,
   "metadata": {
    "collapsed": false
   },
   "outputs": [
    {
     "data": {
      "text/html": [
       "<div>\n",
       "<table border=\"1\" class=\"dataframe\">\n",
       "  <thead>\n",
       "    <tr style=\"text-align: right;\">\n",
       "      <th></th>\n",
       "      <th>student_id</th>\n",
       "      <th>year</th>\n",
       "      <th>entreescpoen</th>\n",
       "      <th>stu_male</th>\n",
       "      <th>stu_female</th>\n",
       "      <th>admission_exam</th>\n",
       "      <th>admission_cep</th>\n",
       "      <th>admission_bactb</th>\n",
       "      <th>admission_other</th>\n",
       "      <th>stu_avg_final</th>\n",
       "      <th>...</th>\n",
       "      <th>history</th>\n",
       "      <th>micro</th>\n",
       "      <th>ip</th>\n",
       "      <th>macro</th>\n",
       "      <th>socio</th>\n",
       "      <th>scpo</th>\n",
       "      <th>both_female</th>\n",
       "      <th>both_male</th>\n",
       "      <th>stumale_proffemale</th>\n",
       "      <th>stufemale_profmale</th>\n",
       "    </tr>\n",
       "  </thead>\n",
       "  <tbody>\n",
       "    <tr>\n",
       "      <th>count</th>\n",
       "      <td>18.000000</td>\n",
       "      <td>18.000000</td>\n",
       "      <td>18.000000</td>\n",
       "      <td>18.000000</td>\n",
       "      <td>18.000000</td>\n",
       "      <td>18.000000</td>\n",
       "      <td>18.000000</td>\n",
       "      <td>18.000000</td>\n",
       "      <td>18</td>\n",
       "      <td>18.000000</td>\n",
       "      <td>...</td>\n",
       "      <td>18.000000</td>\n",
       "      <td>18.000000</td>\n",
       "      <td>18.000000</td>\n",
       "      <td>18.000000</td>\n",
       "      <td>18.000000</td>\n",
       "      <td>18.000000</td>\n",
       "      <td>18.000000</td>\n",
       "      <td>18.000000</td>\n",
       "      <td>18.000000</td>\n",
       "      <td>18.000000</td>\n",
       "    </tr>\n",
       "    <tr>\n",
       "      <th>mean</th>\n",
       "      <td>2470.055664</td>\n",
       "      <td>2010.388889</td>\n",
       "      <td>2010.277778</td>\n",
       "      <td>0.500000</td>\n",
       "      <td>0.500000</td>\n",
       "      <td>0.833333</td>\n",
       "      <td>0.111111</td>\n",
       "      <td>0.055556</td>\n",
       "      <td>0</td>\n",
       "      <td>13.013118</td>\n",
       "      <td>...</td>\n",
       "      <td>0.222222</td>\n",
       "      <td>0.277778</td>\n",
       "      <td>0.166667</td>\n",
       "      <td>0.055556</td>\n",
       "      <td>0.222222</td>\n",
       "      <td>0.055556</td>\n",
       "      <td>0.222222</td>\n",
       "      <td>0.277778</td>\n",
       "      <td>0.222222</td>\n",
       "      <td>0.277778</td>\n",
       "    </tr>\n",
       "    <tr>\n",
       "      <th>std</th>\n",
       "      <td>1242.043335</td>\n",
       "      <td>1.243283</td>\n",
       "      <td>1.319784</td>\n",
       "      <td>0.514496</td>\n",
       "      <td>0.514496</td>\n",
       "      <td>0.383483</td>\n",
       "      <td>0.323381</td>\n",
       "      <td>0.235702</td>\n",
       "      <td>0</td>\n",
       "      <td>1.598775</td>\n",
       "      <td>...</td>\n",
       "      <td>0.427793</td>\n",
       "      <td>0.460889</td>\n",
       "      <td>0.383483</td>\n",
       "      <td>0.235702</td>\n",
       "      <td>0.427793</td>\n",
       "      <td>0.235702</td>\n",
       "      <td>0.427793</td>\n",
       "      <td>0.460889</td>\n",
       "      <td>0.427793</td>\n",
       "      <td>0.460889</td>\n",
       "    </tr>\n",
       "    <tr>\n",
       "      <th>min</th>\n",
       "      <td>209.000000</td>\n",
       "      <td>2008.000000</td>\n",
       "      <td>2008.000000</td>\n",
       "      <td>0.000000</td>\n",
       "      <td>0.000000</td>\n",
       "      <td>0.000000</td>\n",
       "      <td>0.000000</td>\n",
       "      <td>0.000000</td>\n",
       "      <td>0</td>\n",
       "      <td>9.833334</td>\n",
       "      <td>...</td>\n",
       "      <td>0.000000</td>\n",
       "      <td>0.000000</td>\n",
       "      <td>0.000000</td>\n",
       "      <td>0.000000</td>\n",
       "      <td>0.000000</td>\n",
       "      <td>0.000000</td>\n",
       "      <td>0.000000</td>\n",
       "      <td>0.000000</td>\n",
       "      <td>0.000000</td>\n",
       "      <td>0.000000</td>\n",
       "    </tr>\n",
       "    <tr>\n",
       "      <th>25%</th>\n",
       "      <td>1634.000000</td>\n",
       "      <td>2010.000000</td>\n",
       "      <td>2009.250000</td>\n",
       "      <td>0.000000</td>\n",
       "      <td>0.000000</td>\n",
       "      <td>1.000000</td>\n",
       "      <td>0.000000</td>\n",
       "      <td>0.000000</td>\n",
       "      <td>0</td>\n",
       "      <td>12.243056</td>\n",
       "      <td>...</td>\n",
       "      <td>0.000000</td>\n",
       "      <td>0.000000</td>\n",
       "      <td>0.000000</td>\n",
       "      <td>0.000000</td>\n",
       "      <td>0.000000</td>\n",
       "      <td>0.000000</td>\n",
       "      <td>0.000000</td>\n",
       "      <td>0.000000</td>\n",
       "      <td>0.000000</td>\n",
       "      <td>0.000000</td>\n",
       "    </tr>\n",
       "    <tr>\n",
       "      <th>50%</th>\n",
       "      <td>2365.500000</td>\n",
       "      <td>2010.000000</td>\n",
       "      <td>2010.000000</td>\n",
       "      <td>0.500000</td>\n",
       "      <td>0.500000</td>\n",
       "      <td>1.000000</td>\n",
       "      <td>0.000000</td>\n",
       "      <td>0.000000</td>\n",
       "      <td>0</td>\n",
       "      <td>13.270833</td>\n",
       "      <td>...</td>\n",
       "      <td>0.000000</td>\n",
       "      <td>0.000000</td>\n",
       "      <td>0.000000</td>\n",
       "      <td>0.000000</td>\n",
       "      <td>0.000000</td>\n",
       "      <td>0.000000</td>\n",
       "      <td>0.000000</td>\n",
       "      <td>0.000000</td>\n",
       "      <td>0.000000</td>\n",
       "      <td>0.000000</td>\n",
       "    </tr>\n",
       "    <tr>\n",
       "      <th>75%</th>\n",
       "      <td>3404.500000</td>\n",
       "      <td>2011.000000</td>\n",
       "      <td>2011.000000</td>\n",
       "      <td>1.000000</td>\n",
       "      <td>1.000000</td>\n",
       "      <td>1.000000</td>\n",
       "      <td>0.000000</td>\n",
       "      <td>0.000000</td>\n",
       "      <td>0</td>\n",
       "      <td>14.090278</td>\n",
       "      <td>...</td>\n",
       "      <td>0.000000</td>\n",
       "      <td>0.750000</td>\n",
       "      <td>0.000000</td>\n",
       "      <td>0.000000</td>\n",
       "      <td>0.000000</td>\n",
       "      <td>0.000000</td>\n",
       "      <td>0.000000</td>\n",
       "      <td>0.750000</td>\n",
       "      <td>0.000000</td>\n",
       "      <td>0.750000</td>\n",
       "    </tr>\n",
       "    <tr>\n",
       "      <th>max</th>\n",
       "      <td>4414.000000</td>\n",
       "      <td>2012.000000</td>\n",
       "      <td>2012.000000</td>\n",
       "      <td>1.000000</td>\n",
       "      <td>1.000000</td>\n",
       "      <td>1.000000</td>\n",
       "      <td>1.000000</td>\n",
       "      <td>1.000000</td>\n",
       "      <td>0</td>\n",
       "      <td>15.138889</td>\n",
       "      <td>...</td>\n",
       "      <td>1.000000</td>\n",
       "      <td>1.000000</td>\n",
       "      <td>1.000000</td>\n",
       "      <td>1.000000</td>\n",
       "      <td>1.000000</td>\n",
       "      <td>1.000000</td>\n",
       "      <td>1.000000</td>\n",
       "      <td>1.000000</td>\n",
       "      <td>1.000000</td>\n",
       "      <td>1.000000</td>\n",
       "    </tr>\n",
       "  </tbody>\n",
       "</table>\n",
       "<p>8 rows × 94 columns</p>\n",
       "</div>"
      ],
      "text/plain": [
       "        student_id         year  entreescpoen   stu_male  stu_female  \\\n",
       "count    18.000000    18.000000     18.000000  18.000000   18.000000   \n",
       "mean   2470.055664  2010.388889   2010.277778   0.500000    0.500000   \n",
       "std    1242.043335     1.243283      1.319784   0.514496    0.514496   \n",
       "min     209.000000  2008.000000   2008.000000   0.000000    0.000000   \n",
       "25%    1634.000000  2010.000000   2009.250000   0.000000    0.000000   \n",
       "50%    2365.500000  2010.000000   2010.000000   0.500000    0.500000   \n",
       "75%    3404.500000  2011.000000   2011.000000   1.000000    1.000000   \n",
       "max    4414.000000  2012.000000   2012.000000   1.000000    1.000000   \n",
       "\n",
       "       admission_exam  admission_cep  admission_bactb  admission_other  \\\n",
       "count       18.000000      18.000000        18.000000               18   \n",
       "mean         0.833333       0.111111         0.055556                0   \n",
       "std          0.383483       0.323381         0.235702                0   \n",
       "min          0.000000       0.000000         0.000000                0   \n",
       "25%          1.000000       0.000000         0.000000                0   \n",
       "50%          1.000000       0.000000         0.000000                0   \n",
       "75%          1.000000       0.000000         0.000000                0   \n",
       "max          1.000000       1.000000         1.000000                0   \n",
       "\n",
       "       stu_avg_final         ...            history      micro         ip  \\\n",
       "count      18.000000         ...          18.000000  18.000000  18.000000   \n",
       "mean       13.013118         ...           0.222222   0.277778   0.166667   \n",
       "std         1.598775         ...           0.427793   0.460889   0.383483   \n",
       "min         9.833334         ...           0.000000   0.000000   0.000000   \n",
       "25%        12.243056         ...           0.000000   0.000000   0.000000   \n",
       "50%        13.270833         ...           0.000000   0.000000   0.000000   \n",
       "75%        14.090278         ...           0.000000   0.750000   0.000000   \n",
       "max        15.138889         ...           1.000000   1.000000   1.000000   \n",
       "\n",
       "           macro      socio       scpo  both_female  both_male  \\\n",
       "count  18.000000  18.000000  18.000000    18.000000  18.000000   \n",
       "mean    0.055556   0.222222   0.055556     0.222222   0.277778   \n",
       "std     0.235702   0.427793   0.235702     0.427793   0.460889   \n",
       "min     0.000000   0.000000   0.000000     0.000000   0.000000   \n",
       "25%     0.000000   0.000000   0.000000     0.000000   0.000000   \n",
       "50%     0.000000   0.000000   0.000000     0.000000   0.000000   \n",
       "75%     0.000000   0.000000   0.000000     0.000000   0.750000   \n",
       "max     1.000000   1.000000   1.000000     1.000000   1.000000   \n",
       "\n",
       "       stumale_proffemale  stufemale_profmale  \n",
       "count           18.000000           18.000000  \n",
       "mean             0.222222            0.277778  \n",
       "std              0.427793            0.460889  \n",
       "min              0.000000            0.000000  \n",
       "25%              0.000000            0.000000  \n",
       "50%              0.000000            0.000000  \n",
       "75%              0.000000            0.750000  \n",
       "max              1.000000            1.000000  \n",
       "\n",
       "[8 rows x 94 columns]"
      ]
     },
     "execution_count": 3,
     "metadata": {},
     "output_type": "execute_result"
    }
   ],
   "source": [
    "#dat = pd.read_stata(\"../../SET data/permutation_all triplets.dta\",  convert_categoricals=False )\n",
    "#dat = dat[dat.admission_cep == 0]\n",
    "#dat.describe()\n",
    "\n",
    "dat = pd.read_stata(\"sample_permutation.dta\",  convert_categoricals=False)\n",
    "dat.describe()"
   ]
  },
  {
   "cell_type": "code",
   "execution_count": 7,
   "metadata": {
    "collapsed": false
   },
   "outputs": [],
   "source": [
    "evals = ['q16', 'q1', 'q2', 'q3', 'q4', 'q5', 'q6', 'q7', 'q8', 'q9', 'q10', 'q13', 'q14', 'q15']\n",
    "if isinstance(dat.q16[0], str):\n",
    "    for e in evals:\n",
    "        dat[e].replace(['nonpertinent', 'insuffisant', 'moyen', 'bon', 'excellent'],\\\n",
    "                       [0,1,2,3,4],\\\n",
    "                       inplace=True)\n",
    "    \n",
    "dat['course'] = dat['prof_id']\n",
    "dat.course.loc[dat['history']==1] = 'history' \n",
    "dat.course.loc[dat['micro']==1] = 'micro' \n",
    "dat.course.loc[dat['ip']==1] = 'ip' \n",
    "dat.course.loc[dat['macro']==1] = 'macro' \n",
    "dat.course.loc[dat['socio']==1] = 'socio' \n",
    "dat.course.loc[dat['scpo']==1] = 'scpo' \n",
    "\n",
    "dat['gender'] = dat['prof_male']\n",
    "dat.gender.loc[dat.gender==1] = 'M'\n",
    "dat.gender.loc[dat.gender==0] = 'F'\n",
    "dat['student_gender'] = dat['stu_male']\n",
    "dat.student_gender.loc[dat.student_gender==1] = 'M'\n",
    "dat.student_gender.loc[dat.student_gender==0] = 'F'\n",
    "\n",
    "# Define the fun times for class\n",
    "dat['plumTime'] = (dat['extremetime'] < 2) & dat['day'].isin([2,3,4])\n",
    "\n",
    "# Define the permutation strata: permute independently by course/semester\n",
    "dat['course_year'] = dat['course'] + dat['year'].map(str)\n",
    "course_year_values = dat['course_year'].unique()\n",
    "course_year_values.sort()\n",
    "dat['course_year_int'] = dat['course_year']\n",
    "for i in range(len(dat.course_year.unique())):\n",
    "    dat.course_year_int.loc[dat.course_year == course_year_values[i]] = i\n",
    "dat.course_year_int = dat.course_year_int.astype(int)"
   ]
  },
  {
   "cell_type": "markdown",
   "metadata": {},
   "source": [
    "## Data filtering\n",
    "\n",
    "Most of the analyses omit grades in PI, for two reasons: \n",
    "1. The final exam is oral\n",
    "2. There is a large imbalance in the gender of the instructors: 52 male, 12 female\n",
    "3. Since the course is \"easy,\" that would bias results in favor of making male instructors look more effective"
   ]
  },
  {
   "cell_type": "code",
   "execution_count": 5,
   "metadata": {
    "collapsed": false
   },
   "outputs": [],
   "source": [
    "# remove the Political Institutions courses\n",
    "datNoIp = dat.copy()\n",
    "datNoIp = datNoIp[datNoIp['course'] != 'ip']"
   ]
  },
  {
   "cell_type": "markdown",
   "metadata": {},
   "source": [
    "# Summary statistics\n",
    "\n",
    "## Instructor level statistics"
   ]
  },
  {
   "cell_type": "code",
   "execution_count": 13,
   "metadata": {
    "collapsed": false
   },
   "outputs": [
    {
     "data": {
      "image/png": "[encoded data removed]",
      "text/plain": [
       "<matplotlib.figure.Figure at 0x108c20b90>"
      ]
     },
     "metadata": {},
     "output_type": "display_data"
    },
    {
     "name": "stdout",
     "output_type": "stream",
     "text": [
      "Instructors who taught in more than one course (# courses):\n",
      "Series([], Name: course, dtype: int64)\n"
     ]
    }
   ],
   "source": [
    "# How many sections did instructors teach?\n",
    "grouped = dat.groupby('prof_id')\n",
    "plt.hist(np.array(grouped.count().course_year))\n",
    "plt.title(\"Number of sections taught by instructors\")\n",
    "plt.xlabel(\"Number of sections\")\n",
    "plt.ylabel(\"Frequency\")\n",
    "plt.show()\n",
    "\n",
    "# Did any instructors teach sections in more than one course?\n",
    "numcourses = grouped.course.agg(lambda x: len(np.unique(x)))\n",
    "print \"Instructors who taught in more than one course (# courses):\\n\", numcourses[numcourses > 1]"
   ]
  },
  {
   "cell_type": "markdown",
   "metadata": {},
   "source": [
    "# Start of the analysis\n",
    "\n",
    "### Ratings v student performance"
   ]
  },
  {
   "cell_type": "code",
   "execution_count": 10,
   "metadata": {
    "collapsed": false
   },
   "outputs": [
    {
     "name": "stdout",
     "output_type": "stream",
     "text": [
      "Analyzing the correlation btw avg evaluation score and final exam grade, by course number\n",
      "Overall:\n",
      "Test statistic (sum of correlations): nan\n",
      "One-sided (upper) p-value: 0.0\n",
      "Two-sided p-value: 0.0\n",
      "Number of courses: 15 \n",
      "\n",
      "\n",
      "Course       Test stat Upper P-value Two-sided p-value # Courses\n",
      "history           nan         0.00         0.00         4.00\n",
      "macro             nan         0.00         0.00         1.00\n",
      "micro             nan         0.00         0.00         5.00\n",
      "scpo              nan         0.00         0.00         1.00\n",
      "socio             nan         0.00         0.00         4.00\n"
     ]
    }
   ],
   "source": [
    "# Correlation btw avg evaluation score and final exam grade, by course number. Omit IP courses\n",
    "\n",
    "print 'Analyzing the correlation btw avg evaluation score and final exam grade, by course number' \n",
    "\n",
    "theCols = evals + ['prof_male','plumTime','note_cm', 'course_year_int']\n",
    "\n",
    "grouped = datNoIp.groupby(['course_number'])\n",
    "prof_ratings = grouped[theCols].agg(np.mean)\n",
    "(t, plow, pupper, pboth, sims) = sim_corr(x = prof_ratings['q16'], y = prof_ratings['note_cm'], \n",
    "                                          group = prof_ratings['course_year_int'], seed = rs, reps=10)\n",
    "print 'Overall:'\n",
    "print 'Test statistic (sum of correlations):', t\n",
    "print 'One-sided (upper) p-value:', pupper\n",
    "print 'Two-sided p-value:', pboth\n",
    "print 'Number of courses:', prof_ratings['note_cm'].size, '\\n'\n",
    "\n",
    "print ('\\n{0:12} {1:8} {2:8} {3:8} {4:8}'.format('Course', 'Test stat', 'Upper P-value', 'Two-sided p-value', '# Courses'))\n",
    "for topic in np.unique(datNoIp.course):\n",
    "    perTopic = datNoIp[datNoIp['course']==topic]\n",
    "    grouped = perTopic.groupby(['course_number'])\n",
    "    prof_ratings = grouped[theCols].agg(np.mean)\n",
    "    (t, plow, pupper, pboth, sims) = sim_corr(x = prof_ratings['q16'], y = prof_ratings['note_cm'], \n",
    "                                              group = prof_ratings['course_year_int'], seed = rs, reps=10)\n",
    "    print ('{0:8} {1:12.2f} {2:12.2f} {3:12.2f} {4:12.2f}'.format(topic, t, pupper, pboth, \\\n",
    "                                                                  prof_ratings['note_cm'].size))"
   ]
  },
  {
   "cell_type": "markdown",
   "metadata": {},
   "source": [
    "### Instructor gender v student performance"
   ]
  },
  {
   "cell_type": "code",
   "execution_count": 58,
   "metadata": {
    "collapsed": false
   },
   "outputs": [
    {
     "name": "stdout",
     "output_type": "stream",
     "text": [
      "Correlation btw final exam average and instructor gender, by course\n",
      "Overall:\n",
      "Test statistic (sum of correlations): nan\n",
      "One-sided (upper) p-value: 0.0\n",
      "Two-sided p-value: 0.0\n",
      "Number of courses w/ male profs: 8.0\n",
      "Number of courses w/ female profs: 7.0\n",
      "Total number of courses: 15 \n",
      "\n",
      "\n",
      "Course       Test stat Upper P-value Two-sided p-value # Male profs # Female profs # Courses\n",
      "history           nan         0.00         0.00         3.00         1.00         4.00\n",
      "ip                nan         0.00         0.00         2.00         1.00         3.00\n",
      "macro             nan         0.00         0.00         1.00         0.00         1.00\n",
      "micro             nan         0.00         0.00         3.00         2.00         5.00\n",
      "scpo              nan         0.00         0.00         0.00         1.00         1.00\n",
      "socio             nan         0.00         0.00         1.00         3.00         4.00\n"
     ]
    }
   ],
   "source": [
    "# Correlation of final exam and gender, by course.  Excludes IP courses.\n",
    "\n",
    "print 'Correlation btw final exam average and instructor gender, by course' \n",
    "\n",
    "theCols = evals + ['prof_male','note_cm', 'course_year_int']\n",
    "\n",
    "grouped = datNoIp.groupby(['course_number'])\n",
    "prof_ratings = grouped[theCols].agg(np.mean)\n",
    "\n",
    "(t, plow, pupper, pboth, sims) = sim_corr(x = prof_ratings['note_cm'], y = prof_ratings['prof_male'], \\\n",
    "                                          group = prof_ratings['course_year_int'], seed = rs, reps = 10)\n",
    "print 'Overall:'\n",
    "print 'Test statistic (sum of correlations):', t\n",
    "print 'One-sided (upper) p-value:', pupper\n",
    "print 'Two-sided p-value:', pboth\n",
    "print 'Number of courses w/ male profs:', prof_ratings['prof_male'].sum()\n",
    "print 'Number of courses w/ female profs:', (1-prof_ratings['prof_male']).sum()\n",
    "print 'Total number of courses:', prof_ratings['prof_male'].size, '\\n'\n",
    "\n",
    "\n",
    "\n",
    "print ('\\n{0:12} {1:8} {2:8} {3:8} {4:8} {5:8} {6:8}'.format('Course', 'Test stat', 'Upper P-value', \\\n",
    "                                                             'Two-sided p-value', '# Male profs', \\\n",
    "                                                             '# Female profs', '# Courses'))\n",
    "for topic in np.unique(dat.course):\n",
    "    perTopic = dat[dat['course']==topic]\n",
    "    grouped = perTopic.groupby(['course_number'])\n",
    "    prof_ratings = grouped[theCols].agg(np.mean)\n",
    "    (t, plow, pupper, pboth, sims) = sim_corr(x = prof_ratings['note_cm'], y = prof_ratings['prof_male'], \n",
    "                                          group = prof_ratings['course_year_int'], seed = rs, reps = 10)\n",
    "    print ('{0:8} {1:12.2f} {2:12.2f} {3:12.2f} {4:12.2f} {5:12.2f} {6:12.2f}'.format( topic, t, \\\n",
    "                    pupper, pboth, prof_ratings['prof_male'].sum(), \\\n",
    "                    (1-prof_ratings['prof_male']).sum(),  prof_ratings['prof_male'].size ))"
   ]
  },
  {
   "cell_type": "markdown",
   "metadata": {},
   "source": [
    "### Ratings v grade expectations"
   ]
  },
  {
   "cell_type": "code",
   "execution_count": 61,
   "metadata": {
    "collapsed": false
   },
   "outputs": [
    {
     "name": "stdout",
     "output_type": "stream",
     "text": [
      "Analyzing the correlation btw avg evaluation score and cont assessment, by course number\n",
      "Overall:\n",
      "Test statistic (sum of correlations): nan\n",
      "One-sided (upper) p-value: 0.0\n",
      "Number of courses: 18 \n",
      "\n",
      "\n",
      "Course       Test stat Upper P-value # Courses\n",
      "history           nan         0.00         4.00\n",
      "ip                nan         0.00         3.00\n",
      "macro             nan         0.00         1.00\n",
      "micro             nan         0.00         5.00\n",
      "scpo              nan         0.00         1.00\n",
      "socio             nan         0.00         4.00\n"
     ]
    }
   ],
   "source": [
    "# Correlation btw avg evaluation score and avg cont assessment grades, by course number. Includes IP\n",
    "print 'Analyzing the correlation btw avg evaluation score and cont assessment, by course number' \n",
    "\n",
    "theCols = evals + ['prof_male','plumTime','note_conf', 'course_year_int']\n",
    "\n",
    "grouped = dat.groupby(['course_number'])\n",
    "prof_ratings = grouped[theCols].agg(np.mean)\n",
    "(t, plow, pupper, pboth, sims) = sim_corr(x = prof_ratings['q16'], y = prof_ratings['note_conf'], \n",
    "                                          group = prof_ratings['course_year_int'], seed = rs, reps=10)\n",
    "print 'Overall:'\n",
    "print 'Test statistic (sum of correlations):', t\n",
    "print 'One-sided (upper) p-value:', pupper\n",
    "print 'Number of courses:', prof_ratings['note_conf'].size, '\\n'\n",
    "\n",
    "print ('\\n{0:12} {1:8} {2:8} {3:8}'.format('Course', 'Test stat', 'Upper P-value', '# Courses'))\n",
    "for topic in np.unique(dat.course):\n",
    "    perTopic = dat[dat['course']==topic]\n",
    "    grouped = perTopic.groupby(['course_number'])\n",
    "    prof_ratings = grouped[theCols].agg(np.mean)\n",
    "    (t, plow, pupper, pboth, sims) = sim_corr(x = prof_ratings['q16'], y = prof_ratings['note_conf'], \n",
    "                                          group = prof_ratings['course_year_int'], seed = rs, reps=10)\n",
    "    print ('{0:8} {1:12.2f} {2:12.2f} {3:12.2f}'.format( topic, t, \\\n",
    "                    pupper, prof_ratings['note_conf'].size ))    \n",
    "    "
   ]
  },
  {
   "cell_type": "markdown",
   "metadata": {},
   "source": [
    "### Ratings v instructor gender"
   ]
  },
  {
   "cell_type": "code",
   "execution_count": 62,
   "metadata": {
    "collapsed": false
   },
   "outputs": [
    {
     "name": "stdout",
     "output_type": "stream",
     "text": [
      "Analyzing the correlation btw avg evaluation score and gender, by course\n",
      "Overall:\n",
      "Test statistic (sum of correlations): nan\n",
      "One-sided (upper) p-value: 0.0\n",
      "Two-sided p-value: 0.0\n",
      "Number of courses w/ male profs: 10.0\n",
      "Number of courses w/ female profs: 8.0\n",
      "Total number of courses: 18 \n",
      "\n",
      "\n",
      "Course       Test stat Upper P-value Two-sided p-value # Male profs # Female profs # Courses\n",
      "history           nan         0.00         0.00         3.00         1.00         4.00\n",
      "ip                nan         0.00         0.00         2.00         1.00         3.00\n",
      "macro             nan         0.00         0.00         1.00         0.00         1.00\n",
      "micro             nan         0.00         0.00         3.00         2.00         5.00\n",
      "scpo              nan         0.00         0.00         0.00         1.00         1.00\n",
      "socio             nan         0.00         0.00         1.00         3.00         4.00\n"
     ]
    }
   ],
   "source": [
    "# Correlation of avg evaluation score and gender, by course.  Includes IP courses.\n",
    "\n",
    "print 'Analyzing the correlation btw avg evaluation score and gender, by course' \n",
    "\n",
    "theCols = evals + ['prof_male','plumTime', 'course_year_int']\n",
    "\n",
    "grouped = dat.groupby(['course_number'])\n",
    "prof_ratings = grouped[theCols].agg(np.mean)\n",
    "\n",
    "(t, plow, pupper, pboth, sims) = sim_corr(x = prof_ratings['q16'], y = prof_ratings['prof_male'], \n",
    "                                          group = prof_ratings['course_year_int'], seed = rs, reps=10)\n",
    "print 'Overall:'\n",
    "print 'Test statistic (sum of correlations):', t\n",
    "print 'One-sided (upper) p-value:', pupper\n",
    "print 'Two-sided p-value:', pboth\n",
    "print 'Number of sections w/ male profs:', prof_ratings['prof_male'].sum()\n",
    "print 'Number of sections w/ female profs:', (1-prof_ratings['prof_male']).sum()\n",
    "print 'Total number of courses:', prof_ratings['prof_male'].size, '\\n'\n",
    "\n",
    "print ('\\n{0:12} {1:8} {2:8} {3:8} {4:8} {5:8} {6:8}'.format('Course', 'Test stat', 'Upper P-value', \\\n",
    "                                                             'Two-sided p-value', '# Male profs', \\\n",
    "                                                             '# Female profs', '# Sections'))\n",
    "for topic in np.unique(dat.course):\n",
    "    perTopic = dat[dat['course']==topic]\n",
    "    grouped = perTopic.groupby(['course_number'])\n",
    "    prof_ratings = grouped[theCols].agg(np.mean)\n",
    "    (t, plow, pupper, pboth, sims) = sim_corr(x = prof_ratings['q16'], y = prof_ratings['prof_male'], \n",
    "                                              group = prof_ratings['course_year_int'], seed = rs, reps=10)\n",
    "    print ('{0:8} {1:12.2f} {2:12.2f} {3:12.2f} {4:12.2f} {5:12.2f} {6:12.2f}'.format( topic, t, \\\n",
    "                    pupper, pboth, prof_ratings['prof_male'].sum(), \\\n",
    "                    (1-prof_ratings['prof_male']).sum(),  prof_ratings['prof_male'].size ))"
   ]
  },
  {
   "cell_type": "markdown",
   "metadata": {},
   "source": [
    "### Ratings and gender concordance"
   ]
  },
  {
   "cell_type": "code",
   "execution_count": 71,
   "metadata": {
    "collapsed": false
   },
   "outputs": [
    {
     "name": "stdout",
     "output_type": "stream",
     "text": [
      "Male students\n",
      "\n",
      "Overall:\n",
      "Test statistic (sum of correlations): nan\n",
      "One-sided (upper) p-value: 0.0\n",
      "Two-sided p-value: 0.0\n",
      "Number of sections with male students: 9 \n",
      "\n",
      "\n",
      "Course       Test stat Upper P-value Two-sided p-value # Sections\n",
      "history           nan         0.00         0.00         2.00\n",
      "ip                nan         0.00         0.00         2.00\n",
      "micro             nan         0.00         0.00         3.00\n",
      "socio             nan         0.00         0.00         2.00\n",
      "\n",
      "\n",
      "Female students\n",
      "\n",
      "Overall:\n",
      "Test statistic (sum of correlations): 0.465875904876\n",
      "One-sided (upper) p-value: 0.102\n",
      "Two-sided p-value: 0.1845\n",
      "Number of sections with female students: 9 \n",
      "\n",
      "\n",
      "Course       Test stat Upper P-value Two-sided p-value # Sections\n",
      "history           nan         0.00         0.00         2.00\n",
      "ip                nan         0.00         0.00         1.00\n",
      "macro             nan         0.00         0.00         1.00\n",
      "micro             nan         0.00         0.00         2.00\n",
      "scpo              nan         0.00         0.00         1.00\n",
      "socio             nan         0.00         0.00         2.00\n"
     ]
    }
   ],
   "source": [
    "# Gender concordance v overall satisfaction, grouped by course\n",
    "# This looks at how students rate their profs, by course\n",
    "\n",
    "dMale_stu = dat[dat['stu_male']==1]\n",
    "dFemale_stu = dat[dat['stu_female']==1]\n",
    "\n",
    "theCols = evals + ['prof_male','prof_female','plumTime','note_cm', 'course_year_int']\n",
    "\n",
    "groupedMale = dMale_stu.groupby(['course_number'])\n",
    "groupedFemale = dFemale_stu.groupby(['course_number'])\n",
    "prof_ratings_M = groupedMale[theCols].agg(np.mean)\n",
    "prof_ratings_F = groupedFemale[theCols].agg(np.mean)\n",
    "(t, plow, pupper, pboth, sims) = sim_corr(x = prof_ratings_M['q16'], y = prof_ratings_M['prof_male'], \n",
    "                                          group = prof_ratings_M['course_year_int'], seed = rs, reps=10)\n",
    "print 'Male students\\n'\n",
    "print 'Overall:'\n",
    "print 'Test statistic (sum of correlations):', t\n",
    "print 'One-sided (upper) p-value:', pupper\n",
    "print 'Two-sided p-value:', pboth\n",
    "print 'Number of sections with male students:', prof_ratings_M['prof_male'].size, '\\n'\n",
    "\n",
    "print ('\\n{0:12} {1:8} {2:8} {3:8} {4:8}'.format('Course', 'Test stat', 'Upper P-value', \\\n",
    "                                                             'Two-sided p-value', '# Sections'))\n",
    "for topic in np.unique(dMale_stu['course']):\n",
    "    perTopic = dMale_stu[dMale_stu['course']==topic]\n",
    "    grouped = perTopic.groupby(['course_number'])\n",
    "    prof_ratings = grouped[theCols].agg(np.mean)\n",
    "    (t, plow, pupper, pboth, sims) = sim_corr(x = prof_ratings['q16'], y = prof_ratings['prof_male'], \n",
    "                                              group = prof_ratings['course_year_int'], seed = rs, reps=10)\n",
    "    print ('{0:8} {1:12.2f} {2:12.2f} {3:12.2f} {4:12.2f}'.format( topic, t, \\\n",
    "                    pupper, pboth, prof_ratings['prof_male'].size ))\n",
    "\n",
    "print '\\n\\nFemale students\\n'\n",
    "(t, plow, pupper, pboth, sims) = corr(x = prof_ratings_F['note_cm'], y = prof_ratings_F['prof_female'],\\\n",
    "                                      seed = rs)\n",
    "print 'Overall:'\n",
    "print 'Test statistic (sum of correlations):', t\n",
    "print 'One-sided (upper) p-value:', pupper\n",
    "print 'Two-sided p-value:', pboth\n",
    "print 'Number of sections with female students:', prof_ratings_F['prof_female'].size, '\\n'\n",
    "\n",
    "print ('\\n{0:12} {1:8} {2:8} {3:8} {4:8}'.format('Course', 'Test stat', 'Upper P-value', \\\n",
    "                                                             'Two-sided p-value', '# Sections'))\n",
    "for topic in np.unique(dFemale_stu['course']):\n",
    "    perTopic = dFemale_stu[dFemale_stu['course']==topic]\n",
    "    grouped = perTopic.groupby(['course_number'])\n",
    "    prof_ratings = grouped[theCols].agg(np.mean)\n",
    "    (t, plow, pupper, pboth, sims) = sim_corr(x = prof_ratings['q16'], y = prof_ratings['prof_female'], \n",
    "                                              group = prof_ratings['course_year_int'], seed = rs, reps=10)\n",
    "    print ('{0:8} {1:12.2f} {2:12.2f} {3:12.2f} {4:12.2f}'.format( topic, t, \\\n",
    "                    pupper, pboth, prof_ratings['prof_female'].size ))"
   ]
  },
  {
   "cell_type": "markdown",
   "metadata": {},
   "source": [
    "### Student performance and gender concordance"
   ]
  },
  {
   "cell_type": "code",
   "execution_count": 73,
   "metadata": {
    "collapsed": false
   },
   "outputs": [
    {
     "name": "stdout",
     "output_type": "stream",
     "text": [
      "Male students\n",
      "\n",
      "Overall:\n",
      "Test statistic (sum of correlations): nan\n",
      "One-sided (upper) p-value: 0.0\n",
      "Two-sided p-value: 0.0\n",
      "Number of sections with male students: 7 \n",
      "\n",
      "\n",
      "Course       Test stat Upper P-value Two-sided p-value # Sections\n",
      "history           nan         0.00         0.00         2.00\n",
      "micro             nan         0.00         0.00         3.00\n",
      "socio           -1.00         1.00         1.00         2.00\n",
      "\n",
      "\n",
      "Female students \n",
      "\n",
      "Overall:\n",
      "Test statistic (sum of correlations): 0.50251890763\n",
      "One-sided (upper) p-value: 0.1134\n",
      "Two-sided p-value: 0.233\n",
      "Number of sections with female students: 8 \n",
      "\n",
      "\n",
      "Course       Test stat Upper P-value Two-sided p-value # Sections\n",
      "history           nan         0.00         0.00         2.00\n",
      "macro             nan         0.00         0.00         1.00\n",
      "micro             nan         0.00         0.00         2.00\n",
      "scpo              nan         0.00         0.00         1.00\n",
      "socio             nan         0.00         0.00         2.00\n"
     ]
    }
   ],
   "source": [
    "# Gender concordance v final exam scores, grouped by course. Excludes IP\n",
    "\n",
    "dMale_stu = datNoIp[datNoIp['stu_male']==1]\n",
    "dFemale_stu = datNoIp[datNoIp['stu_female']==1]\n",
    "\n",
    "theCols = evals + ['prof_male','prof_female','plumTime','note_cm', 'course_year_int']\n",
    "\n",
    "groupedMale = dMale_stu.groupby(['course_number'])\n",
    "groupedFemale = dFemale_stu.groupby(['course_number'])\n",
    "prof_ratings_M = groupedMale[theCols].agg(np.mean)\n",
    "prof_ratings_F = groupedFemale[theCols].agg(np.mean)\n",
    "(t, plow, pupper, pboth, sims) = sim_corr(x = prof_ratings_M['note_cm'], y = prof_ratings_M['prof_male'], \n",
    "                                          group = prof_ratings_M['course_year_int'], seed = rs, reps=10)\n",
    "print 'Male students\\n'\n",
    "print 'Overall:'\n",
    "print 'Test statistic (sum of correlations):', t\n",
    "print 'One-sided (upper) p-value:', pupper\n",
    "print 'Two-sided p-value:', pboth\n",
    "print 'Number of sections with male students:', prof_ratings_M['prof_male'].size, '\\n'\n",
    "\n",
    "print ('\\n{0:12} {1:8} {2:8} {3:8} {4:8}'.format('Course', 'Test stat', 'Upper P-value', \\\n",
    "                                                             'Two-sided p-value', '# Sections'))\n",
    "    \n",
    "for topic in np.unique(dMale_stu['course']):\n",
    "    perTopic = dMale_stu[dMale_stu['course']==topic]\n",
    "    grouped = perTopic.groupby(['course_number'])\n",
    "    prof_ratings = grouped[theCols].agg(np.mean)\n",
    "    (t, plow, pupper, pboth, sims) = sim_corr(x = prof_ratings['note_cm'], y = prof_ratings['prof_male'], \n",
    "                                              group = prof_ratings['course_year_int'], seed = rs, reps=10)\n",
    "    print ('{0:8} {1:12.2f} {2:12.2f} {3:12.2f} {4:12.2f}'.format( topic, t, \\\n",
    "                    pupper, pboth, prof_ratings['prof_male'].size ))\n",
    "    \n",
    "    \n",
    "print '\\n\\nFemale students \\n'\n",
    "(t, plow, pupper, pboth, sims) = corr(x = prof_ratings_F['note_cm'], y = prof_ratings_F['prof_female'], seed = rs)\n",
    "print 'Overall:'\n",
    "print 'Test statistic (sum of correlations):', t\n",
    "print 'One-sided (upper) p-value:', pupper\n",
    "print 'Two-sided p-value:', pboth\n",
    "print 'Number of sections with female students:', prof_ratings_F['prof_female'].size, '\\n'\n",
    "\n",
    "print ('\\n{0:12} {1:8} {2:8} {3:8} {4:8}'.format('Course', 'Test stat', 'Upper P-value', \\\n",
    "                                                             'Two-sided p-value', '# Sections'))\n",
    "\n",
    "for topic in np.unique(dFemale_stu['course']):\n",
    "    perTopic = dFemale_stu[dFemale_stu['course']==topic]\n",
    "    grouped = perTopic.groupby(['course_number'])\n",
    "    prof_ratings = grouped[theCols].agg(np.mean)\n",
    "    (t, plow, pupper, pboth, sims) = sim_corr(x = prof_ratings['note_cm'], y = prof_ratings['prof_female'], \n",
    "                                              group = prof_ratings['course_year_int'], seed = rs, reps=10)\n",
    "    print ('{0:8} {1:12.2f} {2:12.2f} {3:12.2f} {4:12.2f}'.format( topic, t, \\\n",
    "                    pupper, pboth, prof_ratings['prof_female'].size ))"
   ]
  },
  {
   "cell_type": "markdown",
   "metadata": {},
   "source": [
    "### Association between evaluation scores and class meeting time"
   ]
  },
  {
   "cell_type": "code",
   "execution_count": 75,
   "metadata": {
    "collapsed": false
   },
   "outputs": [
    {
     "name": "stdout",
     "output_type": "stream",
     "text": [
      "Analyzing the correlation btw avg evaluation score and desirable time, by course\n",
      "Overall:\n",
      "Test statistic (sum of correlations): nan\n",
      "One-sided (upper) p-value: 0.0\n",
      "Two-sided p-value: 0.0\n",
      "Number of sections with desirable times: 10\n",
      "Number of sections with undesirable times: 8\n",
      "Total number of sections: 18 \n",
      "\n",
      "\n",
      "Course       Test stat Upper P-value Two-sided p-value # Sections\n",
      "history           nan         0.00         0.00         4.00\n",
      "ip                nan         0.00         0.00         3.00\n",
      "macro             nan         0.00         0.00         1.00\n",
      "micro             nan         0.00         0.00         5.00\n",
      "scpo              nan         0.00         0.00         1.00\n",
      "socio             nan         0.00         0.00         4.00\n"
     ]
    }
   ],
   "source": [
    "# Correlation of avg evaluation score and desirable time, by course. Includes IP courses\n",
    "print 'Analyzing the correlation btw avg evaluation score and desirable time, by course' \n",
    "\n",
    "theCols = evals + ['prof_male','plumTime', 'course_year_int']\n",
    "\n",
    "grouped = dat.groupby(['course_number'])\n",
    "prof_ratings = grouped[theCols].agg(np.mean)\n",
    "(t, plow, pupper, pboth, sims) = sim_corr(x = prof_ratings['q16'], y = prof_ratings['plumTime'], \n",
    "                                          group = prof_ratings['course_year_int'], seed = rs, reps=10)\n",
    "print 'Overall:'\n",
    "print 'Test statistic (sum of correlations):', t\n",
    "print 'One-sided (upper) p-value:', pupper\n",
    "print 'Two-sided p-value:', pboth\n",
    "print 'Number of sections with desirable times:', prof_ratings['plumTime'].sum()\n",
    "print 'Number of sections with undesirable times:', (1-prof_ratings['plumTime']).sum()\n",
    "print 'Total number of sections:', prof_ratings['plumTime'].size, '\\n'\n",
    "\n",
    "\n",
    "print ('\\n{0:12} {1:8} {2:8} {3:8} {4:8}'.format('Course', 'Test stat', 'Upper P-value', \\\n",
    "                                                             'Two-sided p-value', '# Sections'))\n",
    "for topic in np.unique(dat.course):\n",
    "    perTopic = dat[dat['course']==topic]\n",
    "    grouped = perTopic.groupby(['course_number'])\n",
    "    prof_ratings = grouped[theCols].agg(np.mean)\n",
    "    (t, plow, pupper, pboth, sims) = sim_corr(x = prof_ratings['q16'], y = prof_ratings['plumTime'], \n",
    "                                              group = prof_ratings['course_year_int'], seed = rs, reps=10)\n",
    "    print ('{0:8} {1:12.2f} {2:12.2f} {3:12.2f} {4:12.2f}'.format( topic, t, \\\n",
    "                    pupper, pboth, prof_ratings['plumTime'].size ))"
   ]
  },
  {
   "cell_type": "markdown",
   "metadata": {},
   "source": [
    "### Reliability, self-declared investment in a course"
   ]
  },
  {
   "cell_type": "code",
   "execution_count": 13,
   "metadata": {
    "collapsed": false
   },
   "outputs": [
    {
     "data": {
      "text/plain": [
       "(array([   78.,   753.,  6255.,  7524.,  4428.,  1557.]),\n",
       " array([ 4.        ,  4.83333333,  5.66666667,  6.5       ,  7.33333333,\n",
       "         8.16666667,  9.        ]),\n",
       " <a list of 6 Patch objects>)"
      ]
     },
     "execution_count": 13,
     "metadata": {},
     "output_type": "execute_result"
    },
    {
     "data": {
      "image/png": "[encoded data removed]",
      "text/plain": [
       "<matplotlib.figure.Figure at 0xc544400>"
      ]
     },
     "metadata": {},
     "output_type": "display_data"
    }
   ],
   "source": [
    "# dat with IP => to test for reliability on q10 (student self-assessed involvment in the course)\n",
    "\n",
    "wrkld=dat[dat['three_evals']==1]['sum_q10']\n",
    "plt.hist (wrkld.values, bins=6)"
   ]
  },
  {
   "cell_type": "markdown",
   "metadata": {},
   "source": [
    "# Other analyses, not in paper"
   ]
  },
  {
   "cell_type": "markdown",
   "metadata": {},
   "source": [
    "### Ratings and performance, pooled genders and stratified"
   ]
  },
  {
   "cell_type": "code",
   "execution_count": 77,
   "metadata": {
    "collapsed": false
   },
   "outputs": [
    {
     "name": "stdout",
     "output_type": "stream",
     "text": [
      "Ratings v. performance, pooled gender: nan 0.0 0.0 0.0\n",
      "Ratings v. performance, stratified by gender: 0.888321608083 0.9 0.1 0.1\n"
     ]
    }
   ],
   "source": [
    "# test association between ratings and performance, pooled genders.\n",
    "# Since this uses the final exams, eliminate the IP courses\n",
    "\n",
    "# group the data by instructor, discipline, gender, student gender\n",
    "\n",
    "grouped = datNoIp.groupby(['prof_id', 'course', 'gender', 'student_gender'])\n",
    "prof_ratings = grouped[evals + ['course_year_int']].mean()\n",
    "\n",
    "pass_fail = lambda x: np.mean([xx >= 10 for xx in x])\n",
    "pass_rate = grouped['note_finale'].agg([np.mean,pass_fail])\n",
    "\n",
    "teacher_data = pd.concat([prof_ratings, pass_rate], axis=1)\n",
    "teacher_data = teacher_data.rename(columns = {'mean':'mean_final_exam', '<lambda>':'pass_rate'}).reset_index()\n",
    "\n",
    "# Test association between ratings performance, pooled genders.\n",
    "(t, plower, pupper, pboth, sims) = sim_corr(x = teacher_data['q16'], y = teacher_data['mean_final_exam'],\n",
    "                                            group = teacher_data[\"course_year_int\"], seed = rs, reps=10)\n",
    "print 'Ratings v. performance, pooled gender:',t, plower, pupper, pboth\n",
    "\n",
    "# Note - this test no longer makes sense\n",
    "# Test association between ratings performance, stratified by gender.\n",
    "(t, plower, pupper, pboth, sims) = sim_corr(x = teacher_data.q16, y = teacher_data.mean_final_exam,\n",
    "                                            group = teacher_data.gender, seed = rs, reps=10)\n",
    "print 'Ratings v. performance, stratified by gender:', t, plower, pupper, pboth"
   ]
  },
  {
   "cell_type": "markdown",
   "metadata": {},
   "source": [
    "### Ratings v instructor gender"
   ]
  },
  {
   "cell_type": "code",
   "execution_count": 78,
   "metadata": {
    "collapsed": false
   },
   "outputs": [
    {
     "name": "stdout",
     "output_type": "stream",
     "text": [
      "mean rating for instructors vs. instructor gender (positive favors males): nan 0.0 0.0 0.0\n"
     ]
    }
   ],
   "source": [
    "grouped = dat.groupby(['prof_id'])\n",
    "theCols = evals + ['prof_male', 'course_year_int']  # evaluation columns, plus indicator for male prof\n",
    "\n",
    "prof_ratings = grouped[theCols].agg(np.mean)\n",
    "\n",
    "(t, plower, pupper, pboth, sims) = sim_corr(x = prof_ratings['q16'], y = prof_ratings['prof_male'], \n",
    "                                            group = prof_ratings['course_year_int'], seed = rs, reps=10)\n",
    "\n",
    "print 'mean rating for instructors vs. instructor gender (positive favors males):', t, plower, pupper, pboth"
   ]
  },
  {
   "cell_type": "markdown",
   "metadata": {},
   "source": [
    "### Instructor gender and student performance, student level"
   ]
  },
  {
   "cell_type": "code",
   "execution_count": 79,
   "metadata": {
    "collapsed": false
   },
   "outputs": [
    {
     "name": "stdout",
     "output_type": "stream",
     "text": [
      "Student-level association between instructor gender and performance: 0.0 0.0 0.1 1.0\n"
     ]
    }
   ],
   "source": [
    "# remove students who took triads from instructors all of the same gender or who have missing final grades.\n",
    "# Since this uses final exams, remove IP courses\n",
    "\n",
    "datNonzeroVar = datNoIp.copy()\n",
    "for g in np.unique(dat['student_id']):\n",
    "    gg = dat['student_id'] == g\n",
    "    if (np.var(datNoIp['note_cm'][gg]) == 0.0) or (np.var(datNoIp['prof_male'][gg]) == 0.0) or \\\n",
    "        np.any(np.isnan(datNoIp['note_cm'][gg])):\n",
    "        datNonzeroVar = datNonzeroVar.drop(datNonzeroVar[datNonzeroVar['student_id'] == g].index)\n",
    "\n",
    "(t, plower, pupper, pboth, sims) = sim_corr(x = datNonzeroVar[~np.isnan(datNonzeroVar['note_cm'])]['prof_male'],\\\n",
    "                                    y = datNonzeroVar[~np.isnan(datNonzeroVar['note_cm'])]['note_cm'],\\\n",
    "                                    group = datNonzeroVar[~np.isnan(datNonzeroVar['note_cm'])]['student_id'],\\\n",
    "                                    seed = rs, reps=10)\n",
    "                                           \n",
    "print 'Student-level association between instructor gender and performance:', t, plower, pupper, pboth"
   ]
  },
  {
   "cell_type": "markdown",
   "metadata": {},
   "source": [
    "### Association between instructors' average ratings and average continuous assessment grades, by teacher id"
   ]
  },
  {
   "cell_type": "code",
   "execution_count": 80,
   "metadata": {
    "collapsed": false
   },
   "outputs": [
    {
     "name": "stdout",
     "output_type": "stream",
     "text": [
      "Analyzing the correlation btw avg evaluation score and cont assessment, by instructor\n",
      "overall nan 0.0 18 \n",
      "\n",
      "history nan 0.0 4\n",
      "ip nan 0.0 3\n",
      "macro nan 0.0 1\n",
      "micro nan 0.0 5\n",
      "scpo nan 0.0 1\n",
      "socio nan 0.0 4\n"
     ]
    }
   ],
   "source": [
    "# Correlation of avg evaluation score and avg cont assessment grades, by instructor. \n",
    "# Includes IP courses\n",
    "\n",
    "print 'Analyzing the correlation btw avg evaluation score and cont assessment, by instructor' \n",
    "\n",
    "theCols = evals + ['prof_male','plumTime','note_conf', 'course_year_int']\n",
    "\n",
    "grouped = dat.groupby(['prof_id'])\n",
    "prof_ratings = grouped[theCols].agg(np.mean)\n",
    "(t, plow, pupper, pboth, sims) = sim_corr(x = prof_ratings['q16'], y = prof_ratings['note_conf'], \n",
    "                                          group = prof_ratings['course_year_int'], seed = rs, reps=10)\n",
    "print 'overall', t, pupper,\\\n",
    "       prof_ratings['note_conf'].size, '\\n'\n",
    "\n",
    "for topic in np.unique(dat.course):\n",
    "    perTopic = dat[dat['course']==topic]\n",
    "    grouped = perTopic.groupby(['prof_id'])\n",
    "    prof_ratings = grouped[theCols].agg(np.mean)\n",
    "    (t, plow, pupper, pboth, sims) = sim_corr(x = prof_ratings['q16'], y = prof_ratings['note_conf'], \n",
    "                                              group = prof_ratings['course_year_int'], seed = rs, reps=10)\n",
    "    print topic, t, pupper, prof_ratings['note_conf'].size\n",
    "    \n",
    "    "
   ]
  },
  {
   "cell_type": "markdown",
   "metadata": {},
   "source": [
    "### Association between concordance of student and teacher genders and overall satisfaction"
   ]
  },
  {
   "cell_type": "code",
   "execution_count": 82,
   "metadata": {
    "collapsed": false
   },
   "outputs": [
    {
     "name": "stdout",
     "output_type": "stream",
     "text": [
      "Correlation of concordance of student and teacher genders and overall satisfaction\n",
      "Male instructors: nan 0.0\n",
      "Female instructors: nan 0.0\n"
     ]
    }
   ],
   "source": [
    "# Correlation of concordance of student and teacher genders and overall satisfaction. Includes IP courses.\n",
    "print 'Correlation of concordance of student and teacher genders and overall satisfaction'\n",
    "# Male instructors first\n",
    "\n",
    "dMale = dat[dat['prof_male']==1]\n",
    "dFemale = dat[dat['prof_female']==1]\n",
    "\n",
    "(t, plow, pupper, pboth, sims) = sim_corr(x=dMale['q16'], y=dMale['stu_male'], \n",
    "                                          group = dMale['course_year_int'], reps=10, seed=rs)\n",
    "print 'Male instructors:', t, pupper\n",
    "\n",
    "# Female instructors\n",
    "\n",
    "(t, plow, pupper, pboth, sims) = sim_corr(x = dFemale['q16'], y = dFemale['stu_female'], \n",
    "                                      group = dFemale['course_year_int'], reps=10, seed=rs)\n",
    "print 'Female instructors:', t, pupper"
   ]
  },
  {
   "cell_type": "markdown",
   "metadata": {
    "collapsed": true
   },
   "source": [
    "### Dimensions of teaching analyses"
   ]
  },
  {
   "cell_type": "code",
   "execution_count": 83,
   "metadata": {
    "collapsed": false
   },
   "outputs": [
    {
     "name": "stdout",
     "output_type": "stream",
     "text": [
      "Analyzing the correlation btw teaching dimension scores and final exam grade, by course number\n",
      "overall nan 0.0 15 \n",
      "\n",
      "history nan 0.0 4\n",
      "macro nan 0.0 1\n",
      "micro nan 0.0 5\n",
      "scpo nan 0.0 1\n",
      "socio nan 0.0 4\n"
     ]
    }
   ],
   "source": [
    "# Correlation of avg teaching dimension scores and final exam grade, by course number.\n",
    "# Excludes IP.\n",
    "print 'Analyzing the correlation btw teaching dimension scores and final exam grade, by course number' \n",
    "\n",
    "theCols = evals + ['prof_male','plumTime','note_cm', 'course_year_int']\n",
    "\n",
    "grouped = datNoIp.groupby(['course_number'])\n",
    "prof_ratings = grouped[theCols].agg(np.mean)\n",
    "(t, plow, pupper, pboth, sims) = sim_corr(x = prof_ratings['q5'], y = prof_ratings['note_cm'], \n",
    "                                          group = prof_ratings['course_year_int'], seed = rs, reps=10)\n",
    "print 'overall', t, pupper,\\\n",
    "       prof_ratings['note_cm'].size, '\\n'\n",
    "\n",
    "for topic in np.unique(datNoIp.course):\n",
    "    perTopic = datNoIp[datNoIp['course']==topic]\n",
    "    grouped = perTopic.groupby(['course_number'])\n",
    "    prof_ratings = grouped[theCols].agg(np.mean)\n",
    "    (t, plow, pupper, pboth, sims) = sim_corr(x = prof_ratings['q5'], y = prof_ratings['note_cm'],\n",
    "                                          group = prof_ratings['course_year_int'], seed = rs, reps=10)\n",
    "\n",
    "    print topic, t, pupper, prof_ratings['note_cm'].size\n",
    "    \n",
    "    "
   ]
  },
  {
   "cell_type": "code",
   "execution_count": 84,
   "metadata": {
    "collapsed": false
   },
   "outputs": [
    {
     "name": "stdout",
     "output_type": "stream",
     "text": [
      "Analyzing the correlation btw teaching dimension scores and final exam grade, by course number\n",
      "overall nan 0.0 15 \n",
      "\n",
      "history nan 0.0 4\n",
      "macro nan 0.0 1\n",
      "micro nan 0.0 5\n",
      "scpo nan 0.0 1\n",
      "socio nan 0.0 4\n"
     ]
    }
   ],
   "source": [
    "# Correlation of avg teaching dimension scores and final exam grade, by course number.\n",
    "# Since this uses final, omit IP courses\n",
    "\n",
    "print 'Analyzing the correlation btw teaching dimension scores and final exam grade, by course number' \n",
    "\n",
    "theCols = evals + ['prof_male','plumTime','note_cm', 'course_year_int']\n",
    "\n",
    "grouped = datNoIp.groupby(['course_number'])\n",
    "prof_ratings = grouped[theCols].agg(np.mean)\n",
    "(t, plow, pupper, pboth, sims) = sim_corr(x = prof_ratings['q5'], y = prof_ratings['note_cm'], \n",
    "                                          group = prof_ratings['course_year_int'], seed = rs, reps=10)\n",
    "\n",
    "print 'overall', t, pupper,\\\n",
    "       prof_ratings['note_cm'].size, '\\n'\n",
    "\n",
    "for topic in np.unique(datNoIp.course):\n",
    "    perTopic = datNoIp[datNoIp['course']==topic]\n",
    "    grouped = perTopic.groupby(['course_number'])\n",
    "    prof_ratings = grouped[theCols].agg(np.mean)\n",
    "    (t, plow, pupper, pboth, sims) = sim_corr(x = prof_ratings['q5'], y = prof_ratings['note_cm'], \n",
    "                                              group = prof_ratings['course_year_int'], seed = rs, reps=10)\n",
    "    print topic, t, pupper, prof_ratings['note_cm'].size"
   ]
  },
  {
   "cell_type": "markdown",
   "metadata": {
    "collapsed": true
   },
   "source": [
    "### Gender concordance analyses"
   ]
  },
  {
   "cell_type": "code",
   "execution_count": 85,
   "metadata": {
    "collapsed": false
   },
   "outputs": [
    {
     "name": "stdout",
     "output_type": "stream",
     "text": [
      "Concordance of genders v continuous assessment, male instructors: nan 0.0\n",
      "Concordance of genders v continuous assessment, female instructors: nan 0.0\n"
     ]
    }
   ],
   "source": [
    "# Gender concordance v continuous assessment grade. Include IP. \n",
    "# This looks at how profs are rated by students.\n",
    "\n",
    "dMale = dat[dat['prof_male']==1]\n",
    "dMale = dMale[~np.isnan(dMale['note_conf'])]\n",
    "              \n",
    "dFemale = dat[dat['prof_female']==1]\n",
    "dFemale = dFemale[~np.isnan(dFemale['note_conf'])]\n",
    "\n",
    "(t, plow, pupper, pboth, sims) = sim_corr(x=dMale['note_conf'], y=dMale['stu_male'], \n",
    "                                          group = dMale['course_year_int'], seed=rs, reps=10)\n",
    "print 'Concordance of genders v continuous assessment, male instructors:', t, pupper\n",
    "                  \n",
    "(t, plow, pupper, pboth, sims) = sim_corr(x=dFemale['note_conf'], y=dFemale['stu_female'],\n",
    "                                          group = dFemale['course_year_int'], seed=rs, reps=10)\n",
    "print 'Concordance of genders v continuous assessment, female instructors:', t, pupper"
   ]
  },
  {
   "cell_type": "code",
   "execution_count": 86,
   "metadata": {
    "collapsed": false
   },
   "outputs": [
    {
     "name": "stdout",
     "output_type": "stream",
     "text": [
      "Gender concordance v. preparation and organization, male instructors: nan 0.0\n",
      "Gender concordance v. preparation and organization, female instructors: nan 0.0\n"
     ]
    }
   ],
   "source": [
    "# Gender concordance v preparation & organization. Includes IP courses.\n",
    "# This looks at how profs are rated by students.\n",
    "\n",
    "# redundant, but safe:\n",
    "dMale = dat[dat['prof_male']==1]\n",
    "dMale = dMale[~np.isnan(dMale['q1'])]  # note! need to re-set in following analyses\n",
    "\n",
    "dFemale = dat[dat['prof_female']==1]\n",
    "dFemale = dFemale[~np.isnan(dFemale['q1'])]  # note! need to re-set in following analyses\n",
    "\n",
    "# Male instructors\n",
    "(t, plow, pupper, pboth, sims) = sim_corr(x=dMale['q1'], y=dMale['stu_male'], \n",
    "                                          group = dMale['course_year_int'], seed=rs, reps=10)\n",
    "print 'Gender concordance v. preparation and organization, male instructors:', t, pupper\n",
    "\n",
    "# Female instructors\n",
    "(t, plow, pupper, pboth, sims) = sim_corr(x=dFemale['q1'], y=dFemale['stu_female'], \n",
    "                                          group = dFemale['course_year_int'], seed=rs, reps=10)\n",
    "print 'Gender concordance v. preparation and organization, female instructors:', t, pupper"
   ]
  },
  {
   "cell_type": "code",
   "execution_count": 87,
   "metadata": {
    "collapsed": false
   },
   "outputs": [
    {
     "name": "stdout",
     "output_type": "stream",
     "text": [
      "Gender concordance v. preparation and organization, male instructors: nan 0.0\n",
      "Gender concordance v. preparation and organization, female instructors: nan 0.0\n"
     ]
    }
   ],
   "source": [
    "# Gender concordance v quality of instructional material. Includes IP courses.\n",
    "# This looks at how profs are rated by students.\n",
    "\n",
    "# redundant, but safe:\n",
    "dMale = dat[dat['prof_male']==1]\n",
    "dMale = dMale[~np.isnan(dMale['q2'])]  # note! need to re-set in following analyses\n",
    "\n",
    "dFemale = dat[dat['prof_female']==1]\n",
    "dFemale = dFemale[~np.isnan(dFemale['q2'])]  # note! need to re-set in following analyses\n",
    "\n",
    "# Male instructors\n",
    "(t, plow, pupper, pboth, sims) = sim_corr(x=dMale['q2'], y=dMale['stu_male'], \n",
    "                                          group = dMale['course_year_int'], seed=rs, reps=10)\n",
    "print 'Gender concordance v. preparation and organization, male instructors:', t, pupper\n",
    "\n",
    "# Female instructors\n",
    "(t, plow, pupper, pboth, sims) = sim_corr(x=dFemale['q2'], y=dFemale['stu_female'], \n",
    "                                          group = dFemale['course_year_int'], seed=rs, reps=10)\n",
    "print 'Gender concordance v. preparation and organization, female instructors:', t, pupper"
   ]
  },
  {
   "cell_type": "code",
   "execution_count": 89,
   "metadata": {
    "collapsed": false
   },
   "outputs": [
    {
     "name": "stdout",
     "output_type": "stream",
     "text": [
      "Gender concordance v animation, male instructors: nan 0.0\n",
      "Gender concordance v animation, female instructors: nan 0.0\n"
     ]
    }
   ],
   "source": [
    "# Gender concordance v quality of animation. Includes IP courses\n",
    "# This looks at how profs are rated by students.\n",
    "\n",
    "dMale = dat[dat['prof_male']==1]\n",
    "dMale = dMale[~np.isnan(dMale['q5'])]\n",
    "              \n",
    "dFemale = dat[dat['prof_female']==1]\n",
    "dFemale = dFemale[~np.isnan(dFemale['q5'])]\n",
    "\n",
    "(t, plow, pupper, pboth, sims) = sim_corr(x=dMale['q5'], y=dMale['stu_male'], \n",
    "                                          group = dMale['course_year_int'], seed=rs, reps=10)\n",
    "print 'Gender concordance v animation, male instructors:', t, pupper\n",
    "\n",
    "(t, plow, pupper, pboth, sims) = sim_corr(x=dFemale['q5'], y=dFemale['stu_female'], \n",
    "                                      group = dFemale['course_year_int'], seed=rs, reps=10)\n",
    "print 'Gender concordance v animation, female instructors:', t, pupper"
   ]
  },
  {
   "cell_type": "markdown",
   "metadata": {
    "collapsed": true
   },
   "source": [
    "### Differences in continuous assessment and final exam grades analyses"
   ]
  },
  {
   "cell_type": "code",
   "execution_count": 90,
   "metadata": {
    "collapsed": false
   },
   "outputs": [
    {
     "name": "stdout",
     "output_type": "stream",
     "text": [
      "Avg evaluation score v difference btw continuous assessment & final grade, by course number\n"
     ]
    },
    {
     "ename": "KeyError",
     "evalue": "\"Columns not found: 'diff_final_cont'\"",
     "output_type": "error",
     "traceback": [
      "\u001b[0;31m---------------------------------------------------------------------------\u001b[0m",
      "\u001b[0;31mKeyError\u001b[0m                                  Traceback (most recent call last)",
      "\u001b[0;32m<ipython-input-90-ec4eaf144d7b>\u001b[0m in \u001b[0;36m<module>\u001b[0;34m()\u001b[0m\n\u001b[1;32m      6\u001b[0m \u001b[0;34m\u001b[0m\u001b[0m\n\u001b[1;32m      7\u001b[0m \u001b[0mgrouped\u001b[0m \u001b[0;34m=\u001b[0m \u001b[0mdatNoIp\u001b[0m\u001b[0;34m.\u001b[0m\u001b[0mgroupby\u001b[0m\u001b[0;34m(\u001b[0m\u001b[0;34m[\u001b[0m\u001b[0;34m'course_number'\u001b[0m\u001b[0;34m]\u001b[0m\u001b[0;34m)\u001b[0m\u001b[0;34m\u001b[0m\u001b[0m\n\u001b[0;32m----> 8\u001b[0;31m \u001b[0mprof_ratings\u001b[0m \u001b[0;34m=\u001b[0m \u001b[0mgrouped\u001b[0m\u001b[0;34m[\u001b[0m\u001b[0mtheCols\u001b[0m\u001b[0;34m]\u001b[0m\u001b[0;34m.\u001b[0m\u001b[0magg\u001b[0m\u001b[0;34m(\u001b[0m\u001b[0mnp\u001b[0m\u001b[0;34m.\u001b[0m\u001b[0mmean\u001b[0m\u001b[0;34m)\u001b[0m\u001b[0;34m\u001b[0m\u001b[0m\n\u001b[0m\u001b[1;32m      9\u001b[0m (t, plow, pupper, pboth, sims) = sim_corr(x = prof_ratings['q16'], y = prof_ratings['diff_final_cont'], \n\u001b[1;32m     10\u001b[0m                                           group = prof_ratings['course_year_int'], seed = rs, reps=10)\n",
      "\u001b[0;32m/Users/Kellie/anaconda/lib/python2.7/site-packages/pandas/core/groupby.pyc\u001b[0m in \u001b[0;36m__getitem__\u001b[0;34m(self, key)\u001b[0m\n\u001b[1;32m   3175\u001b[0m                 \u001b[0mbad_keys\u001b[0m \u001b[0;34m=\u001b[0m \u001b[0mlist\u001b[0m\u001b[0;34m(\u001b[0m\u001b[0mset\u001b[0m\u001b[0;34m(\u001b[0m\u001b[0mkey\u001b[0m\u001b[0;34m)\u001b[0m\u001b[0;34m.\u001b[0m\u001b[0mdifference\u001b[0m\u001b[0;34m(\u001b[0m\u001b[0mself\u001b[0m\u001b[0;34m.\u001b[0m\u001b[0mobj\u001b[0m\u001b[0;34m.\u001b[0m\u001b[0mcolumns\u001b[0m\u001b[0;34m)\u001b[0m\u001b[0;34m)\u001b[0m\u001b[0;34m\u001b[0m\u001b[0m\n\u001b[1;32m   3176\u001b[0m                 raise KeyError(\"Columns not found: %s\"\n\u001b[0;32m-> 3177\u001b[0;31m                                % str(bad_keys)[1:-1])\n\u001b[0m\u001b[1;32m   3178\u001b[0m             return DataFrameGroupBy(self.obj, self.grouper, selection=key,\n\u001b[1;32m   3179\u001b[0m                                     \u001b[0mgrouper\u001b[0m\u001b[0;34m=\u001b[0m\u001b[0mself\u001b[0m\u001b[0;34m.\u001b[0m\u001b[0mgrouper\u001b[0m\u001b[0;34m,\u001b[0m\u001b[0;34m\u001b[0m\u001b[0m\n",
      "\u001b[0;31mKeyError\u001b[0m: \"Columns not found: 'diff_final_cont'\""
     ]
    }
   ],
   "source": [
    "# Correlation btw avg evaluation score and difference btw continuous assessment and final grade, by course number\n",
    "# Exclude IP courses\n",
    "print 'Avg evaluation score v difference btw continuous assessment & final grade, by course number' \n",
    "\n",
    "theCols = evals + ['prof_male','plumTime','note_cm', 'diff_final_cont', 'course_year_int']\n",
    "\n",
    "grouped = datNoIp.groupby(['course_number'])\n",
    "prof_ratings = grouped[theCols].agg(np.mean)\n",
    "(t, plow, pupper, pboth, sims) = sim_corr(x = prof_ratings['q16'], y = prof_ratings['diff_final_cont'], \n",
    "                                          group = prof_ratings['course_year_int'], seed = rs, reps=10)\n",
    "print 'overall', t, pupper,\\\n",
    "       prof_ratings['diff_final_cont'].size, '\\n'\n",
    "\n",
    "for topic in np.unique(datNoIp.course):\n",
    "    perTopic = datNoIp[datNoIp['course']==topic]\n",
    "    grouped = perTopic.groupby(['course_number'])\n",
    "    prof_ratings = grouped[theCols].agg(np.mean)\n",
    "    (t, plow, pupper, pboth, sims) = sim_corr(x = prof_ratings['q16'], y = prof_ratings['diff_final_cont'], \n",
    "                                              group = prof_ratings['course_year_int'], seed = rs, reps=10)\n",
    "    print topic, t, pupper, prof_ratings['diff_final_cont'].size "
   ]
  },
  {
   "cell_type": "code",
   "execution_count": 91,
   "metadata": {
    "collapsed": false
   },
   "outputs": [
    {
     "ename": "KeyError",
     "evalue": "'diff_final_cont'",
     "output_type": "error",
     "traceback": [
      "\u001b[0;31m---------------------------------------------------------------------------\u001b[0m",
      "\u001b[0;31mKeyError\u001b[0m                                  Traceback (most recent call last)",
      "\u001b[0;32m<ipython-input-91-78a19f3ba707>\u001b[0m in \u001b[0;36m<module>\u001b[0;34m()\u001b[0m\n\u001b[1;32m      3\u001b[0m \u001b[0;34m\u001b[0m\u001b[0m\n\u001b[1;32m      4\u001b[0m \u001b[0mdMale\u001b[0m \u001b[0;34m=\u001b[0m \u001b[0mdat\u001b[0m\u001b[0;34m[\u001b[0m\u001b[0mdat\u001b[0m\u001b[0;34m[\u001b[0m\u001b[0;34m'prof_male'\u001b[0m\u001b[0;34m]\u001b[0m\u001b[0;34m==\u001b[0m\u001b[0;36m1\u001b[0m\u001b[0;34m]\u001b[0m\u001b[0;34m\u001b[0m\u001b[0m\n\u001b[0;32m----> 5\u001b[0;31m \u001b[0mdMale\u001b[0m \u001b[0;34m=\u001b[0m \u001b[0mdMale\u001b[0m\u001b[0;34m[\u001b[0m\u001b[0;34m~\u001b[0m\u001b[0mnp\u001b[0m\u001b[0;34m.\u001b[0m\u001b[0misnan\u001b[0m\u001b[0;34m(\u001b[0m\u001b[0mdMale\u001b[0m\u001b[0;34m[\u001b[0m\u001b[0;34m'diff_final_cont'\u001b[0m\u001b[0;34m]\u001b[0m\u001b[0;34m)\u001b[0m\u001b[0;34m]\u001b[0m\u001b[0;34m\u001b[0m\u001b[0m\n\u001b[0m\u001b[1;32m      6\u001b[0m \u001b[0;34m\u001b[0m\u001b[0m\n\u001b[1;32m      7\u001b[0m \u001b[0mdFemale\u001b[0m \u001b[0;34m=\u001b[0m \u001b[0mdat\u001b[0m\u001b[0;34m[\u001b[0m\u001b[0mdat\u001b[0m\u001b[0;34m[\u001b[0m\u001b[0;34m'prof_female'\u001b[0m\u001b[0;34m]\u001b[0m\u001b[0;34m==\u001b[0m\u001b[0;36m1\u001b[0m\u001b[0;34m]\u001b[0m\u001b[0;34m\u001b[0m\u001b[0m\n",
      "\u001b[0;32m/Users/Kellie/anaconda/lib/python2.7/site-packages/pandas/core/frame.pyc\u001b[0m in \u001b[0;36m__getitem__\u001b[0;34m(self, key)\u001b[0m\n\u001b[1;32m   1795\u001b[0m             \u001b[0;32mreturn\u001b[0m \u001b[0mself\u001b[0m\u001b[0;34m.\u001b[0m\u001b[0m_getitem_multilevel\u001b[0m\u001b[0;34m(\u001b[0m\u001b[0mkey\u001b[0m\u001b[0;34m)\u001b[0m\u001b[0;34m\u001b[0m\u001b[0m\n\u001b[1;32m   1796\u001b[0m         \u001b[0;32melse\u001b[0m\u001b[0;34m:\u001b[0m\u001b[0;34m\u001b[0m\u001b[0m\n\u001b[0;32m-> 1797\u001b[0;31m             \u001b[0;32mreturn\u001b[0m \u001b[0mself\u001b[0m\u001b[0;34m.\u001b[0m\u001b[0m_getitem_column\u001b[0m\u001b[0;34m(\u001b[0m\u001b[0mkey\u001b[0m\u001b[0;34m)\u001b[0m\u001b[0;34m\u001b[0m\u001b[0m\n\u001b[0m\u001b[1;32m   1798\u001b[0m \u001b[0;34m\u001b[0m\u001b[0m\n\u001b[1;32m   1799\u001b[0m     \u001b[0;32mdef\u001b[0m \u001b[0m_getitem_column\u001b[0m\u001b[0;34m(\u001b[0m\u001b[0mself\u001b[0m\u001b[0;34m,\u001b[0m \u001b[0mkey\u001b[0m\u001b[0;34m)\u001b[0m\u001b[0;34m:\u001b[0m\u001b[0;34m\u001b[0m\u001b[0m\n",
      "\u001b[0;32m/Users/Kellie/anaconda/lib/python2.7/site-packages/pandas/core/frame.pyc\u001b[0m in \u001b[0;36m_getitem_column\u001b[0;34m(self, key)\u001b[0m\n\u001b[1;32m   1802\u001b[0m         \u001b[0;31m# get column\u001b[0m\u001b[0;34m\u001b[0m\u001b[0;34m\u001b[0m\u001b[0m\n\u001b[1;32m   1803\u001b[0m         \u001b[0;32mif\u001b[0m \u001b[0mself\u001b[0m\u001b[0;34m.\u001b[0m\u001b[0mcolumns\u001b[0m\u001b[0;34m.\u001b[0m\u001b[0mis_unique\u001b[0m\u001b[0;34m:\u001b[0m\u001b[0;34m\u001b[0m\u001b[0m\n\u001b[0;32m-> 1804\u001b[0;31m             \u001b[0;32mreturn\u001b[0m \u001b[0mself\u001b[0m\u001b[0;34m.\u001b[0m\u001b[0m_get_item_cache\u001b[0m\u001b[0;34m(\u001b[0m\u001b[0mkey\u001b[0m\u001b[0;34m)\u001b[0m\u001b[0;34m\u001b[0m\u001b[0m\n\u001b[0m\u001b[1;32m   1805\u001b[0m \u001b[0;34m\u001b[0m\u001b[0m\n\u001b[1;32m   1806\u001b[0m         \u001b[0;31m# duplicate columns & possible reduce dimensionaility\u001b[0m\u001b[0;34m\u001b[0m\u001b[0;34m\u001b[0m\u001b[0m\n",
      "\u001b[0;32m/Users/Kellie/anaconda/lib/python2.7/site-packages/pandas/core/generic.pyc\u001b[0m in \u001b[0;36m_get_item_cache\u001b[0;34m(self, item)\u001b[0m\n\u001b[1;32m   1082\u001b[0m         \u001b[0mres\u001b[0m \u001b[0;34m=\u001b[0m \u001b[0mcache\u001b[0m\u001b[0;34m.\u001b[0m\u001b[0mget\u001b[0m\u001b[0;34m(\u001b[0m\u001b[0mitem\u001b[0m\u001b[0;34m)\u001b[0m\u001b[0;34m\u001b[0m\u001b[0m\n\u001b[1;32m   1083\u001b[0m         \u001b[0;32mif\u001b[0m \u001b[0mres\u001b[0m \u001b[0;32mis\u001b[0m \u001b[0mNone\u001b[0m\u001b[0;34m:\u001b[0m\u001b[0;34m\u001b[0m\u001b[0m\n\u001b[0;32m-> 1084\u001b[0;31m             \u001b[0mvalues\u001b[0m \u001b[0;34m=\u001b[0m \u001b[0mself\u001b[0m\u001b[0;34m.\u001b[0m\u001b[0m_data\u001b[0m\u001b[0;34m.\u001b[0m\u001b[0mget\u001b[0m\u001b[0;34m(\u001b[0m\u001b[0mitem\u001b[0m\u001b[0;34m)\u001b[0m\u001b[0;34m\u001b[0m\u001b[0m\n\u001b[0m\u001b[1;32m   1085\u001b[0m             \u001b[0mres\u001b[0m \u001b[0;34m=\u001b[0m \u001b[0mself\u001b[0m\u001b[0;34m.\u001b[0m\u001b[0m_box_item_values\u001b[0m\u001b[0;34m(\u001b[0m\u001b[0mitem\u001b[0m\u001b[0;34m,\u001b[0m \u001b[0mvalues\u001b[0m\u001b[0;34m)\u001b[0m\u001b[0;34m\u001b[0m\u001b[0m\n\u001b[1;32m   1086\u001b[0m             \u001b[0mcache\u001b[0m\u001b[0;34m[\u001b[0m\u001b[0mitem\u001b[0m\u001b[0;34m]\u001b[0m \u001b[0;34m=\u001b[0m \u001b[0mres\u001b[0m\u001b[0;34m\u001b[0m\u001b[0m\n",
      "\u001b[0;32m/Users/Kellie/anaconda/lib/python2.7/site-packages/pandas/core/internals.pyc\u001b[0m in \u001b[0;36mget\u001b[0;34m(self, item, fastpath)\u001b[0m\n\u001b[1;32m   2849\u001b[0m \u001b[0;34m\u001b[0m\u001b[0m\n\u001b[1;32m   2850\u001b[0m             \u001b[0;32mif\u001b[0m \u001b[0;32mnot\u001b[0m \u001b[0misnull\u001b[0m\u001b[0;34m(\u001b[0m\u001b[0mitem\u001b[0m\u001b[0;34m)\u001b[0m\u001b[0;34m:\u001b[0m\u001b[0;34m\u001b[0m\u001b[0m\n\u001b[0;32m-> 2851\u001b[0;31m                 \u001b[0mloc\u001b[0m \u001b[0;34m=\u001b[0m \u001b[0mself\u001b[0m\u001b[0;34m.\u001b[0m\u001b[0mitems\u001b[0m\u001b[0;34m.\u001b[0m\u001b[0mget_loc\u001b[0m\u001b[0;34m(\u001b[0m\u001b[0mitem\u001b[0m\u001b[0;34m)\u001b[0m\u001b[0;34m\u001b[0m\u001b[0m\n\u001b[0m\u001b[1;32m   2852\u001b[0m             \u001b[0;32melse\u001b[0m\u001b[0;34m:\u001b[0m\u001b[0;34m\u001b[0m\u001b[0m\n\u001b[1;32m   2853\u001b[0m                 \u001b[0mindexer\u001b[0m \u001b[0;34m=\u001b[0m \u001b[0mnp\u001b[0m\u001b[0;34m.\u001b[0m\u001b[0marange\u001b[0m\u001b[0;34m(\u001b[0m\u001b[0mlen\u001b[0m\u001b[0;34m(\u001b[0m\u001b[0mself\u001b[0m\u001b[0;34m.\u001b[0m\u001b[0mitems\u001b[0m\u001b[0;34m)\u001b[0m\u001b[0;34m)\u001b[0m\u001b[0;34m[\u001b[0m\u001b[0misnull\u001b[0m\u001b[0;34m(\u001b[0m\u001b[0mself\u001b[0m\u001b[0;34m.\u001b[0m\u001b[0mitems\u001b[0m\u001b[0;34m)\u001b[0m\u001b[0;34m]\u001b[0m\u001b[0;34m\u001b[0m\u001b[0m\n",
      "\u001b[0;32m/Users/Kellie/anaconda/lib/python2.7/site-packages/pandas/core/index.pyc\u001b[0m in \u001b[0;36mget_loc\u001b[0;34m(self, key, method)\u001b[0m\n\u001b[1;32m   1570\u001b[0m         \"\"\"\n\u001b[1;32m   1571\u001b[0m         \u001b[0;32mif\u001b[0m \u001b[0mmethod\u001b[0m \u001b[0;32mis\u001b[0m \u001b[0mNone\u001b[0m\u001b[0;34m:\u001b[0m\u001b[0;34m\u001b[0m\u001b[0m\n\u001b[0;32m-> 1572\u001b[0;31m             \u001b[0;32mreturn\u001b[0m \u001b[0mself\u001b[0m\u001b[0;34m.\u001b[0m\u001b[0m_engine\u001b[0m\u001b[0;34m.\u001b[0m\u001b[0mget_loc\u001b[0m\u001b[0;34m(\u001b[0m\u001b[0m_values_from_object\u001b[0m\u001b[0;34m(\u001b[0m\u001b[0mkey\u001b[0m\u001b[0;34m)\u001b[0m\u001b[0;34m)\u001b[0m\u001b[0;34m\u001b[0m\u001b[0m\n\u001b[0m\u001b[1;32m   1573\u001b[0m \u001b[0;34m\u001b[0m\u001b[0m\n\u001b[1;32m   1574\u001b[0m         \u001b[0mindexer\u001b[0m \u001b[0;34m=\u001b[0m \u001b[0mself\u001b[0m\u001b[0;34m.\u001b[0m\u001b[0mget_indexer\u001b[0m\u001b[0;34m(\u001b[0m\u001b[0;34m[\u001b[0m\u001b[0mkey\u001b[0m\u001b[0;34m]\u001b[0m\u001b[0;34m,\u001b[0m \u001b[0mmethod\u001b[0m\u001b[0;34m=\u001b[0m\u001b[0mmethod\u001b[0m\u001b[0;34m)\u001b[0m\u001b[0;34m\u001b[0m\u001b[0m\n",
      "\u001b[0;32mpandas/index.pyx\u001b[0m in \u001b[0;36mpandas.index.IndexEngine.get_loc (pandas/index.c:3824)\u001b[0;34m()\u001b[0m\n",
      "\u001b[0;32mpandas/index.pyx\u001b[0m in \u001b[0;36mpandas.index.IndexEngine.get_loc (pandas/index.c:3704)\u001b[0;34m()\u001b[0m\n",
      "\u001b[0;32mpandas/hashtable.pyx\u001b[0m in \u001b[0;36mpandas.hashtable.PyObjectHashTable.get_item (pandas/hashtable.c:12280)\u001b[0;34m()\u001b[0m\n",
      "\u001b[0;32mpandas/hashtable.pyx\u001b[0m in \u001b[0;36mpandas.hashtable.PyObjectHashTable.get_item (pandas/hashtable.c:12231)\u001b[0;34m()\u001b[0m\n",
      "\u001b[0;31mKeyError\u001b[0m: 'diff_final_cont'"
     ]
    }
   ],
   "source": [
    "# Gender concordance v and difference btw continuous assessment and final grade. Includes IP courses\n",
    "# This looks at how profs grade students compared to their actual level.\n",
    "\n",
    "dMale = dat[dat['prof_male']==1]\n",
    "dMale = dMale[~np.isnan(dMale['diff_final_cont'])]\n",
    "              \n",
    "dFemale = dat[dat['prof_female']==1]\n",
    "dFemale = dFemale[~np.isnan(dFemale['diff_final_cont'])]\n",
    "\n",
    "(t, plow, pupper, pboth, sims) = sim_corr(x=dMale['diff_final_cont'], y=dMale['stu_male'], \n",
    "                                          group = dMale['course_year_int'], seed=rs, reps=10)\n",
    "print 'Gender concordance v difference btw continuous assessment and final grade, male instructors:', t, pupper\n",
    "\n",
    "(t, plow, pupper, pboth, sims) = sim_corr(x=dFemale['diff_final_cont'], y=dFemale['stu_female'], \n",
    "                                          group = dFemale['course_year_int'], seed=rs, reps=10)\n",
    "print 'Gender concordance v difference btw continuous assessment and final grade, female instructors:', t, pupper"
   ]
  },
  {
   "cell_type": "code",
   "execution_count": null,
   "metadata": {
    "collapsed": true
   },
   "outputs": [],
   "source": []
  }
 ],
 "metadata": {
  "kernelspec": {
   "display_name": "Python 2",
   "language": "python",
   "name": "python2"
  },
  "language_info": {
   "codemirror_mode": {
    "name": "ipython",
    "version": 2
   },
   "file_extension": ".py",
   "mimetype": "text/x-python",
   "name": "python",
   "nbconvert_exporter": "python",
   "pygments_lexer": "ipython2",
   "version": "2.7.10"
  }
 },
 "nbformat": 4,
 "nbformat_minor": 0
}
