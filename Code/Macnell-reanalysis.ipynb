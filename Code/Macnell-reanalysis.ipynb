{
 "cells": [
  {
   "cell_type": "markdown",
   "metadata": {},
   "source": [
    "Gender Biases in Student Evaluations of Teachers - A Randomized, Online Experiment\n",
    "====================================================\n"
   ]
  },
  {
   "cell_type": "code",
   "execution_count": 6,
   "metadata": {
    "collapsed": true
   },
   "outputs": [],
   "source": [
    "# boilerplate\n",
    "%matplotlib inline\n",
    "import math\n",
    "import numpy as np\n",
    "import pandas as pd\n",
    "from numpy.random import random\n",
    "import scipy as sp\n",
    "import matplotlib.pyplot as plt\n",
    "from __future__ import division\n",
    "from scipy.stats import ttest_ind\n",
    "\n",
    "# initialize PRNG\n",
    "rs = np.random.RandomState(seed=1)"
   ]
  },
  {
   "cell_type": "markdown",
   "metadata": {},
   "source": [
    "Permutation test code\n",
    "============\n",
    "You must install the _permute_ package to use this code. Install instructions can be found at https://github.com/statlab/permute."
   ]
  },
  {
   "cell_type": "code",
   "execution_count": 7,
   "metadata": {
    "collapsed": false
   },
   "outputs": [],
   "source": [
    "from permute.core import corr, two_sample\n",
    "from permute.utils import get_prng, permute_within_groups\n",
    "\n",
    "def stratified_corr(x, y, group, alternative=\"greater\", reps=10**5, keep_dist=False, seed=None):\n",
    "    \"\"\"\n",
    "    Tests the null hypothesis of 0 correlation between x and y, against the alternative\n",
    "    hypothesis that the correlation is\n",
    "    (a) greater than 0 if side = 'greater'\n",
    "    (b) less than 0 if side = 'less'\n",
    "    (c) different from 0 if side = 'two-sided'\n",
    "\n",
    "    Permutations are carried out within the given groups.  Under the null hypothesis,\n",
    "    observations within each group are exchangeable.\n",
    "\n",
    "    If ``keep_dist``, return the distribution of values of the test statistic;\n",
    "    otherwise, return only the number of permutations for which the value of\n",
    "    the test statistic and p-value.\n",
    "\n",
    "    Parameters\n",
    "    ----------\n",
    "    x : array-like\n",
    "        First variable\n",
    "    y : array-like\n",
    "        Second variable\n",
    "    group : array-like\n",
    "        Group assignments; permutations are done within each group\n",
    "    alternative : {'greater', 'less', 'two-sided'}\n",
    "        The alternative hypothesis to test\n",
    "    reps : int\n",
    "        Number of permutations\n",
    "    keep_dist : bool\n",
    "        flag for whether to store and return the array of values\n",
    "        of the test statistic\n",
    "    seed : RandomState instance or {None, int, RandomState instance}\n",
    "        If None, the pseudorandom number generator is the RandomState\n",
    "        instance used by `np.random`;\n",
    "        If int, seed is the seed used by the random number generator;\n",
    "        If RandomState instance, seed is the pseudorandom number generator.\n",
    "\n",
    "    Returns\n",
    "    -------\n",
    "    float\n",
    "        the estimated p-value\n",
    "    float\n",
    "        the test statistic\n",
    "    list\n",
    "        The distribution of test statistics.\n",
    "        These values are only returned if `keep_dist` == True        \n",
    "    \"\"\"\n",
    "    \n",
    "    prng = get_prng(seed)\n",
    "    \n",
    "    observed_tst = np.ma.corrcoef(np.ma.array(x, mask=np.isnan(x)), np.ma.array(y, mask=np.isnan(y)))[0,1]\n",
    "    theStat = {\n",
    "        'greater': lambda u,v: np.ma.corrcoef(np.ma.array(u, mask=np.isnan(u)), np.ma.array(v, mask=np.isnan(v)))[0,1],\n",
    "        'less': lambda u,v: -np.ma.corrcoef(np.ma.array(u, mask=np.isnan(u)), np.ma.array(v, mask=np.isnan(v)))[0,1],\n",
    "        'two-sided': lambda u,v: math.fabs(np.ma.corrcoef(np.ma.array(u, mask=np.isnan(u)), np.ma.array(v, mask=np.isnan(v)))[0,1])\n",
    "    }\n",
    "    tst = theStat[alternative](x, y)\n",
    "    \n",
    "    if keep_dist:\n",
    "        dist = np.empty(reps)\n",
    "        for i in range(reps):\n",
    "            dist[i] = theStat[alternative](x, permute_within_groups(y, group, seed=prng))\n",
    "        hits = np.sum(dist >= tst)\n",
    "        return hits/reps, observed_tst, dist\n",
    "    else:\n",
    "        hits = np.sum([(theStat[alternative](x, permute_within_groups(y, group, seed=prng)) >= tst)\n",
    "                       for i in range(reps)])\n",
    "        return hits/reps, observed_tst\n",
    "    \n",
    "    \n",
    "def stratified_two_sample(x, y, group_x, group_y, stat='mean', alternative=\"greater\", reps=10**5, \n",
    "                          keep_dist=False, seed=None):\n",
    "    \"\"\"\n",
    "    One-sided or two-sided, two-sample permutation test for equality of\n",
    "    two means, with p-value estimated by simulated random sampling with\n",
    "    reps replications.\n",
    "\n",
    "    Tests the hypothesis that x and y are a random partition of x,y\n",
    "    against the alternative that x comes from a population with mean\n",
    "\n",
    "    (a) greater than that of the population from which y comes,\n",
    "        if side = 'greater'\n",
    "    (b) less than that of the population from which y comes,\n",
    "        if side = 'less'\n",
    "    (c) different from that of the population from which y comes,\n",
    "        if side = 'two-sided'\n",
    "\n",
    "    Permutations are carried out within the given groups.  Under the null hypothesis,\n",
    "    observations within each group are exchangeable.\n",
    "\n",
    "    If ``keep_dist``, return the distribution of values of the test statistic;\n",
    "    otherwise, return only the number of permutations for which the value of\n",
    "    the test statistic and p-value.\n",
    "\n",
    "    Parameters\n",
    "    ----------\n",
    "    x : array-like\n",
    "        Sample 1\n",
    "    y : array-like\n",
    "        Sample 2\n",
    "    group_x : array-like\n",
    "        Group assignments for sample 1\n",
    "    group_y : array-like\n",
    "        Group assignments for sample 2\n",
    "    stat : {'mean', 't'}\n",
    "        The test statistic.\n",
    "\n",
    "        (a) If stat == 'mean', the test statistic is (mean(x) - mean(y))\n",
    "            (equivalently, sum(x), since those are monotonically related), omitting\n",
    "            NaNs, which therefore can be used to code non-responders\n",
    "        (b) If stat == 't', the test statistic is the two-sample t-statistic--\n",
    "            but the p-value is still estimated by the randomization,\n",
    "            approximating the permutation distribution.\n",
    "            The t-statistic is computed using scipy.stats.ttest_ind\n",
    "        (c) If stat is a function (a callable object), the test statistic is\n",
    "            that function.  The function should take a permutation of the pooled\n",
    "            data and compute the test function from it. For instance, if the\n",
    "            test statistic is the Kolmogorov-Smirnov distance between the\n",
    "            empirical distributions of the two samples, max_t |F_x(t) - F_y(t)|,\n",
    "            the test statistic could be written:\n",
    "\n",
    "            f = lambda u: np.max( \\\n",
    "                [abs(sum(u[:len(x)]<=v)/len(x)-sum(u[len(x):]<=v)/len(y)) for v in u]\\\n",
    "                )        \n",
    "    alternative : {'greater', 'less', 'two-sided'}\n",
    "        The alternative hypothesis to test\n",
    "    reps : int\n",
    "        Number of permutations\n",
    "    keep_dist : bool\n",
    "        flag for whether to store and return the array of values\n",
    "        of the test statistic\n",
    "    seed : RandomState instance or {None, int, RandomState instance}\n",
    "        If None, the pseudorandom number generator is the RandomState\n",
    "        instance used by `np.random`;\n",
    "        If int, seed is the seed used by the random number generator;\n",
    "        If RandomState instance, seed is the pseudorandom number generator.\n",
    "\n",
    "    Returns\n",
    "    -------\n",
    "    float\n",
    "        the estimated p-value\n",
    "    float\n",
    "        the test statistic\n",
    "    list\n",
    "        The distribution of test statistics.\n",
    "        These values are only returned if `keep_dist` == True        \n",
    "    \"\"\"\n",
    "    \n",
    "    prng = get_prng(seed)\n",
    "    \n",
    "    z = np.concatenate([x, y])   # pooled responses\n",
    "    groups = np.concatenate([group_x, group_y])   # pooled group assignments\n",
    "    \n",
    "    # If stat is callable, use it as the test function. Otherwise, look in the dictionary\n",
    "    stats = {\n",
    "        'mean': lambda u: np.nanmean(u[:len(x)]) - np.nanmean(u[len(x):]),\n",
    "        't': lambda u: ttest_ind(\n",
    "            u[:len(x)][~np.isnan(u[:len(x)])], \n",
    "            u[len(x):][~np.isnan(u[len(x):])], \n",
    "            equal_var=True)[0]\n",
    "    }\n",
    "    if callable(stat):\n",
    "        tst_fun = stat\n",
    "    else:\n",
    "        tst_fun = stats[stat]\n",
    "\n",
    "    theStat = {\n",
    "        'greater': tst_fun,\n",
    "        'less': lambda u: -tst_fun(u),\n",
    "        'two-sided': lambda u: math.fabs(tst_fun(u))\n",
    "    }\n",
    "    tst = theStat[alternative](z)\n",
    "    observed_tst = tst_fun(z)\n",
    "    \n",
    "    if keep_dist:\n",
    "        dist = np.empty(reps)\n",
    "        for i in range(reps):\n",
    "            dist[i] = theStat[alternative](permute_within_groups(z, groups, seed=prng))\n",
    "        hits = np.sum(dist >= tst)\n",
    "        return hits/reps, tst, dist\n",
    "    else:\n",
    "        hits = np.sum([(theStat[alternative](permute_within_groups(z, groups, seed=prng)) >= tst)\n",
    "                       for i in range(reps)])\n",
    "        return hits/reps, tst"
   ]
  },
  {
   "cell_type": "markdown",
   "metadata": {},
   "source": [
    "Read data\n",
    "=================\n",
    "\n",
    "Some notes on the variables:\n",
    "* **group** identifies the section the student was placed in.\n",
    "* **gender** refers to the student's gender: 1 = male, 2 = female.\n",
    "* **tagender** is the instructor's true gender: 1 = male, 0 = female.\n",
    "* **taidgender** is the instructor's reported gender: 1 = male, 0 = female.\n",
    "* **grade** is on a scale from 0-100\n",
    "\n",
    "The IRB did not allow grades to be linked to ratings. There are 43 ratings and 47 grades. Four students did not submit evaluations (3 in group 5 and 1 in group 6), but we do not know how each rated his or her instructor. "
   ]
  },
  {
   "cell_type": "code",
   "execution_count": 8,
   "metadata": {
    "collapsed": false
   },
   "outputs": [
    {
     "name": "stdout",
     "output_type": "stream",
     "text": [
      "   group  professional  respect  caring  enthusiastic  communicate  helpful  \\\n",
      "0      3             5        5       4             4            4        3   \n",
      "1      3             4        4       4             4            5        5   \n",
      "2      3             5        5       5             5            5        5   \n",
      "3      3             5        5       5             5            5        3   \n",
      "4      3             5        5       5             5            5        5   \n",
      "\n",
      "   feedback  prompt  consistent  fair  responsive  praised  knowledgeable  \\\n",
      "0         4       4           4     4           4        4              3   \n",
      "1         5       5           3     4           5        5              5   \n",
      "2         5       5           5     5           5        5              5   \n",
      "3         5       5           5     5           3        5              5   \n",
      "4         5       3           4     5           5        5              5   \n",
      "\n",
      "   clear  overall  gender   age  tagender  taidgender  \n",
      "0      5        4       2  1990         0           1  \n",
      "1      5        4       1  1992         0           1  \n",
      "2      5        5       2  1991         0           1  \n",
      "3      5        5       2  1991         0           1  \n",
      "4      5        5       2  1992         0           1  \n",
      "           group  professional    respect     caring  enthusiastic  \\\n",
      "count  47.000000     43.000000  43.000000  43.000000     43.000000   \n",
      "mean    4.531915      4.325581   4.325581   3.930233      3.906977   \n",
      "std     1.158167      1.062811   1.062811   1.055492      1.019196   \n",
      "min     3.000000      1.000000   1.000000   1.000000      1.000000   \n",
      "25%     3.500000      4.000000   4.000000   3.500000      4.000000   \n",
      "50%     5.000000      5.000000   5.000000   4.000000      4.000000   \n",
      "75%     6.000000      5.000000   5.000000   5.000000      4.500000   \n",
      "max     6.000000      5.000000   5.000000   5.000000      5.000000   \n",
      "\n",
      "       communicate    helpful   feedback     prompt  consistent       fair  \\\n",
      "count    43.000000  43.000000  43.000000  43.000000   43.000000  43.000000   \n",
      "mean      3.953488   3.744186   3.953488   3.976744    3.744186   3.906977   \n",
      "std       1.068009   1.071115   1.132916   1.079867    1.156617   0.995560   \n",
      "min       1.000000   1.000000   1.000000   1.000000    1.000000   1.000000   \n",
      "25%       4.000000   3.000000   4.000000   4.000000    3.000000   3.500000   \n",
      "50%       4.000000   4.000000   4.000000   4.000000    4.000000   4.000000   \n",
      "75%       5.000000   5.000000   5.000000   5.000000    5.000000   5.000000   \n",
      "max       5.000000   5.000000   5.000000   5.000000    5.000000   5.000000   \n",
      "\n",
      "       responsive    praised  knowledgeable      clear    overall     gender  \\\n",
      "count   43.000000  43.000000      43.000000  43.000000  43.000000  43.000000   \n",
      "mean     3.767442   4.209302       4.139535   3.720930   3.953488   1.534884   \n",
      "std      0.996116   0.940064       0.989983   1.259735   1.022450   0.504685   \n",
      "min      1.000000   1.000000       1.000000   1.000000   1.000000   1.000000   \n",
      "25%      3.000000   4.000000       4.000000   3.000000   4.000000   1.000000   \n",
      "50%      4.000000   4.000000       4.000000   4.000000   4.000000   2.000000   \n",
      "75%      4.500000   5.000000       5.000000   5.000000   5.000000   2.000000   \n",
      "max      5.000000   5.000000       5.000000   5.000000   5.000000   2.000000   \n",
      "\n",
      "               age   tagender  taidgender  \n",
      "count    43.000000  47.000000   47.000000  \n",
      "mean   1990.325581   0.510638    0.489362  \n",
      "std       4.115713   0.505291    0.505291  \n",
      "min    1982.000000   0.000000    0.000000  \n",
      "25%    1990.000000   0.000000    0.000000  \n",
      "50%    1990.000000   1.000000    0.000000  \n",
      "75%    1991.000000   1.000000    1.000000  \n",
      "max    2012.000000   1.000000    1.000000  \n"
     ]
    }
   ],
   "source": [
    "ratings = pd.read_csv(\"Macnell-RatingsData.csv\")\n",
    "categories = ratings.columns.values.tolist()[1:15]\n",
    "print ratings.head()\n",
    "print ratings.describe()"
   ]
  },
  {
   "cell_type": "code",
   "execution_count": 9,
   "metadata": {
    "collapsed": false
   },
   "outputs": [
    {
     "name": "stdout",
     "output_type": "stream",
     "text": [
      "   group  grade  tagender  taidgender\n",
      "0      3  77.40         0           1\n",
      "1      3  89.02         0           1\n",
      "2      3  53.50         0           1\n",
      "3      3  88.32         0           1\n",
      "4      3  90.02         0           1\n",
      "           group      grade   tagender  taidgender\n",
      "count  47.000000  47.000000  47.000000   47.000000\n",
      "mean    4.531915  79.008936   0.510638    0.489362\n",
      "std     1.158167   9.971515   0.505291    0.505291\n",
      "min     3.000000  49.460000   0.000000    0.000000\n",
      "25%     3.500000  75.200000   0.000000    0.000000\n",
      "50%     5.000000  80.130000   1.000000    0.000000\n",
      "75%     6.000000  85.095000   1.000000    1.000000\n",
      "max     6.000000  95.100000   1.000000    1.000000\n"
     ]
    }
   ],
   "source": [
    "grades = pd.read_csv(\"Macnell-GradeData.csv\")\n",
    "print grades.head()\n",
    "print grades.describe()"
   ]
  },
  {
   "cell_type": "markdown",
   "metadata": {},
   "source": [
    "# Analysis\n",
    "\n",
    "## Evidence of gender bias"
   ]
  },
  {
   "cell_type": "markdown",
   "metadata": {},
   "source": [
    "### Ratings vs reported instructor gender (correlation)\n",
    "We use a stratified test to assess whether the correlation between ratings and reported instructor gender is statistically significant.  The strata are defined by instructor.  Permutations are done within strata (under the null, the rating doesn't depend on reported gender, but may differ by teacher), then strata are pooled to compute an overall Spearman correlation. \n",
    "Nonresponders are also assigned at random within strata, but are omitted from the calculation of the mean or correlation."
   ]
  },
  {
   "cell_type": "code",
   "execution_count": 10,
   "metadata": {
    "collapsed": false
   },
   "outputs": [
    {
     "name": "stdout",
     "output_type": "stream",
     "text": [
      "Overall rating:\n",
      "Correlation: 0.233924970178\n",
      "P-value (two-sided): 0.11365 \n",
      "\n",
      "\n",
      "\n",
      "Category                 Corr     P-value \n",
      "professional             0.29     0.06\n",
      "respect                  0.29     0.06\n",
      "caring                   0.25     0.10\n",
      "enthusiastic             0.28     0.06\n",
      "communicate              0.27     0.07\n",
      "helpful                  0.22     0.17\n",
      "feedback                 0.21     0.15\n",
      "prompt                   0.37     0.01\n",
      "consistent               0.20     0.21\n",
      "fair                     0.39     0.01\n",
      "responsive               0.11     0.46\n",
      "praised                  0.36     0.01\n",
      "knowledgeable            0.18     0.29\n",
      "clear                    0.17     0.29\n"
     ]
    }
   ],
   "source": [
    "(p, t) = stratified_corr(ratings['overall'], ratings['taidgender'], ratings['tagender'], alternative = \"two-sided\")\n",
    "print 'Overall rating:'\n",
    "print 'Correlation:', t\n",
    "print 'P-value (two-sided):', np.round(p, 5), \"\\n\"\n",
    "\n",
    "print ('\\n\\n{0:24} {1:8} {2:8}'.format('Category', 'Corr', 'P-value'))\n",
    "for col in categories:\n",
    "    (p, t) = stratified_corr(ratings[col], ratings['taidgender'], ratings['tagender'], alternative = \"two-sided\")\n",
    "    print ('{0:20} {1:8.2f} {2:8.2f}'.format(col, t, p))"
   ]
  },
  {
   "cell_type": "markdown",
   "metadata": {},
   "source": [
    "### Ratings vs reported instructor gender (difference in means)\n",
    "We use a stratified test to evaluate the significance of the difference in means between ratings and reported instructor gender.  As above, strata are defined by actual instructor.  There is a monotone transformation from the correlation to the difference in means statistic, so the two tests are equivalent.  \n",
    "P-values for these two tests should be the same, up to sampling variability."
   ]
  },
  {
   "cell_type": "code",
   "execution_count": 11,
   "metadata": {
    "collapsed": false
   },
   "outputs": [
    {
     "name": "stdout",
     "output_type": "stream",
     "text": [
      "Overall rating:\n",
      "Difference in means: 1.54059499043\n",
      "P-value (two-sided): 0.11173 \n",
      "\n",
      "\n",
      "\n",
      "Category                 Diff means P-value \n",
      "professional             1.93     0.06\n",
      "respect                  1.93     0.06\n",
      "caring                   1.66     0.10\n",
      "enthusiastic             1.90     0.06\n",
      "communicate              1.78     0.07\n",
      "helpful                  1.41     0.17\n",
      "feedback                 1.38     0.15\n",
      "prompt                   2.57     0.01\n",
      "consistent               1.30     0.21\n",
      "fair                     2.68     0.01\n",
      "responsive               0.72     0.48\n",
      "praised                  2.48     0.02\n",
      "knowledgeable            1.18     0.29\n",
      "clear                    1.07     0.29\n"
     ]
    }
   ],
   "source": [
    "(p, t) = stratified_two_sample(ratings['overall'][ratings.taidgender==1], ratings['overall'][ratings.taidgender==0], \n",
    "                               ratings['tagender'][ratings.taidgender == 1], \n",
    "                               ratings['tagender'][ratings.taidgender == 0],\n",
    "                               alternative = \"two-sided\", stat='t', seed = rs)\n",
    "print 'Overall rating:'\n",
    "print 'Difference in means:', t\n",
    "print 'P-value (two-sided):', np.round(p, 5), \"\\n\"\n",
    "\n",
    "print ('\\n\\n{0:24} {1:8} {2:8}'.format('Category', 'Diff means', 'P-value'))\n",
    "for col in categories:\n",
    "    (p, t) = stratified_two_sample(ratings[col][ratings.taidgender==1], ratings[col][ratings.taidgender==0], \n",
    "                               ratings['tagender'][ratings.taidgender == 1],\n",
    "                               ratings['tagender'][ratings.taidgender == 0],\n",
    "                               alternative = \"two-sided\", stat='t', seed = rs)\n",
    "    print ('{0:20} {1:8.2f} {2:8.2f}'.format(col, t, p))"
   ]
  },
  {
   "cell_type": "markdown",
   "metadata": {},
   "source": [
    "### Ratings vs concordance of student and reported instructor genders\n",
    "\n",
    "We tested the correlation between ratings and gender concordance (1 if the student had the same gender as the reported instructor gender; 0 otherwise). We report the results separately for male students and female students."
   ]
  },
  {
   "cell_type": "code",
   "execution_count": 12,
   "metadata": {
    "collapsed": false
   },
   "outputs": [
    {
     "name": "stdout",
     "output_type": "stream",
     "text": [
      "Male students\n",
      "\n",
      "Number of male students: 20 \n",
      "\n",
      "\n",
      "Category        Correlation Two-sided p-value\n",
      "Overall            0.090       0.81\n",
      "professional       0.217       0.40\n",
      "respect            0.217       0.33\n",
      "caring             0.020       1.00\n",
      "enthusiastic       0.090       0.82\n",
      "communicate        0.123       0.67\n",
      "helpful            0.211       0.42\n",
      "feedback           0.040       0.90\n",
      "prompt             0.377       0.15\n",
      "consistent         0.073       0.84\n",
      "fair               0.408       0.09\n",
      "responsive         0.181       0.53\n",
      "praised            0.287       0.26\n",
      "knowledgeable      0.078       0.77\n",
      "clear              0.056       0.76\n",
      "Female students\n",
      "\n",
      "Number of female students: 23 \n",
      "\n",
      "\n",
      "Category        Correlation Two-sided p-value\n",
      "Overall           -0.364       0.11\n",
      "professional      -0.361       0.09\n",
      "respect           -0.361       0.09\n",
      "caring            -0.458       0.05\n",
      "enthusiastic      -0.440       0.05\n",
      "communicate       -0.394       0.10\n",
      "helpful           -0.242       0.35\n",
      "feedback          -0.373       0.10\n",
      "prompt            -0.367       0.12\n",
      "consistent        -0.335       0.17\n",
      "fair              -0.431       0.04\n",
      "responsive        -0.032       1.00\n",
      "praised           -0.473       0.01\n",
      "knowledgeable     -0.293       0.21\n",
      "clear             -0.248       0.29\n"
     ]
    }
   ],
   "source": [
    "ratings['gender_concordance'] = ( (ratings['gender']% 2)==ratings['taidgender'] )\n",
    "stu_male = ratings[ratings['gender']==1]\n",
    "stu_female = ratings[ratings['gender']==2]\n",
    "\n",
    "print 'Male students\\n'\n",
    "print 'Number of male students:', stu_male.shape[0], '\\n'\n",
    "print ('\\n{0:15} {1:8} {2:8}'.format('Category', 'Correlation','Two-sided p-value'))\n",
    "(p, t) = stratified_corr(x = stu_male['overall'], y = stu_male['gender_concordance'],\n",
    "                         group = stu_male['tagender'], alternative=\"two-sided\", seed = rs)\n",
    "print ('{0:15} {1:8.3f} {2:10.2f}'.format('Overall', t, p))\n",
    "\n",
    "for col in categories:\n",
    "    (p, t) = stratified_corr(x = stu_male[col], y = stu_male['gender_concordance'], \n",
    "                  group = stu_male['tagender'], alternative=\"two-sided\", seed = rs)\n",
    "    print ('{0:15} {1:8.3f} {2:10.2f}'.format(col, t, p))\n",
    "\n",
    "print 'Female students\\n'\n",
    "print 'Number of female students:', stu_female.shape[0], '\\n'\n",
    "print ('\\n{0:15} {1:8} {2:8}'.format('Category', 'Correlation','Two-sided p-value'))\n",
    "(p, t) = stratified_corr(x = stu_female['overall'], y = stu_female['gender_concordance'], \n",
    "                         group = stu_female['tagender'], alternative=\"two-sided\", seed = rs)\n",
    "print ('{0:15} {1:8.3f} {2:10.2f}'.format('Overall', t, p))\n",
    "\n",
    "for col in categories:\n",
    "    (p, t) = stratified_corr(x = stu_female[col], y = stu_female['gender_concordance'], \n",
    "                  group = stu_female['tagender'], alternative=\"two-sided\", seed = rs)\n",
    "    print ('{0:15} {1:8.3f} {2:10.2f}'.format(col, t, p))"
   ]
  },
  {
   "cell_type": "markdown",
   "metadata": {},
   "source": [
    "### Ratings vs concordance of student and actual instructor genders\n",
    "\n",
    "Since the students didn't know the instructors' actual gender, we hope that there is no correlation between gender concordance and ratings. This analysis is unstratified.  We report the results separately for male students and female students."
   ]
  },
  {
   "cell_type": "code",
   "execution_count": 13,
   "metadata": {
    "collapsed": false
   },
   "outputs": [
    {
     "name": "stdout",
     "output_type": "stream",
     "text": [
      "Male students\n",
      "\n",
      "Number of male students: 20\n",
      "Correlation: -0.0718144366713\n",
      "Upper p-value: 0.6723\n",
      "Two-sided p-value: 0.7223\n",
      "\n",
      "Category        Correlation Upper p-value Two-sided p-value\n",
      "Overall           -0.072       0.68       0.72\n",
      "professional       0.080       0.36       0.75\n",
      "respect            0.080       0.44       0.83\n",
      "caring            -0.106       0.73       0.59\n",
      "enthusiastic      -0.072       0.57       0.82\n",
      "communicate       -0.010       0.60       0.84\n",
      "helpful            0.014       0.51       0.96\n",
      "feedback          -0.117       0.71       0.69\n",
      "prompt            -0.049       0.64       0.88\n",
      "consistent         0.054       0.49       0.85\n",
      "fair              -0.034       0.63       0.88\n",
      "responsive        -0.064       0.56       0.84\n",
      "praised            0.010       0.57       1.00\n",
      "knowledgeable      0.106       0.42       0.70\n",
      "clear             -0.119       0.72       0.64\n",
      "\n",
      "Female students\n",
      "\n",
      "Number of female students: 23\n",
      "Correlation: 0.132379460479\n",
      "Upper p-value: 0.3361\n",
      "Two-sided p-value: 0.5614\n",
      "\n",
      "Category        Correlation Upper p-value Two-sided p-value\n",
      "Overall            0.132       0.34       0.57\n",
      "professional       0.038       0.41       0.95\n",
      "respect            0.038       0.41       0.94\n",
      "caring             0.033       0.50       0.98\n",
      "enthusiastic       0.197       0.18       0.39\n",
      "communicate        0.081       0.38       0.67\n",
      "helpful           -0.122       0.70       0.70\n",
      "feedback           0.168       0.28       0.51\n",
      "prompt             0.135       0.25       0.52\n",
      "consistent         0.168       0.28       0.48\n",
      "fair               0.282       0.13       0.23\n",
      "responsive         0.350       0.08       0.12\n",
      "praised            0.339       0.07       0.13\n",
      "knowledgeable      0.237       0.17       0.37\n",
      "clear              0.351       0.06       0.13\n"
     ]
    }
   ],
   "source": [
    "ratings['gender_concordance_actual'] = ( (ratings['gender']% 2)==ratings['tagender'] )\n",
    "stu_male = ratings[ratings['gender']==1]\n",
    "stu_female = ratings[ratings['gender']==2]\n",
    "\n",
    "(t, plow, pupper, pboth, sims) = corr(x = stu_male['overall'], \\\n",
    "                                      y = stu_male['gender_concordance_actual'], seed = rs)\n",
    "print 'Male students\\n'\n",
    "print 'Number of male students:', stu_male.shape[0]\n",
    "print 'Correlation:', t\n",
    "print 'Upper p-value:', pupper\n",
    "print 'Two-sided p-value:', pboth\n",
    "print ('\\n{0:15} {1:8} {2:8} {3:8}'.format('Category', 'Correlation',\\\n",
    "                                           'Upper p-value', 'Two-sided p-value'))\n",
    "(t, plow, pupper, pboth, sims) = corr(x = stu_male['overall'], \\\n",
    "                                      y = stu_male['gender_concordance_actual'], seed = rs)\n",
    "print ('{0:15} {1:8.3f} {2:10.2f} {3:10.2f}'.format('Overall', t, pupper, pboth))\n",
    "\n",
    "for col in categories:\n",
    "    (t, plow, pupper, pboth, sims) = corr(x = stu_male[col], \\\n",
    "                                          y = stu_male['gender_concordance_actual'], seed = rs)\n",
    "    print ('{0:15} {1:8.3f} {2:10.2f} {3:10.2f}'.format(col, t, pupper, pboth))\n",
    "\n",
    "\n",
    "(t, plow, pupper, pboth, sims) = corr(x = stu_female['overall'], \\\n",
    "                                      y = stu_female['gender_concordance_actual'], seed = rs)\n",
    "print '\\nFemale students\\n'\n",
    "print 'Number of female students:', stu_female.shape[0]\n",
    "print 'Correlation:', t\n",
    "print 'Upper p-value:', pupper\n",
    "print 'Two-sided p-value:', pboth\n",
    "print ('\\n{0:15} {1:8} {2:8} {3:8}'.format('Category', 'Correlation',\\\n",
    "                                           'Upper p-value', 'Two-sided p-value'))\n",
    "(t, plow, pupper, pboth, sims) = corr(x = stu_female['overall'], \\\n",
    "                                      y = stu_female['gender_concordance_actual'], seed = rs)\n",
    "print ('{0:15} {1:8.3f} {2:10.2f} {3:10.2f}'.format('Overall', t, pupper, pboth))\n",
    "\n",
    "for col in categories:\n",
    "    (t, plow, pupper, pboth, sims) = corr(x = stu_female[col], \\\n",
    "                                          y = stu_female['gender_concordance_actual'], seed = rs)\n",
    "    print ('{0:15} {1:8.3f} {2:10.2f} {3:10.2f}'.format(col, t, pupper, pboth))"
   ]
  },
  {
   "cell_type": "markdown",
   "metadata": {},
   "source": [
    "## Grades and instructor gender\n",
    "\n",
    "### Course grade and reported instructor gender\n",
    "Do students of male- and female-identified instructors perform equally, as measured by course grade? We do a stratified two-sample permutation t-test, where strata are defined by actual instructor."
   ]
  },
  {
   "cell_type": "code",
   "execution_count": 14,
   "metadata": {
    "collapsed": false
   },
   "outputs": [
    {
     "name": "stdout",
     "output_type": "stream",
     "text": [
      "Course grade and reported instructor gender:\n",
      "t statistic: 0.59964\n",
      "P-value (two-sided): 0.53839\n",
      "Number of students of male-identified instructors: 23\n",
      "Number of students of female-identified instructors: 24\n"
     ]
    }
   ],
   "source": [
    "(p, t) = stratified_two_sample(grades['grade'][grades.taidgender==1], grades['grade'][grades.taidgender==0], \\\n",
    "                               grades['tagender'][grades.taidgender==1], grades['tagender'][grades.taidgender==0], \\\n",
    "                              stat = 't', alternative = \"two-sided\", seed = rs)\n",
    "print 'Course grade and reported instructor gender:'\n",
    "print 't statistic:', np.round(t, 5)\n",
    "print 'P-value (two-sided):', np.round(p, 5)\n",
    "print 'Number of students of male-identified instructors:', np.sum(grades.taidgender==1)\n",
    "print 'Number of students of female-identified instructors:', np.sum(grades.taidgender==0)"
   ]
  },
  {
   "cell_type": "markdown",
   "metadata": {},
   "source": [
    "### Course grade and actual instructor gender\n",
    "Do students of male and female instructors perform equally, as measured by course grade?  We do an unstratified two-sample permutation t-test."
   ]
  },
  {
   "cell_type": "code",
   "execution_count": 15,
   "metadata": {
    "collapsed": false
   },
   "outputs": [
    {
     "name": "stdout",
     "output_type": "stream",
     "text": [
      "Course grade:\n",
      "t statistic: -2.46688\n",
      "P-value (two-sided): 0.01597\n",
      "Number of students of male instructors: 23\n",
      "Number of students of female instructors: 24\n"
     ]
    }
   ],
   "source": [
    "(p, t) = two_sample(grades['grade'][grades.tagender==1], grades['grade'][grades.tagender==0], \\\n",
    "                              stat = 't', alternative = \"two-sided\", seed = rs)\n",
    "print 'Course grade:'\n",
    "print 't statistic:', np.round(t, 5)\n",
    "print 'P-value (two-sided):', np.round(p, 5)\n",
    "print 'Number of students of male instructors:', np.sum(grades.taidgender==1)\n",
    "print 'Number of students of female instructors:', np.sum(grades.taidgender==0)"
   ]
  },
  {
   "cell_type": "code",
   "execution_count": 16,
   "metadata": {
    "collapsed": false
   },
   "outputs": [
    {
     "data": {
      "text/plain": [
       "23"
      ]
     },
     "execution_count": 16,
     "metadata": {},
     "output_type": "execute_result"
    }
   ],
   "source": [
    "np.sum(ratings['gender']==2)"
   ]
  },
  {
   "cell_type": "markdown",
   "metadata": {},
   "source": [
    "## References\n",
    "\n",
    "MacNell, L., Driscoll, A., and Hunt, A.N., 2015. What’s in a Name: Exposing Gender Bias in Student Ratings of Teaching, _Innovative Higher Education_, _40_, 291&ndash;303."
   ]
  }
 ],
 "metadata": {
  "kernelspec": {
   "display_name": "Python 2",
   "language": "python",
   "name": "python2"
  },
  "language_info": {
   "codemirror_mode": {
    "name": "ipython",
    "version": 2
   },
   "file_extension": ".py",
   "mimetype": "text/x-python",
   "name": "python",
   "nbconvert_exporter": "python",
   "pygments_lexer": "ipython2",
   "version": "2.7.10"
  }
 },
 "nbformat": 4,
 "nbformat_minor": 0
}
