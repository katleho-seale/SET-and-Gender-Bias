{
 "cells": [
  {
   "cell_type": "markdown",
   "metadata": {},
   "source": [
    "Gender Biases in Student Evaluations of Teachers - A Randomized, Online Experiment\n",
    "====================================================\n"
   ]
  },
  {
   "cell_type": "code",
   "execution_count": 1,
   "metadata": {
    "collapsed": true
   },
   "outputs": [],
   "source": [
    "# boilerplate\n",
    "%matplotlib inline\n",
    "import math\n",
    "import numpy as np\n",
    "import pandas as pd\n",
    "from numpy.random import random\n",
    "import scipy as sp\n",
    "from scipy import special\n",
    "import matplotlib.pyplot as plt\n",
    "from __future__ import division\n",
    "\n",
    "# initialize PRNG\n",
    "rs = np.random.RandomState(seed=1)"
   ]
  },
  {
   "cell_type": "markdown",
   "metadata": {},
   "source": [
    "Permutation test code\n",
    "============\n",
    "You must install the _permute_ package to use this code. Install instructions can be found at https://github.com/statlab/permute."
   ]
  },
  {
   "cell_type": "code",
   "execution_count": 2,
   "metadata": {
    "collapsed": true
   },
   "outputs": [],
   "source": [
    "from permute.core import corr, two_sample  \n",
    "from permute import stratified"
   ]
  },
  {
   "cell_type": "markdown",
   "metadata": {},
   "source": [
    "Read data\n",
    "=================\n",
    "\n",
    "Some notes on the variables:\n",
    "* **group** identifies the section the student was placed in.\n",
    "* **gender** refers to the student's gender: 1 = male, 2 = female.\n",
    "* **tagender** is the instructor's true gender: 1 = male, 0 = female.\n",
    "* **taidgender** is the instructor's reported gender: 1 = male, 0 = female."
   ]
  },
  {
   "cell_type": "code",
   "execution_count": 6,
   "metadata": {
    "collapsed": false
   },
   "outputs": [
    {
     "data": {
      "text/html": [
       "<div style=\"max-height:1000px;max-width:1500px;overflow:auto;\">\n",
       "<table border=\"1\" class=\"dataframe\">\n",
       "  <thead>\n",
       "    <tr style=\"text-align: right;\">\n",
       "      <th></th>\n",
       "      <th>group</th>\n",
       "      <th>professional</th>\n",
       "      <th>respect</th>\n",
       "      <th>caring</th>\n",
       "      <th>enthusiastic</th>\n",
       "      <th>communicate</th>\n",
       "      <th>helpful</th>\n",
       "      <th>feedback</th>\n",
       "      <th>prompt</th>\n",
       "      <th>consistent</th>\n",
       "      <th>fair</th>\n",
       "      <th>responsive</th>\n",
       "      <th>praised</th>\n",
       "      <th>knowledgeable</th>\n",
       "      <th>clear</th>\n",
       "      <th>overall</th>\n",
       "      <th>gender</th>\n",
       "      <th>age</th>\n",
       "      <th>tagender</th>\n",
       "      <th>taidgender</th>\n",
       "    </tr>\n",
       "  </thead>\n",
       "  <tbody>\n",
       "    <tr>\n",
       "      <th>0</th>\n",
       "      <td> 3</td>\n",
       "      <td> 5</td>\n",
       "      <td> 5</td>\n",
       "      <td> 4</td>\n",
       "      <td> 4</td>\n",
       "      <td> 4</td>\n",
       "      <td> 3</td>\n",
       "      <td> 4</td>\n",
       "      <td> 4</td>\n",
       "      <td> 4</td>\n",
       "      <td> 4</td>\n",
       "      <td> 4</td>\n",
       "      <td> 4</td>\n",
       "      <td> 3</td>\n",
       "      <td> 5</td>\n",
       "      <td> 4</td>\n",
       "      <td> 2</td>\n",
       "      <td> 1990</td>\n",
       "      <td> 0</td>\n",
       "      <td> 1</td>\n",
       "    </tr>\n",
       "    <tr>\n",
       "      <th>1</th>\n",
       "      <td> 3</td>\n",
       "      <td> 4</td>\n",
       "      <td> 4</td>\n",
       "      <td> 4</td>\n",
       "      <td> 4</td>\n",
       "      <td> 5</td>\n",
       "      <td> 5</td>\n",
       "      <td> 5</td>\n",
       "      <td> 5</td>\n",
       "      <td> 3</td>\n",
       "      <td> 4</td>\n",
       "      <td> 5</td>\n",
       "      <td> 5</td>\n",
       "      <td> 5</td>\n",
       "      <td> 5</td>\n",
       "      <td> 4</td>\n",
       "      <td> 1</td>\n",
       "      <td> 1992</td>\n",
       "      <td> 0</td>\n",
       "      <td> 1</td>\n",
       "    </tr>\n",
       "    <tr>\n",
       "      <th>2</th>\n",
       "      <td> 3</td>\n",
       "      <td> 5</td>\n",
       "      <td> 5</td>\n",
       "      <td> 5</td>\n",
       "      <td> 5</td>\n",
       "      <td> 5</td>\n",
       "      <td> 5</td>\n",
       "      <td> 5</td>\n",
       "      <td> 5</td>\n",
       "      <td> 5</td>\n",
       "      <td> 5</td>\n",
       "      <td> 5</td>\n",
       "      <td> 5</td>\n",
       "      <td> 5</td>\n",
       "      <td> 5</td>\n",
       "      <td> 5</td>\n",
       "      <td> 2</td>\n",
       "      <td> 1991</td>\n",
       "      <td> 0</td>\n",
       "      <td> 1</td>\n",
       "    </tr>\n",
       "    <tr>\n",
       "      <th>3</th>\n",
       "      <td> 3</td>\n",
       "      <td> 5</td>\n",
       "      <td> 5</td>\n",
       "      <td> 5</td>\n",
       "      <td> 5</td>\n",
       "      <td> 5</td>\n",
       "      <td> 3</td>\n",
       "      <td> 5</td>\n",
       "      <td> 5</td>\n",
       "      <td> 5</td>\n",
       "      <td> 5</td>\n",
       "      <td> 3</td>\n",
       "      <td> 5</td>\n",
       "      <td> 5</td>\n",
       "      <td> 5</td>\n",
       "      <td> 5</td>\n",
       "      <td> 2</td>\n",
       "      <td> 1991</td>\n",
       "      <td> 0</td>\n",
       "      <td> 1</td>\n",
       "    </tr>\n",
       "    <tr>\n",
       "      <th>4</th>\n",
       "      <td> 3</td>\n",
       "      <td> 5</td>\n",
       "      <td> 5</td>\n",
       "      <td> 5</td>\n",
       "      <td> 5</td>\n",
       "      <td> 5</td>\n",
       "      <td> 5</td>\n",
       "      <td> 5</td>\n",
       "      <td> 3</td>\n",
       "      <td> 4</td>\n",
       "      <td> 5</td>\n",
       "      <td> 5</td>\n",
       "      <td> 5</td>\n",
       "      <td> 5</td>\n",
       "      <td> 5</td>\n",
       "      <td> 5</td>\n",
       "      <td> 2</td>\n",
       "      <td> 1992</td>\n",
       "      <td> 0</td>\n",
       "      <td> 1</td>\n",
       "    </tr>\n",
       "  </tbody>\n",
       "</table>\n",
       "</div>"
      ],
      "text/plain": [
       "   group  professional  respect  caring  enthusiastic  communicate  helpful  \\\n",
       "0      3             5        5       4             4            4        3   \n",
       "1      3             4        4       4             4            5        5   \n",
       "2      3             5        5       5             5            5        5   \n",
       "3      3             5        5       5             5            5        3   \n",
       "4      3             5        5       5             5            5        5   \n",
       "\n",
       "   feedback  prompt  consistent  fair  responsive  praised  knowledgeable  \\\n",
       "0         4       4           4     4           4        4              3   \n",
       "1         5       5           3     4           5        5              5   \n",
       "2         5       5           5     5           5        5              5   \n",
       "3         5       5           5     5           3        5              5   \n",
       "4         5       3           4     5           5        5              5   \n",
       "\n",
       "   clear  overall  gender   age  tagender  taidgender  \n",
       "0      5        4       2  1990         0           1  \n",
       "1      5        4       1  1992         0           1  \n",
       "2      5        5       2  1991         0           1  \n",
       "3      5        5       2  1991         0           1  \n",
       "4      5        5       2  1992         0           1  "
      ]
     },
     "execution_count": 6,
     "metadata": {},
     "output_type": "execute_result"
    }
   ],
   "source": [
    "ratings = pd.read_csv(\"Macnell-RatingsData.csv\")\n",
    "ratings.head()"
   ]
  },
  {
   "cell_type": "markdown",
   "metadata": {},
   "source": [
    "# Analysis\n",
    "\n",
    "### Ratings vs reported instructor gender"
   ]
  },
  {
   "cell_type": "code",
   "execution_count": 22,
   "metadata": {
    "collapsed": false
   },
   "outputs": [
    {
     "name": "stdout",
     "output_type": "stream",
     "text": [
      "t statistic: 1.82159\n",
      "P-value (two-sided): 0.04503\n",
      "95% Confidence Interval for the P-value [ 0.04375  0.04633]\n",
      "Number of evaluations for male-identified instructors: 23\n",
      "Number of evaluations for female-identified instructors: 20\n"
     ]
    }
   ],
   "source": [
    "(p, t, ci, dist) = two_sample(ratings.overall[ratings.taidgender==1], ratings.overall[ratings.taidgender==0], \\\n",
    "                              stat = 't', interval = 'two-sided', keep_dist = True)\n",
    "print 't statistic:', np.round(t, 5)\n",
    "print 'P-value (two-sided):', np.round(p, 5)\n",
    "print '95% Confidence Interval for the P-value', np.round(ci, 5)\n",
    "print 'Number of evaluations for male-identified instructors:', np.sum(ratings.taidgender==1)\n",
    "print 'Number of evaluations for female-identified instructors:', np.sum(ratings.taidgender==0)"
   ]
  },
  {
   "cell_type": "markdown",
   "metadata": {},
   "source": [
    "### Ratings vs concordance of student and REPORTED instructor genders\n"
   ]
  },
  {
   "cell_type": "code",
   "execution_count": 21,
   "metadata": {
    "collapsed": false
   },
   "outputs": [
    {
     "name": "stdout",
     "output_type": "stream",
     "text": [
      "Male students\n",
      "\n",
      "Number of male students: 20\n",
      "Correlation: 0.089757421773\n",
      "Upper p-value: 0.4249\n",
      "Two-sided p-value: 0.8118\n",
      "\n",
      "Female students\n",
      "\n",
      "Number of female students: 23\n",
      "Correlation: -0.363538598784\n",
      "Upper p-value: 0.9705\n",
      "Two-sided p-value: 0.0824\n"
     ]
    }
   ],
   "source": [
    "ratings['gender_concordance'] = ( (ratings['gender']% 2)==ratings['taidgender'] )\n",
    "stu_male = ratings[ratings['gender']==1]\n",
    "stu_female = ratings[ratings['gender']==2]\n",
    "\n",
    "(t, plow, pupper, pboth, sims) = corr(x = stu_male['overall'], y = stu_male['gender_concordance'], seed = rs)\n",
    "print 'Male students\\n'\n",
    "print 'Number of male students:', stu_male.shape[0]\n",
    "print 'Correlation:', t\n",
    "print 'Upper p-value:', pupper\n",
    "print 'Two-sided p-value:', pboth\n",
    "\n",
    "(t, plow, pupper, pboth, sims) = corr(x = stu_female['overall'], y = stu_female['gender_concordance'], seed = rs)\n",
    "print '\\nFemale students\\n'\n",
    "print 'Number of female students:', stu_female.shape[0]\n",
    "print 'Correlation:', t\n",
    "print 'Upper p-value:', pupper\n",
    "print 'Two-sided p-value:', pboth"
   ]
  },
  {
   "cell_type": "markdown",
   "metadata": {},
   "source": [
    "### As a sanity check -- Ratings vs concordance of student and ACTUAL instructor genders\n"
   ]
  },
  {
   "cell_type": "code",
   "execution_count": 20,
   "metadata": {
    "collapsed": false
   },
   "outputs": [
    {
     "name": "stdout",
     "output_type": "stream",
     "text": [
      "Male students\n",
      "\n",
      "Number of male students: 20\n",
      "Correlation: -0.0718144366713\n",
      "Upper p-value: 0.6749\n",
      "Two-sided p-value: 0.7227\n",
      "\n",
      "Female students\n",
      "\n",
      "Number of female students: 23\n",
      "Correlation: 0.132379460479\n",
      "Upper p-value: 0.3375\n",
      "Two-sided p-value: 0.5665\n"
     ]
    }
   ],
   "source": [
    "ratings['gender_concordance_actual'] = ( (ratings['gender']% 2)==ratings['tagender'] )\n",
    "stu_male = ratings[ratings['gender']==1]\n",
    "stu_female = ratings[ratings['gender']==2]\n",
    "\n",
    "(t, plow, pupper, pboth, sims) = corr(x = stu_male['overall'], y = stu_male['gender_concordance_actual'], seed = rs)\n",
    "print 'Male students\\n'\n",
    "print 'Number of male students:', stu_male.shape[0]\n",
    "print 'Correlation:', t\n",
    "print 'Upper p-value:', pupper\n",
    "print 'Two-sided p-value:', pboth\n",
    "\n",
    "(t, plow, pupper, pboth, sims) = corr(x = stu_female['overall'], y = stu_female['gender_concordance_actual'], seed = rs)\n",
    "print '\\nFemale students\\n'\n",
    "print 'Number of female students:', stu_female.shape[0]\n",
    "print 'Correlation:', t\n",
    "print 'Upper p-value:', pupper\n",
    "print 'Two-sided p-value:', pboth"
   ]
  },
  {
   "cell_type": "code",
   "execution_count": null,
   "metadata": {
    "collapsed": true
   },
   "outputs": [],
   "source": []
  }
 ],
 "metadata": {
  "kernelspec": {
   "display_name": "Python 2",
   "language": "python",
   "name": "python2"
  },
  "language_info": {
   "codemirror_mode": {
    "name": "ipython",
    "version": 2
   },
   "file_extension": ".py",
   "mimetype": "text/x-python",
   "name": "python",
   "nbconvert_exporter": "python",
   "pygments_lexer": "ipython2",
   "version": "2.7.9"
  }
 },
 "nbformat": 4,
 "nbformat_minor": 0
}
