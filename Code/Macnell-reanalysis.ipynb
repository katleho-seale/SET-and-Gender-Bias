{
 "cells": [
  {
   "cell_type": "markdown",
   "metadata": {},
   "source": [
    "Gender Biases in Student Evaluations of Teachers - A Randomized, Online Experiment\n",
    "====================================================\n"
   ]
  },
  {
   "cell_type": "code",
   "execution_count": 1,
   "metadata": {
    "collapsed": true
   },
   "outputs": [],
   "source": [
    "# boilerplate\n",
    "%matplotlib inline\n",
    "import math\n",
    "import numpy as np\n",
    "import pandas as pd\n",
    "from numpy.random import random\n",
    "import scipy as sp\n",
    "from scipy import special\n",
    "import matplotlib.pyplot as plt\n",
    "from __future__ import division\n",
    "\n",
    "# initialize PRNG\n",
    "rs = np.random.RandomState(seed=1)"
   ]
  },
  {
   "cell_type": "markdown",
   "metadata": {},
   "source": [
    "Permutation test code\n",
    "============\n",
    "You must install the _permute_ package to use this code. Install instructions can be found at https://github.com/statlab/permute."
   ]
  },
  {
   "cell_type": "code",
   "execution_count": 2,
   "metadata": {
    "collapsed": false
   },
   "outputs": [],
   "source": [
    "from permute.core import corr, two_sample, permute_within_groups"
   ]
  },
  {
   "cell_type": "markdown",
   "metadata": {},
   "source": [
    "Read data\n",
    "=================\n",
    "\n",
    "Some notes on the variables:\n",
    "* **group** identifies the section the student was placed in.\n",
    "* **gender** refers to the student's gender: 1 = male, 2 = female.\n",
    "* **tagender** is the instructor's true gender: 1 = male, 0 = female.\n",
    "* **taidgender** is the instructor's reported gender: 1 = male, 0 = female.\n",
    "* **grade** is on a scale from 0-100\n",
    "\n",
    "Furthermore, the IRB did not allow grades to be linked to ratings. 4 students did not submit evaluations, but we do not know which ones. There are 43 ratings and 47 grades."
   ]
  },
  {
   "cell_type": "code",
   "execution_count": 3,
   "metadata": {
    "collapsed": false
   },
   "outputs": [
    {
     "data": {
      "text/html": [
       "<div style=\"max-height:1000px;max-width:1500px;overflow:auto;\">\n",
       "<table border=\"1\" class=\"dataframe\">\n",
       "  <thead>\n",
       "    <tr style=\"text-align: right;\">\n",
       "      <th></th>\n",
       "      <th>group</th>\n",
       "      <th>professional</th>\n",
       "      <th>respect</th>\n",
       "      <th>caring</th>\n",
       "      <th>enthusiastic</th>\n",
       "      <th>communicate</th>\n",
       "      <th>helpful</th>\n",
       "      <th>feedback</th>\n",
       "      <th>prompt</th>\n",
       "      <th>consistent</th>\n",
       "      <th>fair</th>\n",
       "      <th>responsive</th>\n",
       "      <th>praised</th>\n",
       "      <th>knowledgeable</th>\n",
       "      <th>clear</th>\n",
       "      <th>overall</th>\n",
       "      <th>gender</th>\n",
       "      <th>age</th>\n",
       "      <th>tagender</th>\n",
       "      <th>taidgender</th>\n",
       "    </tr>\n",
       "  </thead>\n",
       "  <tbody>\n",
       "    <tr>\n",
       "      <th>0</th>\n",
       "      <td> 3</td>\n",
       "      <td> 5</td>\n",
       "      <td> 5</td>\n",
       "      <td> 4</td>\n",
       "      <td> 4</td>\n",
       "      <td> 4</td>\n",
       "      <td> 3</td>\n",
       "      <td> 4</td>\n",
       "      <td> 4</td>\n",
       "      <td> 4</td>\n",
       "      <td> 4</td>\n",
       "      <td> 4</td>\n",
       "      <td> 4</td>\n",
       "      <td> 3</td>\n",
       "      <td> 5</td>\n",
       "      <td> 4</td>\n",
       "      <td> 2</td>\n",
       "      <td> 1990</td>\n",
       "      <td> 0</td>\n",
       "      <td> 1</td>\n",
       "    </tr>\n",
       "    <tr>\n",
       "      <th>1</th>\n",
       "      <td> 3</td>\n",
       "      <td> 4</td>\n",
       "      <td> 4</td>\n",
       "      <td> 4</td>\n",
       "      <td> 4</td>\n",
       "      <td> 5</td>\n",
       "      <td> 5</td>\n",
       "      <td> 5</td>\n",
       "      <td> 5</td>\n",
       "      <td> 3</td>\n",
       "      <td> 4</td>\n",
       "      <td> 5</td>\n",
       "      <td> 5</td>\n",
       "      <td> 5</td>\n",
       "      <td> 5</td>\n",
       "      <td> 4</td>\n",
       "      <td> 1</td>\n",
       "      <td> 1992</td>\n",
       "      <td> 0</td>\n",
       "      <td> 1</td>\n",
       "    </tr>\n",
       "    <tr>\n",
       "      <th>2</th>\n",
       "      <td> 3</td>\n",
       "      <td> 5</td>\n",
       "      <td> 5</td>\n",
       "      <td> 5</td>\n",
       "      <td> 5</td>\n",
       "      <td> 5</td>\n",
       "      <td> 5</td>\n",
       "      <td> 5</td>\n",
       "      <td> 5</td>\n",
       "      <td> 5</td>\n",
       "      <td> 5</td>\n",
       "      <td> 5</td>\n",
       "      <td> 5</td>\n",
       "      <td> 5</td>\n",
       "      <td> 5</td>\n",
       "      <td> 5</td>\n",
       "      <td> 2</td>\n",
       "      <td> 1991</td>\n",
       "      <td> 0</td>\n",
       "      <td> 1</td>\n",
       "    </tr>\n",
       "    <tr>\n",
       "      <th>3</th>\n",
       "      <td> 3</td>\n",
       "      <td> 5</td>\n",
       "      <td> 5</td>\n",
       "      <td> 5</td>\n",
       "      <td> 5</td>\n",
       "      <td> 5</td>\n",
       "      <td> 3</td>\n",
       "      <td> 5</td>\n",
       "      <td> 5</td>\n",
       "      <td> 5</td>\n",
       "      <td> 5</td>\n",
       "      <td> 3</td>\n",
       "      <td> 5</td>\n",
       "      <td> 5</td>\n",
       "      <td> 5</td>\n",
       "      <td> 5</td>\n",
       "      <td> 2</td>\n",
       "      <td> 1991</td>\n",
       "      <td> 0</td>\n",
       "      <td> 1</td>\n",
       "    </tr>\n",
       "    <tr>\n",
       "      <th>4</th>\n",
       "      <td> 3</td>\n",
       "      <td> 5</td>\n",
       "      <td> 5</td>\n",
       "      <td> 5</td>\n",
       "      <td> 5</td>\n",
       "      <td> 5</td>\n",
       "      <td> 5</td>\n",
       "      <td> 5</td>\n",
       "      <td> 3</td>\n",
       "      <td> 4</td>\n",
       "      <td> 5</td>\n",
       "      <td> 5</td>\n",
       "      <td> 5</td>\n",
       "      <td> 5</td>\n",
       "      <td> 5</td>\n",
       "      <td> 5</td>\n",
       "      <td> 2</td>\n",
       "      <td> 1992</td>\n",
       "      <td> 0</td>\n",
       "      <td> 1</td>\n",
       "    </tr>\n",
       "  </tbody>\n",
       "</table>\n",
       "</div>"
      ],
      "text/plain": [
       "   group  professional  respect  caring  enthusiastic  communicate  helpful  \\\n",
       "0      3             5        5       4             4            4        3   \n",
       "1      3             4        4       4             4            5        5   \n",
       "2      3             5        5       5             5            5        5   \n",
       "3      3             5        5       5             5            5        3   \n",
       "4      3             5        5       5             5            5        5   \n",
       "\n",
       "   feedback  prompt  consistent  fair  responsive  praised  knowledgeable  \\\n",
       "0         4       4           4     4           4        4              3   \n",
       "1         5       5           3     4           5        5              5   \n",
       "2         5       5           5     5           5        5              5   \n",
       "3         5       5           5     5           3        5              5   \n",
       "4         5       3           4     5           5        5              5   \n",
       "\n",
       "   clear  overall  gender   age  tagender  taidgender  \n",
       "0      5        4       2  1990         0           1  \n",
       "1      5        4       1  1992         0           1  \n",
       "2      5        5       2  1991         0           1  \n",
       "3      5        5       2  1991         0           1  \n",
       "4      5        5       2  1992         0           1  "
      ]
     },
     "execution_count": 3,
     "metadata": {},
     "output_type": "execute_result"
    }
   ],
   "source": [
    "ratings = pd.read_csv(\"Macnell-RatingsData.csv\")\n",
    "categories = ratings.columns.values.tolist()[1:15]\n",
    "ratings.head()"
   ]
  },
  {
   "cell_type": "code",
   "execution_count": 4,
   "metadata": {
    "collapsed": false
   },
   "outputs": [
    {
     "data": {
      "text/html": [
       "<div style=\"max-height:1000px;max-width:1500px;overflow:auto;\">\n",
       "<table border=\"1\" class=\"dataframe\">\n",
       "  <thead>\n",
       "    <tr style=\"text-align: right;\">\n",
       "      <th></th>\n",
       "      <th>group</th>\n",
       "      <th>grade</th>\n",
       "      <th>tagender</th>\n",
       "      <th>taidgender</th>\n",
       "    </tr>\n",
       "  </thead>\n",
       "  <tbody>\n",
       "    <tr>\n",
       "      <th>0</th>\n",
       "      <td> 3</td>\n",
       "      <td> 77.40</td>\n",
       "      <td> 0</td>\n",
       "      <td> 1</td>\n",
       "    </tr>\n",
       "    <tr>\n",
       "      <th>1</th>\n",
       "      <td> 3</td>\n",
       "      <td> 89.02</td>\n",
       "      <td> 0</td>\n",
       "      <td> 1</td>\n",
       "    </tr>\n",
       "    <tr>\n",
       "      <th>2</th>\n",
       "      <td> 3</td>\n",
       "      <td> 53.50</td>\n",
       "      <td> 0</td>\n",
       "      <td> 1</td>\n",
       "    </tr>\n",
       "    <tr>\n",
       "      <th>3</th>\n",
       "      <td> 3</td>\n",
       "      <td> 88.32</td>\n",
       "      <td> 0</td>\n",
       "      <td> 1</td>\n",
       "    </tr>\n",
       "    <tr>\n",
       "      <th>4</th>\n",
       "      <td> 3</td>\n",
       "      <td> 90.02</td>\n",
       "      <td> 0</td>\n",
       "      <td> 1</td>\n",
       "    </tr>\n",
       "  </tbody>\n",
       "</table>\n",
       "</div>"
      ],
      "text/plain": [
       "   group  grade  tagender  taidgender\n",
       "0      3  77.40         0           1\n",
       "1      3  89.02         0           1\n",
       "2      3  53.50         0           1\n",
       "3      3  88.32         0           1\n",
       "4      3  90.02         0           1"
      ]
     },
     "execution_count": 4,
     "metadata": {},
     "output_type": "execute_result"
    }
   ],
   "source": [
    "grades = pd.read_csv(\"Macnell-GradeData.csv\")\n",
    "grades.head()"
   ]
  },
  {
   "cell_type": "markdown",
   "metadata": {},
   "source": [
    "# Analysis\n",
    "\n",
    "## Evidence of gender bias\n",
    "\n",
    "### Ratings vs reported instructor gender"
   ]
  },
  {
   "cell_type": "code",
   "execution_count": 5,
   "metadata": {
    "collapsed": false
   },
   "outputs": [
    {
     "name": "stdout",
     "output_type": "stream",
     "text": [
      "Overall rating:\n",
      "t statistic: 1.82159\n",
      "P-value (two-sided): 0.0951\n",
      "Number of evaluations for male-identified instructors: 23\n",
      "Number of evaluations for female-identified instructors: 20\n",
      "\n",
      "\n",
      "Category                 t        p-value \n",
      "professional             1.93     0.07\n",
      "respect                  1.93     0.07\n",
      "caring                   2.24     0.04\n",
      "enthusiastic             2.14     0.05\n",
      "communicate              2.06     0.06\n",
      "helpful                  1.79     0.09\n",
      "feedback                 1.63     0.14\n",
      "prompt                   2.21     0.04\n",
      "consistent               1.65     0.09\n",
      "fair                     2.96     0.00\n",
      "responsive               1.12     0.29\n",
      "praised                  2.73     0.01\n",
      "knowledgeable            1.64     0.13\n",
      "clear                    1.37     0.19\n"
     ]
    }
   ],
   "source": [
    "(p, t) = two_sample(ratings['overall'][ratings.taidgender==1], ratings['overall'][ratings.taidgender==0], \\\n",
    "                              stat = 't', alternative = \"two-sided\", keep_dist = False)\n",
    "print 'Overall rating:'\n",
    "print 't statistic:', np.round(t, 5)\n",
    "print 'P-value (two-sided):', np.round(p, 5)\n",
    "print 'Number of evaluations for male-identified instructors:', np.sum(ratings.taidgender==1)\n",
    "print 'Number of evaluations for female-identified instructors:', np.sum(ratings.taidgender==0)\n",
    "\n",
    "print ('\\n\\n{0:24} {1:8} {2:8}'.format('Category', 't', 'p-value'))\n",
    "for col in categories:\n",
    "    (p, t) = two_sample(ratings[col][ratings.taidgender==1], ratings[col][ratings.taidgender==0], \\\n",
    "                              stat = 't', alternative = \"two-sided\", keep_dist = False)\n",
    "    print ('{0:20} {1:8.2f} {2:8.2f}'.format(col, t, p))"
   ]
  },
  {
   "cell_type": "markdown",
   "metadata": {},
   "source": [
    "### Ratings vs concordance of student and REPORTED instructor genders"
   ]
  },
  {
   "cell_type": "code",
   "execution_count": 6,
   "metadata": {
    "collapsed": false
   },
   "outputs": [
    {
     "name": "stdout",
     "output_type": "stream",
     "text": [
      "Male students\n",
      "\n",
      "Number of male students: 20 \n",
      "\n",
      "Correlation for overall rating: 0.089757421773\n",
      "Upper p-value: 0.4227\n",
      "Two-sided p-value: 0.8122\n",
      "\n",
      "Category        Correlation Upper p-value Two-sided p-value\n",
      "Overall            0.090       0.42       0.81\n",
      "professional       0.217       0.27       0.42\n",
      "respect            0.217       0.23       0.35\n",
      "caring             0.020       0.53       0.99\n",
      "enthusiastic       0.090       0.42       0.81\n",
      "communicate        0.123       0.35       0.65\n",
      "helpful            0.211       0.19       0.36\n",
      "feedback           0.040       0.44       0.93\n",
      "prompt             0.377       0.08       0.14\n",
      "consistent         0.073       0.43       0.83\n",
      "fair               0.408       0.06       0.08\n",
      "responsive         0.181       0.28       0.53\n",
      "praised            0.287       0.13       0.24\n",
      "knowledgeable      0.078       0.41       0.80\n",
      "clear              0.056       0.41       0.78\n",
      "\n",
      "Female students\n",
      "\n",
      "Number of female students: 23 \n",
      "\n",
      "Correlation for overall rating: -0.363538598784\n",
      "Upper p-value: 0.9682\n",
      "Two-sided p-value: 0.0843\n",
      "\n",
      "Category        Correlation Upper p-value Two-sided p-value\n",
      "Overall           -0.364       0.97       0.08\n",
      "professional      -0.361       0.98       0.09\n",
      "respect           -0.361       0.97       0.08\n",
      "caring            -0.458       0.99       0.04\n",
      "enthusiastic      -0.440       1.00       0.03\n",
      "communicate       -0.394       0.98       0.08\n",
      "helpful           -0.242       0.90       0.33\n",
      "feedback          -0.373       0.95       0.10\n",
      "prompt            -0.367       0.97       0.13\n",
      "consistent        -0.335       0.95       0.16\n",
      "fair              -0.431       0.98       0.04\n",
      "responsive        -0.032       0.55       0.96\n",
      "praised           -0.473       1.00       0.01\n",
      "knowledgeable     -0.293       0.92       0.20\n",
      "clear             -0.248       0.86       0.30\n"
     ]
    }
   ],
   "source": [
    "ratings['gender_concordance'] = ( (ratings['gender']% 2)==ratings['taidgender'] )\n",
    "stu_male = ratings[ratings['gender']==1]\n",
    "stu_female = ratings[ratings['gender']==2]\n",
    "\n",
    "(t, plow, pupper, pboth, sims) = corr(x = stu_male['overall'], \\\n",
    "                                      y = stu_male['gender_concordance'], seed = rs)\n",
    "print 'Male students\\n'\n",
    "print 'Number of male students:', stu_male.shape[0], '\\n'\n",
    "print 'Correlation for overall rating:', t\n",
    "print 'Upper p-value:', pupper\n",
    "print 'Two-sided p-value:', pboth\n",
    "print ('\\n{0:15} {1:8} {2:8} {3:8}'.format('Category', 'Correlation',\\\n",
    "                                           'Upper p-value', 'Two-sided p-value'))\n",
    "(t, plow, pupper, pboth, sims) = corr(x = stu_male['overall'], \\\n",
    "                                      y = stu_male['gender_concordance'], seed = rs)\n",
    "print ('{0:15} {1:8.3f} {2:10.2f} {3:10.2f}'.format('Overall', t, pupper, pboth))\n",
    "\n",
    "for col in categories:\n",
    "    (t, plow, pupper, pboth, sims) = corr(x = stu_male[col], \\\n",
    "                                          y = stu_male['gender_concordance'], seed = rs)\n",
    "    print ('{0:15} {1:8.3f} {2:10.2f} {3:10.2f}'.format(col, t, pupper, pboth))\n",
    "\n",
    "\n",
    "(t, plow, pupper, pboth, sims) = corr(x = stu_female['overall'], \\\n",
    "                                      y = stu_female['gender_concordance'], seed = rs)\n",
    "print '\\nFemale students\\n'\n",
    "print 'Number of female students:', stu_female.shape[0], '\\n'\n",
    "print 'Correlation for overall rating:', t\n",
    "print 'Upper p-value:', pupper\n",
    "print 'Two-sided p-value:', pboth\n",
    "print ('\\n{0:15} {1:8} {2:8} {3:8}'.format('Category', 'Correlation', \\\n",
    "                                           'Upper p-value', 'Two-sided p-value'))\n",
    "(t, plow, pupper, pboth, sims) = corr(x = stu_female['overall'], \\\n",
    "                                      y = stu_female['gender_concordance'], seed = rs)\n",
    "print ('{0:15} {1:8.3f} {2:10.2f} {3:10.2f}'.format('Overall', t, pupper, pboth))\n",
    "\n",
    "for col in categories:\n",
    "    (t, plow, pupper, pboth, sims) = corr(x = stu_female[col], \\\n",
    "                                          y = stu_female['gender_concordance'], seed = rs)\n",
    "    print ('{0:15} {1:8.3f} {2:10.2f} {3:10.2f}'.format(col, t, pupper, pboth))"
   ]
  },
  {
   "cell_type": "markdown",
   "metadata": {},
   "source": [
    "### As a sanity check -- Ratings vs concordance of student and ACTUAL instructor genders\n",
    "\n",
    "Since the students didn't know the instructors' actual gender, we hope that there is no correlation between gender concordance and ratings."
   ]
  },
  {
   "cell_type": "code",
   "execution_count": 7,
   "metadata": {
    "collapsed": false
   },
   "outputs": [
    {
     "name": "stdout",
     "output_type": "stream",
     "text": [
      "Male students\n",
      "\n",
      "Number of male students: 20\n",
      "Correlation: -0.0718144366713\n",
      "Upper p-value: 0.6896\n",
      "Two-sided p-value: 0.7214\n",
      "\n",
      "Category        Correlation Upper p-value Two-sided p-value\n",
      "Overall           -0.072       0.69       0.72\n",
      "professional       0.080       0.37       0.74\n",
      "respect            0.080       0.45       0.84\n",
      "caring            -0.106       0.73       0.59\n",
      "enthusiastic      -0.072       0.57       0.82\n",
      "communicate       -0.010       0.61       0.84\n",
      "helpful            0.014       0.52       0.96\n",
      "feedback          -0.117       0.70       0.69\n",
      "prompt            -0.049       0.64       0.89\n",
      "consistent         0.054       0.49       0.85\n",
      "fair              -0.034       0.63       0.88\n",
      "responsive        -0.064       0.56       0.84\n",
      "praised            0.010       0.56       1.00\n",
      "knowledgeable      0.106       0.42       0.70\n",
      "clear             -0.119       0.72       0.65\n",
      "\n",
      "Female students\n",
      "\n",
      "Number of female students: 23\n",
      "Correlation: 0.132379460479\n",
      "Upper p-value: 0.33\n",
      "Two-sided p-value: 0.5508\n",
      "\n",
      "Category        Correlation Upper p-value Two-sided p-value\n",
      "Overall            0.132       0.33       0.56\n",
      "professional       0.038       0.41       0.95\n",
      "respect            0.038       0.42       0.94\n",
      "caring             0.033       0.50       0.98\n",
      "enthusiastic       0.197       0.19       0.40\n",
      "communicate        0.081       0.38       0.67\n",
      "helpful           -0.122       0.70       0.70\n",
      "feedback           0.168       0.27       0.50\n",
      "prompt             0.135       0.26       0.53\n",
      "consistent         0.168       0.28       0.49\n",
      "fair               0.282       0.14       0.23\n",
      "responsive         0.350       0.07       0.12\n",
      "praised            0.339       0.07       0.13\n",
      "knowledgeable      0.237       0.17       0.36\n",
      "clear              0.351       0.07       0.12\n"
     ]
    }
   ],
   "source": [
    "ratings['gender_concordance_actual'] = ( (ratings['gender']% 2)==ratings['tagender'] )\n",
    "stu_male = ratings[ratings['gender']==1]\n",
    "stu_female = ratings[ratings['gender']==2]\n",
    "\n",
    "(t, plow, pupper, pboth, sims) = corr(x = stu_male['overall'], \\\n",
    "                                      y = stu_male['gender_concordance_actual'], seed = rs)\n",
    "print 'Male students\\n'\n",
    "print 'Number of male students:', stu_male.shape[0]\n",
    "print 'Correlation:', t\n",
    "print 'Upper p-value:', pupper\n",
    "print 'Two-sided p-value:', pboth\n",
    "print ('\\n{0:15} {1:8} {2:8} {3:8}'.format('Category', 'Correlation',\\\n",
    "                                           'Upper p-value', 'Two-sided p-value'))\n",
    "(t, plow, pupper, pboth, sims) = corr(x = stu_male['overall'], \\\n",
    "                                      y = stu_male['gender_concordance_actual'], seed = rs)\n",
    "print ('{0:15} {1:8.3f} {2:10.2f} {3:10.2f}'.format('Overall', t, pupper, pboth))\n",
    "\n",
    "for col in categories:\n",
    "    (t, plow, pupper, pboth, sims) = corr(x = stu_male[col], \\\n",
    "                                          y = stu_male['gender_concordance_actual'], seed = rs)\n",
    "    print ('{0:15} {1:8.3f} {2:10.2f} {3:10.2f}'.format(col, t, pupper, pboth))\n",
    "\n",
    "\n",
    "(t, plow, pupper, pboth, sims) = corr(x = stu_female['overall'], \\\n",
    "                                      y = stu_female['gender_concordance_actual'], seed = rs)\n",
    "print '\\nFemale students\\n'\n",
    "print 'Number of female students:', stu_female.shape[0]\n",
    "print 'Correlation:', t\n",
    "print 'Upper p-value:', pupper\n",
    "print 'Two-sided p-value:', pboth\n",
    "print ('\\n{0:15} {1:8} {2:8} {3:8}'.format('Category', 'Correlation',\\\n",
    "                                           'Upper p-value', 'Two-sided p-value'))\n",
    "(t, plow, pupper, pboth, sims) = corr(x = stu_female['overall'], \\\n",
    "                                      y = stu_female['gender_concordance_actual'], seed = rs)\n",
    "print ('{0:15} {1:8.3f} {2:10.2f} {3:10.2f}'.format('Overall', t, pupper, pboth))\n",
    "\n",
    "for col in categories:\n",
    "    (t, plow, pupper, pboth, sims) = corr(x = stu_female[col], \\\n",
    "                                          y = stu_female['gender_concordance_actual'], seed = rs)\n",
    "    print ('{0:15} {1:8.3f} {2:10.2f} {3:10.2f}'.format(col, t, pupper, pboth))"
   ]
  },
  {
   "cell_type": "markdown",
   "metadata": {},
   "source": [
    "## Grades and instructor gender\n",
    "\n",
    "### Course grade and reported instructor gender\n",
    "Do students of male- and female-identified instructors perform equally, as measured by course grade? We do a two-sample permutation t-test."
   ]
  },
  {
   "cell_type": "code",
   "execution_count": 11,
   "metadata": {
    "collapsed": false
   },
   "outputs": [
    {
     "name": "stdout",
     "output_type": "stream",
     "text": [
      "Course grade:\n",
      "t statistic: 0.21442\n",
      "P-value (two-sided): 0.8322\n",
      "Number of students of male-identified instructors: 23\n",
      "Number of students of female-identified instructors: 24\n"
     ]
    }
   ],
   "source": [
    "(p, t) = two_sample(grades['grade'][grades.taidgender==1], grades['grade'][grades.taidgender==0], \\\n",
    "                              stat = 't', alternative = \"two-sided\")\n",
    "print 'Course grade:'\n",
    "print 't statistic:', np.round(t, 5)\n",
    "print 'P-value (two-sided):', np.round(p, 5)\n",
    "print 'Number of students of male-identified instructors:', np.sum(grades.taidgender==1)\n",
    "print 'Number of students of female-identified instructors:', np.sum(grades.taidgender==0)"
   ]
  },
  {
   "cell_type": "markdown",
   "metadata": {},
   "source": [
    "### Course grade and actual instructor gender\n",
    "Do students of male and female instructors perform equally, as measured by course grade?  We do a two-sample permutation t-test."
   ]
  },
  {
   "cell_type": "code",
   "execution_count": 12,
   "metadata": {
    "collapsed": false
   },
   "outputs": [
    {
     "name": "stdout",
     "output_type": "stream",
     "text": [
      "Course grade:\n",
      "t statistic: 2.65325\n",
      "P-value (two-sided): 0.00991\n",
      "Number of students of male instructors: 23\n",
      "Number of students of female instructors: 24\n"
     ]
    }
   ],
   "source": [
    "(p, t) = two_sample(grades['grade'][grades.tagender==1], grades['grade'][grades.tagender==0], \\\n",
    "                              stat = 't', alternative = \"two-sided\")\n",
    "print 'Course grade:'\n",
    "print 't statistic:', np.round(t, 5)\n",
    "print 'P-value (two-sided):', np.round(p, 5)\n",
    "print 'Number of students of male instructors:', np.sum(grades.taidgender==1)\n",
    "print 'Number of students of female instructors:', np.sum(grades.taidgender==0)"
   ]
  },
  {
   "cell_type": "markdown",
   "metadata": {},
   "source": [
    "## References\n",
    "\n",
    "MacNell, L., Driscoll, A., and Hunt, A.N. (2014), \"What’s in a Name: Exposing Gender Bias in Student Ratings of Teaching,\" _Innovative Higher Education_, 1-13."
   ]
  }
 ],
 "metadata": {
  "kernelspec": {
   "display_name": "Python 2",
   "language": "python",
   "name": "python2"
  },
  "language_info": {
   "codemirror_mode": {
    "name": "ipython",
    "version": 2
   },
   "file_extension": ".py",
   "mimetype": "text/x-python",
   "name": "python",
   "nbconvert_exporter": "python",
   "pygments_lexer": "ipython2",
   "version": "2.7.9"
  }
 },
 "nbformat": 4,
 "nbformat_minor": 0
}
