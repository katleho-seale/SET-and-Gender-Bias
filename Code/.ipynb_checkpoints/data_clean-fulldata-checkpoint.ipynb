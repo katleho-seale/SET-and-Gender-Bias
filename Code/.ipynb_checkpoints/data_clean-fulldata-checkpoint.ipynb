{
 "cells": [
  {
   "cell_type": "markdown",
   "metadata": {},
   "source": [
    "Gender Biases in Student Evaluations of Teachers\n",
    "====================================================\n"
   ]
  },
  {
   "cell_type": "code",
   "execution_count": 1,
   "metadata": {
    "collapsed": false
   },
   "outputs": [],
   "source": [
    "# boilerplate\n",
    "%matplotlib inline\n",
    "import math\n",
    "import numpy as np\n",
    "import pandas as pd\n",
    "from numpy.random import random\n",
    "import scipy as sp\n",
    "from scipy import special\n",
    "import matplotlib.pyplot as plt\n",
    "from __future__ import division\n",
    "\n",
    "# initialize PRNG\n",
    "rs = np.random.RandomState(seed=1)"
   ]
  },
  {
   "cell_type": "markdown",
   "metadata": {},
   "source": [
    "Permutation test code\n",
    "============\n",
    "You must install the _permute_ package to use this code. Install instructions can be found at https://github.com/statlab/permute.  Our analysis uses version 0.1.alpha2."
   ]
  },
  {
   "cell_type": "code",
   "execution_count": 2,
   "metadata": {
    "collapsed": false
   },
   "outputs": [
    {
     "name": "stdout",
     "output_type": "stream",
     "text": [
      "permute: version 0.1.alpha0\n"
     ]
    }
   ],
   "source": [
    "from permute.core import corr  \n",
    "from permute.stratified import sim_corr\n",
    "import permute\n",
    "print \"permute: version\", permute.__version__"
   ]
  },
  {
   "cell_type": "markdown",
   "metadata": {},
   "source": [
    "## Read data and define new fields"
   ]
  },
  {
   "cell_type": "code",
   "execution_count": null,
   "metadata": {
    "collapsed": false
   },
   "outputs": [
    {
     "data": {
      "text/html": [
       "<div style=\"max-height:1000px;max-width:1500px;overflow:auto;\">\n",
       "<table border=\"1\" class=\"dataframe\">\n",
       "  <thead>\n",
       "    <tr style=\"text-align: right;\">\n",
       "      <th></th>\n",
       "      <th>student_id</th>\n",
       "      <th>year</th>\n",
       "      <th>dual_degree</th>\n",
       "      <th>entreescpoen</th>\n",
       "      <th>stu_male</th>\n",
       "      <th>stu_female</th>\n",
       "      <th>admission_exam</th>\n",
       "      <th>admission_cep</th>\n",
       "      <th>admission_bactb</th>\n",
       "      <th>admission_other</th>\n",
       "      <th>...</th>\n",
       "      <th>scpo</th>\n",
       "      <th>both_female</th>\n",
       "      <th>both_male</th>\n",
       "      <th>stumale_proffemale</th>\n",
       "      <th>stufemale_profmale</th>\n",
       "      <th>already_taught</th>\n",
       "      <th>fall</th>\n",
       "      <th>spring</th>\n",
       "      <th>three_evals</th>\n",
       "      <th>sum_q10</th>\n",
       "    </tr>\n",
       "  </thead>\n",
       "  <tbody>\n",
       "    <tr>\n",
       "      <th>count</th>\n",
       "      <td> 19619.000000</td>\n",
       "      <td> 19619.000000</td>\n",
       "      <td> 19619.000000</td>\n",
       "      <td> 19619.000000</td>\n",
       "      <td> 19619.000000</td>\n",
       "      <td> 19619.000000</td>\n",
       "      <td> 19619.000000</td>\n",
       "      <td> 19619</td>\n",
       "      <td> 19619.000000</td>\n",
       "      <td> 19619.000000</td>\n",
       "      <td>...</td>\n",
       "      <td> 19619.000000</td>\n",
       "      <td> 19619.000000</td>\n",
       "      <td> 19619.000000</td>\n",
       "      <td> 19619.000000</td>\n",
       "      <td> 19619.000000</td>\n",
       "      <td> 19619.000000</td>\n",
       "      <td> 19619.000000</td>\n",
       "      <td> 19619.000000</td>\n",
       "      <td> 19619.000000</td>\n",
       "      <td> 19619.000000</td>\n",
       "    </tr>\n",
       "    <tr>\n",
       "      <th>mean</th>\n",
       "      <td>  2437.131199</td>\n",
       "      <td>  2010.233498</td>\n",
       "      <td>     0.115806</td>\n",
       "      <td>  2010.205821</td>\n",
       "      <td>     0.441562</td>\n",
       "      <td>     0.558438</td>\n",
       "      <td>     0.778378</td>\n",
       "      <td>     0</td>\n",
       "      <td>     0.129517</td>\n",
       "      <td>     0.036393</td>\n",
       "      <td>...</td>\n",
       "      <td>     0.109078</td>\n",
       "      <td>     0.172231</td>\n",
       "      <td>     0.301188</td>\n",
       "      <td>     0.140374</td>\n",
       "      <td>     0.386207</td>\n",
       "      <td>     0.593200</td>\n",
       "      <td>     0.589480</td>\n",
       "      <td>     0.410520</td>\n",
       "      <td>     0.893216</td>\n",
       "      <td>     6.529793</td>\n",
       "    </tr>\n",
       "    <tr>\n",
       "      <th>std</th>\n",
       "      <td>  1239.326270</td>\n",
       "      <td>     1.347421</td>\n",
       "      <td>     0.320000</td>\n",
       "      <td>     1.356838</td>\n",
       "      <td>     0.496586</td>\n",
       "      <td>     0.496586</td>\n",
       "      <td>     0.415349</td>\n",
       "      <td>     0</td>\n",
       "      <td>     0.335780</td>\n",
       "      <td>     0.187271</td>\n",
       "      <td>...</td>\n",
       "      <td>     0.311745</td>\n",
       "      <td>     0.377591</td>\n",
       "      <td>     0.458786</td>\n",
       "      <td>     0.347384</td>\n",
       "      <td>     0.486891</td>\n",
       "      <td>     0.491249</td>\n",
       "      <td>     0.491941</td>\n",
       "      <td>     0.491941</td>\n",
       "      <td>     0.308847</td>\n",
       "      <td>     1.665548</td>\n",
       "    </tr>\n",
       "    <tr>\n",
       "      <th>min</th>\n",
       "      <td>     1.000000</td>\n",
       "      <td>  2008.000000</td>\n",
       "      <td>     0.000000</td>\n",
       "      <td>  2006.000000</td>\n",
       "      <td>     0.000000</td>\n",
       "      <td>     0.000000</td>\n",
       "      <td>     0.000000</td>\n",
       "      <td>     0</td>\n",
       "      <td>     0.000000</td>\n",
       "      <td>     0.000000</td>\n",
       "      <td>...</td>\n",
       "      <td>     0.000000</td>\n",
       "      <td>     0.000000</td>\n",
       "      <td>     0.000000</td>\n",
       "      <td>     0.000000</td>\n",
       "      <td>     0.000000</td>\n",
       "      <td>     0.000000</td>\n",
       "      <td>     0.000000</td>\n",
       "      <td>     0.000000</td>\n",
       "      <td>     0.000000</td>\n",
       "      <td>     1.000000</td>\n",
       "    </tr>\n",
       "    <tr>\n",
       "      <th>25%</th>\n",
       "      <td>  1459.500000</td>\n",
       "      <td>  2009.000000</td>\n",
       "      <td>     0.000000</td>\n",
       "      <td>  2009.000000</td>\n",
       "      <td>     0.000000</td>\n",
       "      <td>     0.000000</td>\n",
       "      <td>     1.000000</td>\n",
       "      <td>     0</td>\n",
       "      <td>     0.000000</td>\n",
       "      <td>     0.000000</td>\n",
       "      <td>...</td>\n",
       "      <td>     0.000000</td>\n",
       "      <td>     0.000000</td>\n",
       "      <td>     0.000000</td>\n",
       "      <td>     0.000000</td>\n",
       "      <td>     0.000000</td>\n",
       "      <td>     0.000000</td>\n",
       "      <td>     0.000000</td>\n",
       "      <td>     0.000000</td>\n",
       "      <td>     1.000000</td>\n",
       "      <td>     6.000000</td>\n",
       "    </tr>\n",
       "    <tr>\n",
       "      <th>50%</th>\n",
       "      <td>  2495.000000</td>\n",
       "      <td>  2010.000000</td>\n",
       "      <td>     0.000000</td>\n",
       "      <td>  2010.000000</td>\n",
       "      <td>     0.000000</td>\n",
       "      <td>     1.000000</td>\n",
       "      <td>     1.000000</td>\n",
       "      <td>     0</td>\n",
       "      <td>     0.000000</td>\n",
       "      <td>     0.000000</td>\n",
       "      <td>...</td>\n",
       "      <td>     0.000000</td>\n",
       "      <td>     0.000000</td>\n",
       "      <td>     0.000000</td>\n",
       "      <td>     0.000000</td>\n",
       "      <td>     0.000000</td>\n",
       "      <td>     1.000000</td>\n",
       "      <td>     1.000000</td>\n",
       "      <td>     0.000000</td>\n",
       "      <td>     1.000000</td>\n",
       "      <td>     7.000000</td>\n",
       "    </tr>\n",
       "    <tr>\n",
       "      <th>75%</th>\n",
       "      <td>  3446.000000</td>\n",
       "      <td>  2011.000000</td>\n",
       "      <td>     0.000000</td>\n",
       "      <td>  2011.000000</td>\n",
       "      <td>     1.000000</td>\n",
       "      <td>     1.000000</td>\n",
       "      <td>     1.000000</td>\n",
       "      <td>     0</td>\n",
       "      <td>     0.000000</td>\n",
       "      <td>     0.000000</td>\n",
       "      <td>...</td>\n",
       "      <td>     0.000000</td>\n",
       "      <td>     0.000000</td>\n",
       "      <td>     1.000000</td>\n",
       "      <td>     0.000000</td>\n",
       "      <td>     1.000000</td>\n",
       "      <td>     1.000000</td>\n",
       "      <td>     1.000000</td>\n",
       "      <td>     1.000000</td>\n",
       "      <td>     1.000000</td>\n",
       "      <td>     8.000000</td>\n",
       "    </tr>\n",
       "    <tr>\n",
       "      <th>max</th>\n",
       "      <td>  4423.000000</td>\n",
       "      <td>  2012.000000</td>\n",
       "      <td>     1.000000</td>\n",
       "      <td>  2012.000000</td>\n",
       "      <td>     1.000000</td>\n",
       "      <td>     1.000000</td>\n",
       "      <td>     1.000000</td>\n",
       "      <td>     0</td>\n",
       "      <td>     1.000000</td>\n",
       "      <td>     1.000000</td>\n",
       "      <td>...</td>\n",
       "      <td>     1.000000</td>\n",
       "      <td>     1.000000</td>\n",
       "      <td>     1.000000</td>\n",
       "      <td>     1.000000</td>\n",
       "      <td>     1.000000</td>\n",
       "      <td>     1.000000</td>\n",
       "      <td>     1.000000</td>\n",
       "      <td>     1.000000</td>\n",
       "      <td>     1.000000</td>\n",
       "      <td>     9.000000</td>\n",
       "    </tr>\n",
       "  </tbody>\n",
       "</table>\n",
       "<p>8 rows × 71 columns</p>\n",
       "</div>"
      ],
      "text/plain": [
       "         student_id          year   dual_degree  entreescpoen      stu_male  \\\n",
       "count  19619.000000  19619.000000  19619.000000  19619.000000  19619.000000   \n",
       "mean    2437.131199   2010.233498      0.115806   2010.205821      0.441562   \n",
       "std     1239.326270      1.347421      0.320000      1.356838      0.496586   \n",
       "min        1.000000   2008.000000      0.000000   2006.000000      0.000000   \n",
       "25%     1459.500000   2009.000000      0.000000   2009.000000      0.000000   \n",
       "50%     2495.000000   2010.000000      0.000000   2010.000000      0.000000   \n",
       "75%     3446.000000   2011.000000      0.000000   2011.000000      1.000000   \n",
       "max     4423.000000   2012.000000      1.000000   2012.000000      1.000000   \n",
       "\n",
       "         stu_female  admission_exam  admission_cep  admission_bactb  \\\n",
       "count  19619.000000    19619.000000          19619     19619.000000   \n",
       "mean       0.558438        0.778378              0         0.129517   \n",
       "std        0.496586        0.415349              0         0.335780   \n",
       "min        0.000000        0.000000              0         0.000000   \n",
       "25%        0.000000        1.000000              0         0.000000   \n",
       "50%        1.000000        1.000000              0         0.000000   \n",
       "75%        1.000000        1.000000              0         0.000000   \n",
       "max        1.000000        1.000000              0         1.000000   \n",
       "\n",
       "       admission_other      ...               scpo   both_female  \\\n",
       "count     19619.000000      ...       19619.000000  19619.000000   \n",
       "mean          0.036393      ...           0.109078      0.172231   \n",
       "std           0.187271      ...           0.311745      0.377591   \n",
       "min           0.000000      ...           0.000000      0.000000   \n",
       "25%           0.000000      ...           0.000000      0.000000   \n",
       "50%           0.000000      ...           0.000000      0.000000   \n",
       "75%           0.000000      ...           0.000000      0.000000   \n",
       "max           1.000000      ...           1.000000      1.000000   \n",
       "\n",
       "          both_male  stumale_proffemale  stufemale_profmale  already_taught  \\\n",
       "count  19619.000000        19619.000000        19619.000000    19619.000000   \n",
       "mean       0.301188            0.140374            0.386207        0.593200   \n",
       "std        0.458786            0.347384            0.486891        0.491249   \n",
       "min        0.000000            0.000000            0.000000        0.000000   \n",
       "25%        0.000000            0.000000            0.000000        0.000000   \n",
       "50%        0.000000            0.000000            0.000000        1.000000   \n",
       "75%        1.000000            0.000000            1.000000        1.000000   \n",
       "max        1.000000            1.000000            1.000000        1.000000   \n",
       "\n",
       "               fall        spring   three_evals       sum_q10  \n",
       "count  19619.000000  19619.000000  19619.000000  19619.000000  \n",
       "mean       0.589480      0.410520      0.893216      6.529793  \n",
       "std        0.491941      0.491941      0.308847      1.665548  \n",
       "min        0.000000      0.000000      0.000000      1.000000  \n",
       "25%        0.000000      0.000000      1.000000      6.000000  \n",
       "50%        1.000000      0.000000      1.000000      7.000000  \n",
       "75%        1.000000      1.000000      1.000000      8.000000  \n",
       "max        1.000000      1.000000      1.000000      9.000000  \n",
       "\n",
       "[8 rows x 71 columns]"
      ]
     },
     "execution_count": 3,
     "metadata": {},
     "output_type": "execute_result"
    }
   ],
   "source": [
    "dat = pd.read_stata(\"../../SET data/permutation_all triplets.dta\",  convert_categoricals=False )\n",
    "dat = dat[dat.admission_cep == 0]\n",
    "dat.describe()\n",
    "\n",
    "#dat = pd.read_stata(\"sample_permutation.dta\",  convert_categoricals=False)\n",
    "#dat.describe()"
   ]
  },
  {
   "cell_type": "code",
   "execution_count": null,
   "metadata": {
    "collapsed": false
   },
   "outputs": [],
   "source": [
    "evals = ['q16', 'q1', 'q2', 'q3', 'q4', 'q5', 'q6', 'q7', 'q8', 'q9', 'q10', 'q13', 'q14', 'q15']\n",
    "if isinstance(dat.q16[0], str):\n",
    "    for e in evals:\n",
    "        dat[e].replace(['nonpertinent', 'insuffisant', 'moyen', 'bon', 'excellent'],\\\n",
    "                       [0,1,2,3,4],\\\n",
    "                       inplace=True)\n",
    "    \n",
    "dat['course'] = dat['prof_id']\n",
    "dat.course.loc[dat['history']==1] = 'history' \n",
    "dat.course.loc[dat['micro']==1] = 'micro' \n",
    "dat.course.loc[dat['ip']==1] = 'ip' \n",
    "dat.course.loc[dat['macro']==1] = 'macro' \n",
    "dat.course.loc[dat['socio']==1] = 'socio' \n",
    "dat.course.loc[dat['scpo']==1] = 'scpo' \n",
    "\n",
    "dat['gender'] = dat['prof_male']\n",
    "dat.gender.loc[dat.gender==1] = 'M'\n",
    "dat.gender.loc[dat.gender==0] = 'F'\n",
    "dat['student_gender'] = dat['stu_male']\n",
    "dat.student_gender.loc[dat.student_gender==1] = 'M'\n",
    "dat.student_gender.loc[dat.student_gender==0] = 'F'\n",
    "\n",
    "# Define the fun times for class\n",
    "dat['plumTime'] = (dat['extremetime'] < 2) & dat['day'].isin([2,3,4])\n",
    "\n",
    "# Define the permutation strata: permute independently by course/semester\n",
    "dat['course_year'] = dat['course'] + dat['year'].map(str)\n",
    "course_year_values = dat['course_year'].unique()\n",
    "course_year_values.sort()\n",
    "dat['course_year_int'] = dat['course_year']\n",
    "for i in range(len(dat.course_year.unique())):\n",
    "    dat.course_year_int.loc[dat.course_year == course_year_values[i]] = i\n",
    "dat.course_year_int = dat.course_year_int.astype(int)"
   ]
  },
  {
   "cell_type": "markdown",
   "metadata": {},
   "source": [
    "## Data filtering\n",
    "\n",
    "Most of the analyses omit grades in PI, for two reasons: \n",
    "1. The final exam is oral\n",
    "2. There is a large imbalance in the gender of the instructors: 52 male, 12 female\n",
    "3. Since the course is \"easy,\" that would bias results in favor of making male instructors look more effective"
   ]
  },
  {
   "cell_type": "code",
   "execution_count": null,
   "metadata": {
    "collapsed": false
   },
   "outputs": [],
   "source": [
    "# remove the Political Institutions courses\n",
    "datNoIp = dat.copy()\n",
    "datNoIp = datNoIp[datNoIp['course'] != 'ip']"
   ]
  },
  {
   "cell_type": "markdown",
   "metadata": {},
   "source": [
    "# Summary statistics\n",
    "\n",
    "## Instructor level statistics"
   ]
  },
  {
   "cell_type": "code",
   "execution_count": null,
   "metadata": {
    "collapsed": false
   },
   "outputs": [],
   "source": [
    "# How many sections did instructors teach?\n",
    "grouped = dat.groupby('prof_id')\n",
    "plt.hist(np.array(grouped.count().course_year))\n",
    "plt.title(\"Number of sections taught by instructors\")\n",
    "plt.xlabel(\"Number of sections\")\n",
    "plt.ylabel(\"Frequency\")\n",
    "plt.show()\n",
    "\n",
    "# Did any instructors teach sections in more than one course?\n",
    "numcourses = grouped.course.agg(lambda x: len(np.unique(x)))\n",
    "print \"Instructors who taught in more than one course (# courses):\\n\", numcourses[numcourses > 1]"
   ]
  },
  {
   "cell_type": "markdown",
   "metadata": {},
   "source": [
    "# Start of the analysis\n",
    "\n",
    "### Ratings v student performance"
   ]
  },
  {
   "cell_type": "code",
   "execution_count": null,
   "metadata": {
    "collapsed": false
   },
   "outputs": [],
   "source": [
    "# Correlation btw avg evaluation score and final exam grade, by course number. Omit IP courses\n",
    "\n",
    "print 'Analyzing the correlation btw avg evaluation score and final exam grade, by course number' \n",
    "\n",
    "theCols = evals + ['prof_male','plumTime','note_cm', 'course_year_int']\n",
    "\n",
    "grouped = datNoIp.groupby(['course_number'])\n",
    "prof_ratings = grouped[theCols].agg(np.mean)\n",
    "(t, plow, pupper, pboth, sims) = sim_corr(x = prof_ratings['q16'], y = prof_ratings['note_cm'], \n",
    "                                          group = prof_ratings['course_year_int'], seed = rs, reps=10)\n",
    "print 'Overall:'\n",
    "print 'Test statistic (sum of correlations):', t\n",
    "print 'One-sided (upper) p-value:', pupper\n",
    "print 'Two-sided p-value:', pboth\n",
    "print 'Number of courses:', prof_ratings['note_cm'].size, '\\n'\n",
    "\n",
    "print ('\\n{0:12} {1:8} {2:8} {3:8} {4:8}'.format('Course', 'Test stat', 'Upper P-value', 'Two-sided p-value', '# Courses'))\n",
    "for topic in np.unique(datNoIp.course):\n",
    "    perTopic = datNoIp[datNoIp['course']==topic]\n",
    "    grouped = perTopic.groupby(['course_number'])\n",
    "    prof_ratings = grouped[theCols].agg(np.mean)\n",
    "    (t, plow, pupper, pboth, sims) = sim_corr(x = prof_ratings['q16'], y = prof_ratings['note_cm'], \n",
    "                                              group = prof_ratings['course_year_int'], seed = rs, reps=10)\n",
    "    print ('{0:8} {1:12.2f} {2:12.2f} {3:12.2f} {4:12.2f}'.format(topic, t, pupper, pboth, \\\n",
    "                                                                  prof_ratings['note_cm'].size))"
   ]
  },
  {
   "cell_type": "markdown",
   "metadata": {},
   "source": [
    "### Instructor gender v student performance"
   ]
  },
  {
   "cell_type": "code",
   "execution_count": null,
   "metadata": {
    "collapsed": false
   },
   "outputs": [],
   "source": [
    "# Correlation of final exam and gender, by course.  Excludes IP courses.\n",
    "\n",
    "print 'Correlation btw final exam average and instructor gender, by course' \n",
    "\n",
    "theCols = evals + ['prof_male','note_cm', 'course_year_int']\n",
    "\n",
    "grouped = datNoIp.groupby(['course_number'])\n",
    "prof_ratings = grouped[theCols].agg(np.mean)\n",
    "\n",
    "(t, plow, pupper, pboth, sims) = sim_corr(x = prof_ratings['note_cm'], y = prof_ratings['prof_male'], \\\n",
    "                                          group = prof_ratings['course_year_int'], seed = rs, reps = 10)\n",
    "print 'Overall:'\n",
    "print 'Test statistic (sum of correlations):', t\n",
    "print 'One-sided (upper) p-value:', pupper\n",
    "print 'Two-sided p-value:', pboth\n",
    "print 'Number of courses w/ male profs:', prof_ratings['prof_male'].sum()\n",
    "print 'Number of courses w/ female profs:', (1-prof_ratings['prof_male']).sum()\n",
    "print 'Total number of courses:', prof_ratings['prof_male'].size, '\\n'\n",
    "\n",
    "\n",
    "\n",
    "print ('\\n{0:12} {1:8} {2:8} {3:8} {4:8} {5:8} {6:8}'.format('Course', 'Test stat', 'Upper P-value', \\\n",
    "                                                             'Two-sided p-value', '# Male profs', \\\n",
    "                                                             '# Female profs', '# Courses'))\n",
    "for topic in np.unique(dat.course):\n",
    "    perTopic = dat[dat['course']==topic]\n",
    "    grouped = perTopic.groupby(['course_number'])\n",
    "    prof_ratings = grouped[theCols].agg(np.mean)\n",
    "    (t, plow, pupper, pboth, sims) = sim_corr(x = prof_ratings['note_cm'], y = prof_ratings['prof_male'], \n",
    "                                          group = prof_ratings['course_year_int'], seed = rs, reps = 10)\n",
    "    print ('{0:8} {1:12.2f} {2:12.2f} {3:12.2f} {4:12.2f} {5:12.2f} {6:12.2f}'.format( topic, t, \\\n",
    "                    pupper, pboth, prof_ratings['prof_male'].sum(), \\\n",
    "                    (1-prof_ratings['prof_male']).sum(),  prof_ratings['prof_male'].size ))"
   ]
  },
  {
   "cell_type": "markdown",
   "metadata": {},
   "source": [
    "### Ratings v grade expectations"
   ]
  },
  {
   "cell_type": "code",
   "execution_count": null,
   "metadata": {
    "collapsed": false
   },
   "outputs": [],
   "source": [
    "# Correlation btw avg evaluation score and avg cont assessment grades, by course number. Includes IP\n",
    "print 'Analyzing the correlation btw avg evaluation score and cont assessment, by course number' \n",
    "\n",
    "theCols = evals + ['prof_male','plumTime','note_conf', 'course_year_int']\n",
    "\n",
    "grouped = dat.groupby(['course_number'])\n",
    "prof_ratings = grouped[theCols].agg(np.mean)\n",
    "(t, plow, pupper, pboth, sims) = sim_corr(x = prof_ratings['q16'], y = prof_ratings['note_conf'], \n",
    "                                          group = prof_ratings['course_year_int'], seed = rs, reps=10)\n",
    "print 'Overall:'\n",
    "print 'Test statistic (sum of correlations):', t\n",
    "print 'One-sided (upper) p-value:', pupper\n",
    "print 'Number of courses:', prof_ratings['note_conf'].size, '\\n'\n",
    "\n",
    "print ('\\n{0:12} {1:8} {2:8} {3:8}'.format('Course', 'Test stat', 'Upper P-value', '# Courses'))\n",
    "for topic in np.unique(dat.course):\n",
    "    perTopic = dat[dat['course']==topic]\n",
    "    grouped = perTopic.groupby(['course_number'])\n",
    "    prof_ratings = grouped[theCols].agg(np.mean)\n",
    "    (t, plow, pupper, pboth, sims) = sim_corr(x = prof_ratings['q16'], y = prof_ratings['note_conf'], \n",
    "                                          group = prof_ratings['course_year_int'], seed = rs, reps=10)\n",
    "    print ('{0:8} {1:12.2f} {2:12.2f} {3:12.2f}'.format( topic, t, \\\n",
    "                    pupper, prof_ratings['note_conf'].size ))    \n",
    "    "
   ]
  },
  {
   "cell_type": "markdown",
   "metadata": {},
   "source": [
    "### Ratings v instructor gender"
   ]
  },
  {
   "cell_type": "code",
   "execution_count": null,
   "metadata": {
    "collapsed": false
   },
   "outputs": [],
   "source": [
    "# Correlation of avg evaluation score and gender, by course.  Includes IP courses.\n",
    "\n",
    "print 'Analyzing the correlation btw avg evaluation score and gender, by course' \n",
    "\n",
    "theCols = evals + ['prof_male','plumTime', 'course_year_int']\n",
    "\n",
    "grouped = dat.groupby(['course_number'])\n",
    "prof_ratings = grouped[theCols].agg(np.mean)\n",
    "\n",
    "(t, plow, pupper, pboth, sims) = sim_corr(x = prof_ratings['q16'], y = prof_ratings['prof_male'], \n",
    "                                          group = prof_ratings['course_year_int'], seed = rs, reps=10)\n",
    "print 'Overall:'\n",
    "print 'Test statistic (sum of correlations):', t\n",
    "print 'One-sided (upper) p-value:', pupper\n",
    "print 'Two-sided p-value:', pboth\n",
    "print 'Number of sections w/ male profs:', prof_ratings['prof_male'].sum()\n",
    "print 'Number of sections w/ female profs:', (1-prof_ratings['prof_male']).sum()\n",
    "print 'Total number of courses:', prof_ratings['prof_male'].size, '\\n'\n",
    "\n",
    "print ('\\n{0:12} {1:8} {2:8} {3:8} {4:8} {5:8} {6:8}'.format('Course', 'Test stat', 'Upper P-value', \\\n",
    "                                                             'Two-sided p-value', '# Male profs', \\\n",
    "                                                             '# Female profs', '# Sections'))\n",
    "for topic in np.unique(dat.course):\n",
    "    perTopic = dat[dat['course']==topic]\n",
    "    grouped = perTopic.groupby(['course_number'])\n",
    "    prof_ratings = grouped[theCols].agg(np.mean)\n",
    "    (t, plow, pupper, pboth, sims) = sim_corr(x = prof_ratings['q16'], y = prof_ratings['prof_male'], \n",
    "                                              group = prof_ratings['course_year_int'], seed = rs, reps=10)\n",
    "    print ('{0:8} {1:12.2f} {2:12.2f} {3:12.2f} {4:12.2f} {5:12.2f} {6:12.2f}'.format( topic, t, \\\n",
    "                    pupper, pboth, prof_ratings['prof_male'].sum(), \\\n",
    "                    (1-prof_ratings['prof_male']).sum(),  prof_ratings['prof_male'].size ))"
   ]
  },
  {
   "cell_type": "markdown",
   "metadata": {},
   "source": [
    "### Ratings and gender concordance"
   ]
  },
  {
   "cell_type": "code",
   "execution_count": null,
   "metadata": {
    "collapsed": false
   },
   "outputs": [],
   "source": [
    "# Gender concordance v overall satisfaction, grouped by course\n",
    "# This looks at how students rate their profs, by course\n",
    "\n",
    "dMale_stu = dat[dat['stu_male']==1]\n",
    "dFemale_stu = dat[dat['stu_female']==1]\n",
    "\n",
    "theCols = evals + ['prof_male','prof_female','plumTime','note_cm', 'course_year_int']\n",
    "\n",
    "groupedMale = dMale_stu.groupby(['course_number'])\n",
    "groupedFemale = dFemale_stu.groupby(['course_number'])\n",
    "prof_ratings_M = groupedMale[theCols].agg(np.mean)\n",
    "prof_ratings_F = groupedFemale[theCols].agg(np.mean)\n",
    "(t, plow, pupper, pboth, sims) = sim_corr(x = prof_ratings_M['q16'], y = prof_ratings_M['prof_male'], \n",
    "                                          group = prof_ratings_M['course_year_int'], seed = rs, reps=10)\n",
    "print 'Male students\\n'\n",
    "print 'Overall:'\n",
    "print 'Test statistic (sum of correlations):', t\n",
    "print 'One-sided (upper) p-value:', pupper\n",
    "print 'Two-sided p-value:', pboth\n",
    "print 'Number of sections with male students:', prof_ratings_M['prof_male'].size, '\\n'\n",
    "\n",
    "print ('\\n{0:12} {1:8} {2:8} {3:8} {4:8}'.format('Course', 'Test stat', 'Upper P-value', \\\n",
    "                                                             'Two-sided p-value', '# Sections'))\n",
    "for topic in np.unique(dMale_stu['course']):\n",
    "    perTopic = dMale_stu[dMale_stu['course']==topic]\n",
    "    grouped = perTopic.groupby(['course_number'])\n",
    "    prof_ratings = grouped[theCols].agg(np.mean)\n",
    "    (t, plow, pupper, pboth, sims) = sim_corr(x = prof_ratings['q16'], y = prof_ratings['prof_male'], \n",
    "                                              group = prof_ratings['course_year_int'], seed = rs, reps=10)\n",
    "    print ('{0:8} {1:12.2f} {2:12.2f} {3:12.2f} {4:12.2f}'.format( topic, t, \\\n",
    "                    pupper, pboth, prof_ratings['prof_male'].size ))\n",
    "\n",
    "print '\\n\\nFemale students\\n'\n",
    "(t, plow, pupper, pboth, sims) = corr(x = prof_ratings_F['note_cm'], y = prof_ratings_F['prof_female'],\\\n",
    "                                      seed = rs)\n",
    "print 'Overall:'\n",
    "print 'Test statistic (sum of correlations):', t\n",
    "print 'One-sided (upper) p-value:', pupper\n",
    "print 'Two-sided p-value:', pboth\n",
    "print 'Number of sections with female students:', prof_ratings_F['prof_female'].size, '\\n'\n",
    "\n",
    "print ('\\n{0:12} {1:8} {2:8} {3:8} {4:8}'.format('Course', 'Test stat', 'Upper P-value', \\\n",
    "                                                             'Two-sided p-value', '# Sections'))\n",
    "for topic in np.unique(dFemale_stu['course']):\n",
    "    perTopic = dFemale_stu[dFemale_stu['course']==topic]\n",
    "    grouped = perTopic.groupby(['course_number'])\n",
    "    prof_ratings = grouped[theCols].agg(np.mean)\n",
    "    (t, plow, pupper, pboth, sims) = sim_corr(x = prof_ratings['q16'], y = prof_ratings['prof_female'], \n",
    "                                              group = prof_ratings['course_year_int'], seed = rs, reps=10)\n",
    "    print ('{0:8} {1:12.2f} {2:12.2f} {3:12.2f} {4:12.2f}'.format( topic, t, \\\n",
    "                    pupper, pboth, prof_ratings['prof_female'].size ))"
   ]
  },
  {
   "cell_type": "markdown",
   "metadata": {},
   "source": [
    "### Student performance and gender concordance"
   ]
  },
  {
   "cell_type": "code",
   "execution_count": null,
   "metadata": {
    "collapsed": false
   },
   "outputs": [],
   "source": [
    "# Gender concordance v final exam scores, grouped by course. Excludes IP\n",
    "\n",
    "dMale_stu = datNoIp[datNoIp['stu_male']==1]\n",
    "dFemale_stu = datNoIp[datNoIp['stu_female']==1]\n",
    "\n",
    "theCols = evals + ['prof_male','prof_female','plumTime','note_cm', 'course_year_int']\n",
    "\n",
    "groupedMale = dMale_stu.groupby(['course_number'])\n",
    "groupedFemale = dFemale_stu.groupby(['course_number'])\n",
    "prof_ratings_M = groupedMale[theCols].agg(np.mean)\n",
    "prof_ratings_F = groupedFemale[theCols].agg(np.mean)\n",
    "(t, plow, pupper, pboth, sims) = sim_corr(x = prof_ratings_M['note_cm'], y = prof_ratings_M['prof_male'], \n",
    "                                          group = prof_ratings_M['course_year_int'], seed = rs, reps=10)\n",
    "print 'Male students\\n'\n",
    "print 'Overall:'\n",
    "print 'Test statistic (sum of correlations):', t\n",
    "print 'One-sided (upper) p-value:', pupper\n",
    "print 'Two-sided p-value:', pboth\n",
    "print 'Number of sections with male students:', prof_ratings_M['prof_male'].size, '\\n'\n",
    "\n",
    "print ('\\n{0:12} {1:8} {2:8} {3:8} {4:8}'.format('Course', 'Test stat', 'Upper P-value', \\\n",
    "                                                             'Two-sided p-value', '# Sections'))\n",
    "    \n",
    "for topic in np.unique(dMale_stu['course']):\n",
    "    perTopic = dMale_stu[dMale_stu['course']==topic]\n",
    "    grouped = perTopic.groupby(['course_number'])\n",
    "    prof_ratings = grouped[theCols].agg(np.mean)\n",
    "    (t, plow, pupper, pboth, sims) = sim_corr(x = prof_ratings['note_cm'], y = prof_ratings['prof_male'], \n",
    "                                              group = prof_ratings['course_year_int'], seed = rs, reps=10)\n",
    "    print ('{0:8} {1:12.2f} {2:12.2f} {3:12.2f} {4:12.2f}'.format( topic, t, \\\n",
    "                    pupper, pboth, prof_ratings['prof_male'].size ))\n",
    "    \n",
    "    \n",
    "print '\\n\\nFemale students \\n'\n",
    "(t, plow, pupper, pboth, sims) = corr(x = prof_ratings_F['note_cm'], y = prof_ratings_F['prof_female'], seed = rs)\n",
    "print 'Overall:'\n",
    "print 'Test statistic (sum of correlations):', t\n",
    "print 'One-sided (upper) p-value:', pupper\n",
    "print 'Two-sided p-value:', pboth\n",
    "print 'Number of sections with female students:', prof_ratings_F['prof_female'].size, '\\n'\n",
    "\n",
    "print ('\\n{0:12} {1:8} {2:8} {3:8} {4:8}'.format('Course', 'Test stat', 'Upper P-value', \\\n",
    "                                                             'Two-sided p-value', '# Sections'))\n",
    "\n",
    "for topic in np.unique(dFemale_stu['course']):\n",
    "    perTopic = dFemale_stu[dFemale_stu['course']==topic]\n",
    "    grouped = perTopic.groupby(['course_number'])\n",
    "    prof_ratings = grouped[theCols].agg(np.mean)\n",
    "    (t, plow, pupper, pboth, sims) = sim_corr(x = prof_ratings['note_cm'], y = prof_ratings['prof_female'], \n",
    "                                              group = prof_ratings['course_year_int'], seed = rs, reps=10)\n",
    "    print ('{0:8} {1:12.2f} {2:12.2f} {3:12.2f} {4:12.2f}'.format( topic, t, \\\n",
    "                    pupper, pboth, prof_ratings['prof_female'].size ))"
   ]
  },
  {
   "cell_type": "markdown",
   "metadata": {},
   "source": [
    "### Association between evaluation scores and class meeting time"
   ]
  },
  {
   "cell_type": "code",
   "execution_count": null,
   "metadata": {
    "collapsed": false
   },
   "outputs": [],
   "source": [
    "# Correlation of avg evaluation score and desirable time, by course. Includes IP courses\n",
    "print 'Analyzing the correlation btw avg evaluation score and desirable time, by course' \n",
    "\n",
    "theCols = evals + ['prof_male','plumTime', 'course_year_int']\n",
    "\n",
    "grouped = dat.groupby(['course_number'])\n",
    "prof_ratings = grouped[theCols].agg(np.mean)\n",
    "(t, plow, pupper, pboth, sims) = sim_corr(x = prof_ratings['q16'], y = prof_ratings['plumTime'], \n",
    "                                          group = prof_ratings['course_year_int'], seed = rs, reps=10)\n",
    "print 'Overall:'\n",
    "print 'Test statistic (sum of correlations):', t\n",
    "print 'One-sided (upper) p-value:', pupper\n",
    "print 'Two-sided p-value:', pboth\n",
    "print 'Number of sections with desirable times:', prof_ratings['plumTime'].sum()\n",
    "print 'Number of sections with undesirable times:', (1-prof_ratings['plumTime']).sum()\n",
    "print 'Total number of sections:', prof_ratings['plumTime'].size, '\\n'\n",
    "\n",
    "\n",
    "print ('\\n{0:12} {1:8} {2:8} {3:8} {4:8}'.format('Course', 'Test stat', 'Upper P-value', \\\n",
    "                                                             'Two-sided p-value', '# Sections'))\n",
    "for topic in np.unique(dat.course):\n",
    "    perTopic = dat[dat['course']==topic]\n",
    "    grouped = perTopic.groupby(['course_number'])\n",
    "    prof_ratings = grouped[theCols].agg(np.mean)\n",
    "    (t, plow, pupper, pboth, sims) = sim_corr(x = prof_ratings['q16'], y = prof_ratings['plumTime'], \n",
    "                                              group = prof_ratings['course_year_int'], seed = rs, reps=10)\n",
    "    print ('{0:8} {1:12.2f} {2:12.2f} {3:12.2f} {4:12.2f}'.format( topic, t, \\\n",
    "                    pupper, pboth, prof_ratings['plumTime'].size ))"
   ]
  },
  {
   "cell_type": "markdown",
   "metadata": {},
   "source": [
    "### Reliability, self-declared investment in a course"
   ]
  },
  {
   "cell_type": "code",
   "execution_count": null,
   "metadata": {
    "collapsed": false
   },
   "outputs": [],
   "source": [
    "# dat with IP => to test for reliability on q10 (student self-assessed involvment in the course)\n",
    "\n",
    "wrkld=dat[dat['three_evals']==1]['sum_q10']\n",
    "plt.hist (wrkld.values, bins=6)"
   ]
  },
  {
   "cell_type": "markdown",
   "metadata": {},
   "source": [
    "# Other analyses, not in paper"
   ]
  },
  {
   "cell_type": "markdown",
   "metadata": {},
   "source": [
    "### Ratings and performance, pooled genders and stratified"
   ]
  },
  {
   "cell_type": "code",
   "execution_count": null,
   "metadata": {
    "collapsed": false
   },
   "outputs": [],
   "source": [
    "# test association between ratings and performance, pooled genders.\n",
    "# Since this uses the final exams, eliminate the IP courses\n",
    "\n",
    "# group the data by instructor, discipline, gender, student gender\n",
    "\n",
    "grouped = datNoIp.groupby(['prof_id', 'course', 'gender', 'student_gender'])\n",
    "prof_ratings = grouped[evals + ['course_year_int']].mean()\n",
    "\n",
    "pass_fail = lambda x: np.mean([xx >= 10 for xx in x])\n",
    "pass_rate = grouped['note_finale'].agg([np.mean,pass_fail])\n",
    "\n",
    "teacher_data = pd.concat([prof_ratings, pass_rate], axis=1)\n",
    "teacher_data = teacher_data.rename(columns = {'mean':'mean_final_exam', '<lambda>':'pass_rate'}).reset_index()\n",
    "\n",
    "# Test association between ratings performance, pooled genders.\n",
    "(t, plower, pupper, pboth, sims) = sim_corr(x = teacher_data['q16'], y = teacher_data['mean_final_exam'],\n",
    "                                            group = teacher_data[\"course_year_int\"], seed = rs, reps=10)\n",
    "print 'Ratings v. performance, pooled gender:',t, plower, pupper, pboth\n",
    "\n",
    "# Note - this test no longer makes sense\n",
    "# Test association between ratings performance, stratified by gender.\n",
    "(t, plower, pupper, pboth, sims) = sim_corr(x = teacher_data.q16, y = teacher_data.mean_final_exam,\n",
    "                                            group = teacher_data.gender, seed = rs, reps=10)\n",
    "print 'Ratings v. performance, stratified by gender:', t, plower, pupper, pboth"
   ]
  },
  {
   "cell_type": "markdown",
   "metadata": {},
   "source": [
    "### Ratings v instructor gender"
   ]
  },
  {
   "cell_type": "code",
   "execution_count": null,
   "metadata": {
    "collapsed": false
   },
   "outputs": [],
   "source": [
    "grouped = dat.groupby(['prof_id'])\n",
    "theCols = evals + ['prof_male', 'course_year_int']  # evaluation columns, plus indicator for male prof\n",
    "\n",
    "prof_ratings = grouped[theCols].agg(np.mean)\n",
    "\n",
    "(t, plower, pupper, pboth, sims) = sim_corr(x = prof_ratings['q16'], y = prof_ratings['prof_male'], \n",
    "                                            group = prof_ratings['course_year_int'], seed = rs, reps=10)\n",
    "\n",
    "print 'mean rating for instructors vs. instructor gender (positive favors males):', t, plower, pupper, pboth"
   ]
  },
  {
   "cell_type": "markdown",
   "metadata": {},
   "source": [
    "### Instructor gender and student performance, student level"
   ]
  },
  {
   "cell_type": "code",
   "execution_count": null,
   "metadata": {
    "collapsed": false
   },
   "outputs": [],
   "source": [
    "# remove students who took triads from instructors all of the same gender or who have missing final grades.\n",
    "# Since this uses final exams, remove IP courses\n",
    "\n",
    "datNonzeroVar = datNoIp.copy()\n",
    "for g in np.unique(dat['student_id']):\n",
    "    gg = dat['student_id'] == g\n",
    "    if (np.var(datNoIp['note_cm'][gg]) == 0.0) or (np.var(datNoIp['prof_male'][gg]) == 0.0) or \\\n",
    "        np.any(np.isnan(datNoIp['note_cm'][gg])):\n",
    "        datNonzeroVar = datNonzeroVar.drop(datNonzeroVar[datNonzeroVar['student_id'] == g].index)\n",
    "\n",
    "(t, plower, pupper, pboth, sims) = sim_corr(x = datNonzeroVar[~np.isnan(datNonzeroVar['note_cm'])]['prof_male'],\\\n",
    "                                    y = datNonzeroVar[~np.isnan(datNonzeroVar['note_cm'])]['note_cm'],\\\n",
    "                                    group = datNonzeroVar[~np.isnan(datNonzeroVar['note_cm'])]['student_id'],\\\n",
    "                                    seed = rs, reps=10)\n",
    "                                           \n",
    "print 'Student-level association between instructor gender and performance:', t, plower, pupper, pboth"
   ]
  },
  {
   "cell_type": "markdown",
   "metadata": {},
   "source": [
    "### Association between instructors' average ratings and average continuous assessment grades, by teacher id"
   ]
  },
  {
   "cell_type": "code",
   "execution_count": null,
   "metadata": {
    "collapsed": false
   },
   "outputs": [],
   "source": [
    "# Correlation of avg evaluation score and avg cont assessment grades, by instructor. \n",
    "# Includes IP courses\n",
    "\n",
    "print 'Analyzing the correlation btw avg evaluation score and cont assessment, by instructor' \n",
    "\n",
    "theCols = evals + ['prof_male','plumTime','note_conf', 'course_year_int']\n",
    "\n",
    "grouped = dat.groupby(['prof_id'])\n",
    "prof_ratings = grouped[theCols].agg(np.mean)\n",
    "(t, plow, pupper, pboth, sims) = sim_corr(x = prof_ratings['q16'], y = prof_ratings['note_conf'], \n",
    "                                          group = prof_ratings['course_year_int'], seed = rs, reps=10)\n",
    "print 'overall', t, pupper,\\\n",
    "       prof_ratings['note_conf'].size, '\\n'\n",
    "\n",
    "for topic in np.unique(dat.course):\n",
    "    perTopic = dat[dat['course']==topic]\n",
    "    grouped = perTopic.groupby(['prof_id'])\n",
    "    prof_ratings = grouped[theCols].agg(np.mean)\n",
    "    (t, plow, pupper, pboth, sims) = sim_corr(x = prof_ratings['q16'], y = prof_ratings['note_conf'], \n",
    "                                              group = prof_ratings['course_year_int'], seed = rs, reps=10)\n",
    "    print topic, t, pupper, prof_ratings['note_conf'].size\n",
    "    \n",
    "    "
   ]
  },
  {
   "cell_type": "markdown",
   "metadata": {},
   "source": [
    "### Association between concordance of student and teacher genders and overall satisfaction"
   ]
  },
  {
   "cell_type": "code",
   "execution_count": null,
   "metadata": {
    "collapsed": false
   },
   "outputs": [],
   "source": [
    "# Correlation of concordance of student and teacher genders and overall satisfaction. Includes IP courses.\n",
    "print 'Correlation of concordance of student and teacher genders and overall satisfaction'\n",
    "# Male instructors first\n",
    "\n",
    "dMale = dat[dat['prof_male']==1]\n",
    "dFemale = dat[dat['prof_female']==1]\n",
    "\n",
    "(t, plow, pupper, pboth, sims) = sim_corr(x=dMale['q16'], y=dMale['stu_male'], \n",
    "                                          group = dMale['course_year_int'], reps=10, seed=rs)\n",
    "print 'Male instructors:', t, pupper\n",
    "\n",
    "# Female instructors\n",
    "\n",
    "(t, plow, pupper, pboth, sims) = sim_corr(x = dFemale['q16'], y = dFemale['stu_female'], \n",
    "                                      group = dFemale['course_year_int'], reps=10, seed=rs)\n",
    "print 'Female instructors:', t, pupper"
   ]
  },
  {
   "cell_type": "markdown",
   "metadata": {
    "collapsed": true
   },
   "source": [
    "### Dimensions of teaching analyses"
   ]
  },
  {
   "cell_type": "code",
   "execution_count": null,
   "metadata": {
    "collapsed": false
   },
   "outputs": [],
   "source": [
    "# Correlation of avg teaching dimension scores and final exam grade, by course number.\n",
    "# Excludes IP.\n",
    "print 'Analyzing the correlation btw teaching dimension scores and final exam grade, by course number' \n",
    "\n",
    "theCols = evals + ['prof_male','plumTime','note_cm', 'course_year_int']\n",
    "\n",
    "grouped = datNoIp.groupby(['course_number'])\n",
    "prof_ratings = grouped[theCols].agg(np.mean)\n",
    "(t, plow, pupper, pboth, sims) = sim_corr(x = prof_ratings['q5'], y = prof_ratings['note_cm'], \n",
    "                                          group = prof_ratings['course_year_int'], seed = rs, reps=10)\n",
    "print 'overall', t, pupper,\\\n",
    "       prof_ratings['note_cm'].size, '\\n'\n",
    "\n",
    "for topic in np.unique(datNoIp.course):\n",
    "    perTopic = datNoIp[datNoIp['course']==topic]\n",
    "    grouped = perTopic.groupby(['course_number'])\n",
    "    prof_ratings = grouped[theCols].agg(np.mean)\n",
    "    (t, plow, pupper, pboth, sims) = sim_corr(x = prof_ratings['q5'], y = prof_ratings['note_cm'],\n",
    "                                          group = prof_ratings['course_year_int'], seed = rs, reps=10)\n",
    "\n",
    "    print topic, t, pupper, prof_ratings['note_cm'].size\n",
    "    \n",
    "    "
   ]
  },
  {
   "cell_type": "code",
   "execution_count": null,
   "metadata": {
    "collapsed": false
   },
   "outputs": [],
   "source": [
    "# Correlation of avg teaching dimension scores and final exam grade, by course number.\n",
    "# Since this uses final, omit IP courses\n",
    "\n",
    "print 'Analyzing the correlation btw teaching dimension scores and final exam grade, by course number' \n",
    "\n",
    "theCols = evals + ['prof_male','plumTime','note_cm', 'course_year_int']\n",
    "\n",
    "grouped = datNoIp.groupby(['course_number'])\n",
    "prof_ratings = grouped[theCols].agg(np.mean)\n",
    "(t, plow, pupper, pboth, sims) = sim_corr(x = prof_ratings['q5'], y = prof_ratings['note_cm'], \n",
    "                                          group = prof_ratings['course_year_int'], seed = rs, reps=10)\n",
    "\n",
    "print 'overall', t, pupper,\\\n",
    "       prof_ratings['note_cm'].size, '\\n'\n",
    "\n",
    "for topic in np.unique(datNoIp.course):\n",
    "    perTopic = datNoIp[datNoIp['course']==topic]\n",
    "    grouped = perTopic.groupby(['course_number'])\n",
    "    prof_ratings = grouped[theCols].agg(np.mean)\n",
    "    (t, plow, pupper, pboth, sims) = sim_corr(x = prof_ratings['q5'], y = prof_ratings['note_cm'], \n",
    "                                              group = prof_ratings['course_year_int'], seed = rs, reps=10)\n",
    "    print topic, t, pupper, prof_ratings['note_cm'].size"
   ]
  },
  {
   "cell_type": "markdown",
   "metadata": {
    "collapsed": true
   },
   "source": [
    "### Gender concordance analyses"
   ]
  },
  {
   "cell_type": "code",
   "execution_count": null,
   "metadata": {
    "collapsed": false
   },
   "outputs": [],
   "source": [
    "# Gender concordance v continuous assessment grade. Include IP. \n",
    "# This looks at how profs are rated by students.\n",
    "\n",
    "dMale = dat[dat['prof_male']==1]\n",
    "dMale = dMale[~np.isnan(dMale['note_conf'])]\n",
    "              \n",
    "dFemale = dat[dat['prof_female']==1]\n",
    "dFemale = dFemale[~np.isnan(dFemale['note_conf'])]\n",
    "\n",
    "(t, plow, pupper, pboth, sims) = sim_corr(x=dMale['note_conf'], y=dMale['stu_male'], \n",
    "                                          group = dMale['course_year_int'], seed=rs, reps=10)\n",
    "print 'Concordance of genders v continuous assessment, male instructors:', t, pupper\n",
    "                  \n",
    "(t, plow, pupper, pboth, sims) = sim_corr(x=dFemale['note_conf'], y=dFemale['stu_female'],\n",
    "                                          group = dFemale['course_year_int'], seed=rs, reps=10)\n",
    "print 'Concordance of genders v continuous assessment, female instructors:', t, pupper"
   ]
  },
  {
   "cell_type": "code",
   "execution_count": null,
   "metadata": {
    "collapsed": false
   },
   "outputs": [],
   "source": [
    "# Gender concordance v preparation & organization. Includes IP courses.\n",
    "# This looks at how profs are rated by students.\n",
    "\n",
    "# redundant, but safe:\n",
    "dMale = dat[dat['prof_male']==1]\n",
    "dMale = dMale[~np.isnan(dMale['q1'])]  # note! need to re-set in following analyses\n",
    "\n",
    "dFemale = dat[dat['prof_female']==1]\n",
    "dFemale = dFemale[~np.isnan(dFemale['q1'])]  # note! need to re-set in following analyses\n",
    "\n",
    "# Male instructors\n",
    "(t, plow, pupper, pboth, sims) = sim_corr(x=dMale['q1'], y=dMale['stu_male'], \n",
    "                                          group = dMale['course_year_int'], seed=rs, reps=10)\n",
    "print 'Gender concordance v. preparation and organization, male instructors:', t, pupper\n",
    "\n",
    "# Female instructors\n",
    "(t, plow, pupper, pboth, sims) = sim_corr(x=dFemale['q1'], y=dFemale['stu_female'], \n",
    "                                          group = dFemale['course_year_int'], seed=rs, reps=10)\n",
    "print 'Gender concordance v. preparation and organization, female instructors:', t, pupper"
   ]
  },
  {
   "cell_type": "code",
   "execution_count": null,
   "metadata": {
    "collapsed": false
   },
   "outputs": [],
   "source": [
    "# Gender concordance v quality of instructional material. Includes IP courses.\n",
    "# This looks at how profs are rated by students.\n",
    "\n",
    "# redundant, but safe:\n",
    "dMale = dat[dat['prof_male']==1]\n",
    "dMale = dMale[~np.isnan(dMale['q2'])]  # note! need to re-set in following analyses\n",
    "\n",
    "dFemale = dat[dat['prof_female']==1]\n",
    "dFemale = dFemale[~np.isnan(dFemale['q2'])]  # note! need to re-set in following analyses\n",
    "\n",
    "# Male instructors\n",
    "(t, plow, pupper, pboth, sims) = sim_corr(x=dMale['q2'], y=dMale['stu_male'], \n",
    "                                          group = dMale['course_year_int'], seed=rs, reps=10)\n",
    "print 'Gender concordance v. preparation and organization, male instructors:', t, pupper\n",
    "\n",
    "# Female instructors\n",
    "(t, plow, pupper, pboth, sims) = sim_corr(x=dFemale['q2'], y=dFemale['stu_female'], \n",
    "                                          group = dFemale['course_year_int'], seed=rs, reps=10)\n",
    "print 'Gender concordance v. preparation and organization, female instructors:', t, pupper"
   ]
  },
  {
   "cell_type": "code",
   "execution_count": null,
   "metadata": {
    "collapsed": false
   },
   "outputs": [],
   "source": [
    "# Gender concordance v quality of animation. Includes IP courses\n",
    "# This looks at how profs are rated by students.\n",
    "\n",
    "dMale = dat[dat['prof_male']==1]\n",
    "dMale = dMale[~np.isnan(dMale['q5'])]\n",
    "              \n",
    "dFemale = dat[dat['prof_female']==1]\n",
    "dFemale = dFemale[~np.isnan(dFemale['q5'])]\n",
    "\n",
    "(t, plow, pupper, pboth, sims) = sim_corr(x=dMale['q5'], y=dMale['stu_male'], \n",
    "                                          group = dMale['course_year_int'], seed=rs, reps=10)\n",
    "print 'Gender concordance v animation, male instructors:', t, pupper\n",
    "\n",
    "(t, plow, pupper, pboth, sims) = sim_corr(x=dFemale['q5'], y=dFemale['stu_female'], \n",
    "                                      group = dFemale['course_year_int'], seed=rs, reps=10)\n",
    "print 'Gender concordance v animation, female instructors:', t, pupper"
   ]
  },
  {
   "cell_type": "markdown",
   "metadata": {
    "collapsed": true
   },
   "source": [
    "### Differences in continuous assessment and final exam grades analyses"
   ]
  },
  {
   "cell_type": "code",
   "execution_count": null,
   "metadata": {
    "collapsed": false
   },
   "outputs": [],
   "source": [
    "# Correlation btw avg evaluation score and difference btw continuous assessment and final grade, by course number\n",
    "# Exclude IP courses\n",
    "print 'Avg evaluation score v difference btw continuous assessment & final grade, by course number' \n",
    "\n",
    "theCols = evals + ['prof_male','plumTime','note_cm', 'diff_final_cont', 'course_year_int']\n",
    "\n",
    "grouped = datNoIp.groupby(['course_number'])\n",
    "prof_ratings = grouped[theCols].agg(np.mean)\n",
    "(t, plow, pupper, pboth, sims) = sim_corr(x = prof_ratings['q16'], y = prof_ratings['diff_final_cont'], \n",
    "                                          group = prof_ratings['course_year_int'], seed = rs, reps=10)\n",
    "print 'overall', t, pupper,\\\n",
    "       prof_ratings['diff_final_cont'].size, '\\n'\n",
    "\n",
    "for topic in np.unique(datNoIp.course):\n",
    "    perTopic = datNoIp[datNoIp['course']==topic]\n",
    "    grouped = perTopic.groupby(['course_number'])\n",
    "    prof_ratings = grouped[theCols].agg(np.mean)\n",
    "    (t, plow, pupper, pboth, sims) = sim_corr(x = prof_ratings['q16'], y = prof_ratings['diff_final_cont'], \n",
    "                                              group = prof_ratings['course_year_int'], seed = rs, reps=10)\n",
    "    print topic, t, pupper, prof_ratings['diff_final_cont'].size "
   ]
  },
  {
   "cell_type": "code",
   "execution_count": null,
   "metadata": {
    "collapsed": false
   },
   "outputs": [],
   "source": [
    "# Gender concordance v and difference btw continuous assessment and final grade. Includes IP courses\n",
    "# This looks at how profs grade students compared to their actual level.\n",
    "\n",
    "dMale = dat[dat['prof_male']==1]\n",
    "dMale = dMale[~np.isnan(dMale['diff_final_cont'])]\n",
    "              \n",
    "dFemale = dat[dat['prof_female']==1]\n",
    "dFemale = dFemale[~np.isnan(dFemale['diff_final_cont'])]\n",
    "\n",
    "(t, plow, pupper, pboth, sims) = sim_corr(x=dMale['diff_final_cont'], y=dMale['stu_male'], \n",
    "                                          group = dMale['course_year_int'], seed=rs, reps=10)\n",
    "print 'Gender concordance v difference btw continuous assessment and final grade, male instructors:', t, pupper\n",
    "\n",
    "(t, plow, pupper, pboth, sims) = sim_corr(x=dFemale['diff_final_cont'], y=dFemale['stu_female'], \n",
    "                                          group = dFemale['course_year_int'], seed=rs, reps=10)\n",
    "print 'Gender concordance v difference btw continuous assessment and final grade, female instructors:', t, pupper"
   ]
  },
  {
   "cell_type": "code",
   "execution_count": null,
   "metadata": {
    "collapsed": true
   },
   "outputs": [],
   "source": []
  },
  {
   "cell_type": "code",
   "execution_count": null,
   "metadata": {
    "collapsed": true
   },
   "outputs": [],
   "source": []
  }
 ],
 "metadata": {
  "kernelspec": {
   "display_name": "Python 2",
   "language": "python",
   "name": "python2"
  },
  "language_info": {
   "codemirror_mode": {
    "name": "ipython",
    "version": 2
   },
   "file_extension": ".py",
   "mimetype": "text/x-python",
   "name": "python",
   "nbconvert_exporter": "python",
   "pygments_lexer": "ipython2",
   "version": "2.7.9"
  }
 },
 "nbformat": 4,
 "nbformat_minor": 0
}
