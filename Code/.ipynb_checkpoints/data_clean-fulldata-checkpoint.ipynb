{
 "cells": [
  {
   "cell_type": "markdown",
   "metadata": {},
   "source": [
    "Gender Biases in Student Evaluations of Teachers\n",
    "====================================================\n"
   ]
  },
  {
   "cell_type": "code",
   "execution_count": 2,
   "metadata": {
    "collapsed": false
   },
   "outputs": [],
   "source": [
    "# boilerplate\n",
    "%matplotlib inline\n",
    "import math\n",
    "import numpy as np\n",
    "import pandas as pd\n",
    "from numpy.random import random\n",
    "import scipy as sp\n",
    "from scipy import special\n",
    "import matplotlib.pyplot as plt\n",
    "from __future__ import division\n",
    "# import permute #Install instructions at https://github.com/statlab/permute\n",
    "\n",
    "# initialize PRNG\n",
    "rs = np.random.RandomState(seed=1)"
   ]
  },
  {
   "cell_type": "markdown",
   "metadata": {},
   "source": [
    "Permutation test code\n",
    "============"
   ]
  },
  {
   "cell_type": "code",
   "execution_count": 3,
   "metadata": {
    "collapsed": true
   },
   "outputs": [],
   "source": [
    "def corr(x, y, reps=10**4, rs=None):\n",
    "    '''\n",
    "    Simulate permutation p-value for Spearman correlation coefficient\n",
    "    Returns test statistic, simulations, left-sided p-value, right-sided p-value, two-sided p-value\n",
    "    '''\n",
    "    if rs == None:\n",
    "        rs = np.random.RandomState()\n",
    "    t = np.corrcoef(x, y)[0,1]\n",
    "    sims = [np.corrcoef(rs.permutation(x), y)[0,1] for i in range(reps)]\n",
    "    return t, np.sum(sims <= t)/reps, np.sum(sims >= t)/reps, np.sum(np.abs(sims) >= math.fabs(t))/reps, sims\n",
    "\n",
    "def stratCorrTst(x, y, group):\n",
    "    '''\n",
    "    Calculates sum of Spearman correlations between x and y, computed separately in each group.\n",
    "    '''\n",
    "    tst = 0.0\n",
    "    for g in np.unique(group):\n",
    "        gg = (group == g)\n",
    "        tst += np.corrcoef(x[gg], y[gg])[0,1]\n",
    "    return tst\n",
    "\n",
    "def permuteWithinGroups(x, group, rs=None):\n",
    "    '''\n",
    "    Permutes the elements of x within groups\n",
    "    Input: ndarray x to be permuted, ndarray group of group ids, np.random.RandomState object rs\n",
    "    '''\n",
    "    if rs == None:\n",
    "        rs = np.random.RandomState()\n",
    "    permuted = x.copy()\n",
    "    for g in np.unique(group):\n",
    "        gg = group == g\n",
    "        permuted[gg] = rs.permutation(permuted[gg])      \n",
    "    return permuted\n",
    "\n",
    "def stratCorr(x, y, group, rs, reps=10**4):\n",
    "    '''\n",
    "    Simulate permutation p-value of stratified Spearman correlation test.\n",
    "    Returns test statistic, simulations, left-sided p-value, right-sided p-value, two-sided p-value\n",
    "    '''\n",
    "    t = stratCorrTst(x, y, group)\n",
    "    sims = [stratCorrTst(permuteWithinGroups(x, group, rs), y, group) for i in range(reps)]\n",
    "    return t, np.sum(sims <= t)/reps, np.sum(sims >= t)/reps, np.sum(np.abs(sims) >= math.fabs(t))/reps, sims\n"
   ]
  },
  {
   "cell_type": "markdown",
   "metadata": {},
   "source": [
    "## Read data and define new fields"
   ]
  },
  {
   "cell_type": "code",
   "execution_count": 4,
   "metadata": {
    "collapsed": false
   },
   "outputs": [
    {
     "data": {
      "text/html": [
       "<div style=\"max-height:1000px;max-width:1500px;overflow:auto;\">\n",
       "<table border=\"1\" class=\"dataframe\">\n",
       "  <thead>\n",
       "    <tr style=\"text-align: right;\">\n",
       "      <th></th>\n",
       "      <th>student_id</th>\n",
       "      <th>year</th>\n",
       "      <th>dual_degree</th>\n",
       "      <th>entreescpoen</th>\n",
       "      <th>stu_male</th>\n",
       "      <th>stu_female</th>\n",
       "      <th>admission_exam</th>\n",
       "      <th>admission_cep</th>\n",
       "      <th>admission_bactb</th>\n",
       "      <th>admission_other</th>\n",
       "      <th>...</th>\n",
       "      <th>scpo</th>\n",
       "      <th>both_female</th>\n",
       "      <th>both_male</th>\n",
       "      <th>stumale_proffemale</th>\n",
       "      <th>stufemale_profmale</th>\n",
       "      <th>diff_final_cont</th>\n",
       "      <th>fall</th>\n",
       "      <th>spring</th>\n",
       "      <th>three_evals</th>\n",
       "      <th>sum_q10</th>\n",
       "    </tr>\n",
       "  </thead>\n",
       "  <tbody>\n",
       "    <tr>\n",
       "      <th>count</th>\n",
       "      <td> 22665.000000</td>\n",
       "      <td> 22665.000000</td>\n",
       "      <td> 22665.000000</td>\n",
       "      <td> 22665.00000</td>\n",
       "      <td> 22665.000000</td>\n",
       "      <td> 22665.000000</td>\n",
       "      <td> 22647.000000</td>\n",
       "      <td> 22647.000000</td>\n",
       "      <td> 22647.00000</td>\n",
       "      <td> 22647.000000</td>\n",
       "      <td>...</td>\n",
       "      <td> 22665.000000</td>\n",
       "      <td> 22665.000000</td>\n",
       "      <td> 22665.000000</td>\n",
       "      <td> 22665.000000</td>\n",
       "      <td> 22665.000000</td>\n",
       "      <td> 22502.000000</td>\n",
       "      <td> 22665.000000</td>\n",
       "      <td> 22665.000000</td>\n",
       "      <td> 22665.000000</td>\n",
       "      <td> 22665.000000</td>\n",
       "    </tr>\n",
       "    <tr>\n",
       "      <th>mean</th>\n",
       "      <td>  2381.468652</td>\n",
       "      <td>  2010.239268</td>\n",
       "      <td>     0.100993</td>\n",
       "      <td>  2010.18844</td>\n",
       "      <td>     0.433179</td>\n",
       "      <td>     0.566821</td>\n",
       "      <td>     0.674306</td>\n",
       "      <td>     0.133704</td>\n",
       "      <td>     0.11220</td>\n",
       "      <td>     0.031527</td>\n",
       "      <td>...</td>\n",
       "      <td>     0.109243</td>\n",
       "      <td>     0.177101</td>\n",
       "      <td>     0.295345</td>\n",
       "      <td>     0.137834</td>\n",
       "      <td>     0.389720</td>\n",
       "      <td>     1.601022</td>\n",
       "      <td>     0.589852</td>\n",
       "      <td>     0.410148</td>\n",
       "      <td>     0.864858</td>\n",
       "      <td>     6.462696</td>\n",
       "    </tr>\n",
       "    <tr>\n",
       "      <th>std</th>\n",
       "      <td>  1232.740116</td>\n",
       "      <td>     1.345684</td>\n",
       "      <td>     0.301326</td>\n",
       "      <td>     1.36306</td>\n",
       "      <td>     0.495526</td>\n",
       "      <td>     0.495526</td>\n",
       "      <td>     0.468644</td>\n",
       "      <td>     0.340342</td>\n",
       "      <td>     0.31562</td>\n",
       "      <td>     0.174742</td>\n",
       "      <td>...</td>\n",
       "      <td>     0.311951</td>\n",
       "      <td>     0.381763</td>\n",
       "      <td>     0.456208</td>\n",
       "      <td>     0.344733</td>\n",
       "      <td>     0.487697</td>\n",
       "      <td>     2.793144</td>\n",
       "      <td>     0.491871</td>\n",
       "      <td>     0.491871</td>\n",
       "      <td>     0.341883</td>\n",
       "      <td>     1.693313</td>\n",
       "    </tr>\n",
       "    <tr>\n",
       "      <th>min</th>\n",
       "      <td>     1.000000</td>\n",
       "      <td>  2008.000000</td>\n",
       "      <td>     0.000000</td>\n",
       "      <td>  2004.00000</td>\n",
       "      <td>     0.000000</td>\n",
       "      <td>     0.000000</td>\n",
       "      <td>     0.000000</td>\n",
       "      <td>     0.000000</td>\n",
       "      <td>     0.00000</td>\n",
       "      <td>     0.000000</td>\n",
       "      <td>...</td>\n",
       "      <td>     0.000000</td>\n",
       "      <td>     0.000000</td>\n",
       "      <td>     0.000000</td>\n",
       "      <td>     0.000000</td>\n",
       "      <td>     0.000000</td>\n",
       "      <td>    -9.500000</td>\n",
       "      <td>     0.000000</td>\n",
       "      <td>     0.000000</td>\n",
       "      <td>     0.000000</td>\n",
       "      <td>     1.000000</td>\n",
       "    </tr>\n",
       "    <tr>\n",
       "      <th>25%</th>\n",
       "      <td>  1391.000000</td>\n",
       "      <td>  2009.000000</td>\n",
       "      <td>     0.000000</td>\n",
       "      <td>  2009.00000</td>\n",
       "      <td>     0.000000</td>\n",
       "      <td>     0.000000</td>\n",
       "      <td>     0.000000</td>\n",
       "      <td>     0.000000</td>\n",
       "      <td>     0.00000</td>\n",
       "      <td>     0.000000</td>\n",
       "      <td>...</td>\n",
       "      <td>     0.000000</td>\n",
       "      <td>     0.000000</td>\n",
       "      <td>     0.000000</td>\n",
       "      <td>     0.000000</td>\n",
       "      <td>     0.000000</td>\n",
       "      <td>    -0.500000</td>\n",
       "      <td>     0.000000</td>\n",
       "      <td>     0.000000</td>\n",
       "      <td>     1.000000</td>\n",
       "      <td>     6.000000</td>\n",
       "    </tr>\n",
       "    <tr>\n",
       "      <th>50%</th>\n",
       "      <td>  2453.000000</td>\n",
       "      <td>  2010.000000</td>\n",
       "      <td>     0.000000</td>\n",
       "      <td>  2010.00000</td>\n",
       "      <td>     0.000000</td>\n",
       "      <td>     1.000000</td>\n",
       "      <td>     1.000000</td>\n",
       "      <td>     0.000000</td>\n",
       "      <td>     0.00000</td>\n",
       "      <td>     0.000000</td>\n",
       "      <td>...</td>\n",
       "      <td>     0.000000</td>\n",
       "      <td>     0.000000</td>\n",
       "      <td>     0.000000</td>\n",
       "      <td>     0.000000</td>\n",
       "      <td>     0.000000</td>\n",
       "      <td>     1.500000</td>\n",
       "      <td>     1.000000</td>\n",
       "      <td>     0.000000</td>\n",
       "      <td>     1.000000</td>\n",
       "      <td>     7.000000</td>\n",
       "    </tr>\n",
       "    <tr>\n",
       "      <th>75%</th>\n",
       "      <td>  3420.000000</td>\n",
       "      <td>  2011.000000</td>\n",
       "      <td>     0.000000</td>\n",
       "      <td>  2011.00000</td>\n",
       "      <td>     1.000000</td>\n",
       "      <td>     1.000000</td>\n",
       "      <td>     1.000000</td>\n",
       "      <td>     0.000000</td>\n",
       "      <td>     0.00000</td>\n",
       "      <td>     0.000000</td>\n",
       "      <td>...</td>\n",
       "      <td>     0.000000</td>\n",
       "      <td>     0.000000</td>\n",
       "      <td>     1.000000</td>\n",
       "      <td>     0.000000</td>\n",
       "      <td>     1.000000</td>\n",
       "      <td>     3.500000</td>\n",
       "      <td>     1.000000</td>\n",
       "      <td>     1.000000</td>\n",
       "      <td>     1.000000</td>\n",
       "      <td>     8.000000</td>\n",
       "    </tr>\n",
       "    <tr>\n",
       "      <th>max</th>\n",
       "      <td>  4423.000000</td>\n",
       "      <td>  2012.000000</td>\n",
       "      <td>     1.000000</td>\n",
       "      <td>  2012.00000</td>\n",
       "      <td>     1.000000</td>\n",
       "      <td>     1.000000</td>\n",
       "      <td>     1.000000</td>\n",
       "      <td>     1.000000</td>\n",
       "      <td>     1.00000</td>\n",
       "      <td>     1.000000</td>\n",
       "      <td>...</td>\n",
       "      <td>     1.000000</td>\n",
       "      <td>     1.000000</td>\n",
       "      <td>     1.000000</td>\n",
       "      <td>     1.000000</td>\n",
       "      <td>     1.000000</td>\n",
       "      <td>    16.000000</td>\n",
       "      <td>     1.000000</td>\n",
       "      <td>     1.000000</td>\n",
       "      <td>     1.000000</td>\n",
       "      <td>     9.000000</td>\n",
       "    </tr>\n",
       "  </tbody>\n",
       "</table>\n",
       "<p>8 rows × 100 columns</p>\n",
       "</div>"
      ],
      "text/plain": [
       "         student_id          year   dual_degree  entreescpoen      stu_male  \\\n",
       "count  22665.000000  22665.000000  22665.000000   22665.00000  22665.000000   \n",
       "mean    2381.468652   2010.239268      0.100993    2010.18844      0.433179   \n",
       "std     1232.740116      1.345684      0.301326       1.36306      0.495526   \n",
       "min        1.000000   2008.000000      0.000000    2004.00000      0.000000   \n",
       "25%     1391.000000   2009.000000      0.000000    2009.00000      0.000000   \n",
       "50%     2453.000000   2010.000000      0.000000    2010.00000      0.000000   \n",
       "75%     3420.000000   2011.000000      0.000000    2011.00000      1.000000   \n",
       "max     4423.000000   2012.000000      1.000000    2012.00000      1.000000   \n",
       "\n",
       "         stu_female  admission_exam  admission_cep  admission_bactb  \\\n",
       "count  22665.000000    22647.000000   22647.000000      22647.00000   \n",
       "mean       0.566821        0.674306       0.133704          0.11220   \n",
       "std        0.495526        0.468644       0.340342          0.31562   \n",
       "min        0.000000        0.000000       0.000000          0.00000   \n",
       "25%        0.000000        0.000000       0.000000          0.00000   \n",
       "50%        1.000000        1.000000       0.000000          0.00000   \n",
       "75%        1.000000        1.000000       0.000000          0.00000   \n",
       "max        1.000000        1.000000       1.000000          1.00000   \n",
       "\n",
       "       admission_other      ...               scpo   both_female  \\\n",
       "count     22647.000000      ...       22665.000000  22665.000000   \n",
       "mean          0.031527      ...           0.109243      0.177101   \n",
       "std           0.174742      ...           0.311951      0.381763   \n",
       "min           0.000000      ...           0.000000      0.000000   \n",
       "25%           0.000000      ...           0.000000      0.000000   \n",
       "50%           0.000000      ...           0.000000      0.000000   \n",
       "75%           0.000000      ...           0.000000      0.000000   \n",
       "max           1.000000      ...           1.000000      1.000000   \n",
       "\n",
       "          both_male  stumale_proffemale  stufemale_profmale  diff_final_cont  \\\n",
       "count  22665.000000        22665.000000        22665.000000     22502.000000   \n",
       "mean       0.295345            0.137834            0.389720         1.601022   \n",
       "std        0.456208            0.344733            0.487697         2.793144   \n",
       "min        0.000000            0.000000            0.000000        -9.500000   \n",
       "25%        0.000000            0.000000            0.000000        -0.500000   \n",
       "50%        0.000000            0.000000            0.000000         1.500000   \n",
       "75%        1.000000            0.000000            1.000000         3.500000   \n",
       "max        1.000000            1.000000            1.000000        16.000000   \n",
       "\n",
       "               fall        spring   three_evals       sum_q10  \n",
       "count  22665.000000  22665.000000  22665.000000  22665.000000  \n",
       "mean       0.589852      0.410148      0.864858      6.462696  \n",
       "std        0.491871      0.491871      0.341883      1.693313  \n",
       "min        0.000000      0.000000      0.000000      1.000000  \n",
       "25%        0.000000      0.000000      1.000000      6.000000  \n",
       "50%        1.000000      0.000000      1.000000      7.000000  \n",
       "75%        1.000000      1.000000      1.000000      8.000000  \n",
       "max        1.000000      1.000000      1.000000      9.000000  \n",
       "\n",
       "[8 rows x 100 columns]"
      ]
     },
     "execution_count": 4,
     "metadata": {},
     "output_type": "execute_result"
    }
   ],
   "source": [
    "dat = pd.read_stata(\"../../SET data/permutation_full.dta\",  convert_categoricals=False )\n",
    "#dat = dat[dat.admission_cep == 0]\n",
    "dat.describe()"
   ]
  },
  {
   "cell_type": "code",
   "execution_count": 5,
   "metadata": {
    "collapsed": false
   },
   "outputs": [
    {
     "name": "stderr",
     "output_type": "stream",
     "text": [
      "C:\\Users\\albor_000\\Anaconda\\lib\\site-packages\\IPython\\kernel\\__main__.py:7: SettingWithCopyWarning: \n",
      "A value is trying to be set on a copy of a slice from a DataFrame\n",
      "\n",
      "See the the caveats in the documentation: http://pandas.pydata.org/pandas-docs/stable/indexing.html#indexing-view-versus-copy\n",
      "C:\\Users\\albor_000\\Anaconda\\lib\\site-packages\\IPython\\kernel\\__main__.py:8: SettingWithCopyWarning: \n",
      "A value is trying to be set on a copy of a slice from a DataFrame\n",
      "\n",
      "See the the caveats in the documentation: http://pandas.pydata.org/pandas-docs/stable/indexing.html#indexing-view-versus-copy\n",
      "C:\\Users\\albor_000\\Anaconda\\lib\\site-packages\\IPython\\kernel\\__main__.py:9: SettingWithCopyWarning: \n",
      "A value is trying to be set on a copy of a slice from a DataFrame\n",
      "\n",
      "See the the caveats in the documentation: http://pandas.pydata.org/pandas-docs/stable/indexing.html#indexing-view-versus-copy\n",
      "C:\\Users\\albor_000\\Anaconda\\lib\\site-packages\\IPython\\kernel\\__main__.py:10: SettingWithCopyWarning: \n",
      "A value is trying to be set on a copy of a slice from a DataFrame\n",
      "\n",
      "See the the caveats in the documentation: http://pandas.pydata.org/pandas-docs/stable/indexing.html#indexing-view-versus-copy\n",
      "C:\\Users\\albor_000\\Anaconda\\lib\\site-packages\\IPython\\kernel\\__main__.py:11: SettingWithCopyWarning: \n",
      "A value is trying to be set on a copy of a slice from a DataFrame\n",
      "\n",
      "See the the caveats in the documentation: http://pandas.pydata.org/pandas-docs/stable/indexing.html#indexing-view-versus-copy\n",
      "C:\\Users\\albor_000\\Anaconda\\lib\\site-packages\\IPython\\kernel\\__main__.py:12: SettingWithCopyWarning: \n",
      "A value is trying to be set on a copy of a slice from a DataFrame\n",
      "\n",
      "See the the caveats in the documentation: http://pandas.pydata.org/pandas-docs/stable/indexing.html#indexing-view-versus-copy\n",
      "C:\\Users\\albor_000\\Anaconda\\lib\\site-packages\\IPython\\kernel\\__main__.py:15: SettingWithCopyWarning: \n",
      "A value is trying to be set on a copy of a slice from a DataFrame\n",
      "\n",
      "See the the caveats in the documentation: http://pandas.pydata.org/pandas-docs/stable/indexing.html#indexing-view-versus-copy\n",
      "C:\\Users\\albor_000\\Anaconda\\lib\\site-packages\\IPython\\kernel\\__main__.py:16: SettingWithCopyWarning: \n",
      "A value is trying to be set on a copy of a slice from a DataFrame\n",
      "\n",
      "See the the caveats in the documentation: http://pandas.pydata.org/pandas-docs/stable/indexing.html#indexing-view-versus-copy\n",
      "C:\\Users\\albor_000\\Anaconda\\lib\\site-packages\\IPython\\kernel\\__main__.py:18: SettingWithCopyWarning: \n",
      "A value is trying to be set on a copy of a slice from a DataFrame\n",
      "\n",
      "See the the caveats in the documentation: http://pandas.pydata.org/pandas-docs/stable/indexing.html#indexing-view-versus-copy\n",
      "C:\\Users\\albor_000\\Anaconda\\lib\\site-packages\\IPython\\kernel\\__main__.py:19: SettingWithCopyWarning: \n",
      "A value is trying to be set on a copy of a slice from a DataFrame\n",
      "\n",
      "See the the caveats in the documentation: http://pandas.pydata.org/pandas-docs/stable/indexing.html#indexing-view-versus-copy\n"
     ]
    }
   ],
   "source": [
    "evals = ['q16', 'q1', 'q2', 'q3', 'q4', 'q5', 'q6', 'q7', 'q8', 'q9', 'q10', 'q13', 'q14', 'q15']\n",
    "if isinstance(dat.q16[0], str):\n",
    "    for e in evals:\n",
    "        dat[e].replace(['nonpertinent', 'insuffisant', 'moyen', 'bon', 'excellent'],\\\n",
    "                       [0,1,2,3,4],\\\n",
    "                       inplace=True)\n",
    "    \n",
    "dat['course'] = dat['prof_id']\n",
    "dat['course'][dat['history']==1] = 'history' \n",
    "dat['course'][dat['micro']==1] = 'micro' \n",
    "dat['course'][dat['ip']==1] = 'ip' \n",
    "dat['course'][dat['macro']==1] = 'macro' \n",
    "dat['course'][dat['socio']==1] = 'socio' \n",
    "dat['course'][dat['scpo']==1] = 'scpo' \n",
    "\n",
    "dat['gender'] = dat.prof_male\n",
    "dat['gender'][dat.gender==1] = 'M'\n",
    "dat['gender'][dat.gender==0] = 'F'\n",
    "dat['student_gender'] = dat.stu_male\n",
    "dat['student_gender'][dat.student_gender==1] = 'M'\n",
    "dat['student_gender'][dat.student_gender==0] = 'F'\n",
    "\n",
    "# Defining the fun times for class\n",
    "dat['plumTime'] = (dat['extremetime'] < 2) & dat['day'].isin([2,3,4])"
   ]
  },
  {
   "cell_type": "markdown",
   "metadata": {},
   "source": [
    "## Data filtering\n",
    "\n",
    "Most of the analyses omit grades in PI, for two reasons: \n",
    "1. The final exam is oral\n",
    "2. There is a large imbalance in the gender of the instructors: 52 male, 12 female\n",
    "3. Since the course is \"easy,\" that would bias results in favor of making male instructors look more effective"
   ]
  },
  {
   "cell_type": "code",
   "execution_count": 6,
   "metadata": {
    "collapsed": true
   },
   "outputs": [],
   "source": [
    "# remove the Political Institutions courses\n",
    "datNoIp = dat.copy()\n",
    "datNoIp = datNoIp[datNoIp['course'] != 'ip']"
   ]
  },
  {
   "cell_type": "markdown",
   "metadata": {},
   "source": [
    "# Start of the analysis\n",
    "\n",
    "### Is there a significant association between ratings and student performance?"
   ]
  },
  {
   "cell_type": "code",
   "execution_count": 7,
   "metadata": {
    "collapsed": false
   },
   "outputs": [
    {
     "name": "stdout",
     "output_type": "stream",
     "text": [
      "Ratings v. performance, pooled gender: 0.0528246155307 0.9245 0.0755 0.1541\n",
      "Ratings v. performance, stratified by gender: 0.0844164315315 0.862 0.138 0.2735\n"
     ]
    }
   ],
   "source": [
    "# test association between ratings and performance, pooled genders.\n",
    "# Since this uses the final exams, eliminate the IP courses\n",
    "\n",
    "# group the data by instructor, discipline, gender, student gender\n",
    "\n",
    "grouped = datNoIp.groupby(['prof_id', 'course', 'gender', 'student_gender'])\n",
    "prof_ratings = grouped[evals].mean()\n",
    "\n",
    "pass_fail = lambda x: np.mean([xx >= 10 for xx in x])\n",
    "pass_rate = grouped['note_finale'].agg([np.mean,pass_fail])\n",
    "\n",
    "teacher_data = pd.concat([prof_ratings, pass_rate], axis=1)\n",
    "teacher_data = teacher_data.rename(columns = {'mean':'mean_final_exam', '<lambda>':'pass_rate'}).reset_index()\n",
    "\n",
    "# Test association between ratings performance, pooled genders.\n",
    "(t, plower, pupper, pboth, sims) = corr(x = teacher_data.q16, y = teacher_data.mean_final_exam, rs = rs)\n",
    "print 'Ratings v. performance, pooled gender:',t, plower, pupper, pboth\n",
    "\n",
    "# Test association between ratings performance, stratified by gender.\n",
    "(t, plower, pupper, pboth, sims) = stratCorr(x = teacher_data.q16, y = teacher_data.mean_final_exam,\n",
    "                                            group = teacher_data.gender, rs = rs)\n",
    "print 'Ratings v. performance, stratified by gender:', t, plower, pupper, pboth"
   ]
  },
  {
   "cell_type": "markdown",
   "metadata": {},
   "source": [
    "### Ratings v instructor gender"
   ]
  },
  {
   "cell_type": "code",
   "execution_count": 8,
   "metadata": {
    "collapsed": false
   },
   "outputs": [
    {
     "name": "stdout",
     "output_type": "stream",
     "text": [
      "mean rating for instructors vs. instructor gender (positive favors males): 0.105247396725 0.9751 0.0249 0.0463\n"
     ]
    }
   ],
   "source": [
    "grouped = dat.groupby(['prof_id'])\n",
    "theCols = evals + ['prof_male']  # evaluation columns, plus indicator for male prof\n",
    "\n",
    "prof_ratings = grouped[theCols].agg(np.mean)\n",
    "\n",
    "(t, plower, pupper, pboth, sims) = corr(x = prof_ratings.q16, y = prof_ratings.prof_male, rs = rs)\n",
    "\n",
    "print 'mean rating for instructors vs. instructor gender (positive favors males):', t, plower, pupper, pboth"
   ]
  },
  {
   "cell_type": "markdown",
   "metadata": {},
   "source": [
    "### Instructor gender and student performance"
   ]
  },
  {
   "cell_type": "code",
   "execution_count": 9,
   "metadata": {
    "collapsed": false
   },
   "outputs": [
    {
     "name": "stdout",
     "output_type": "stream",
     "text": [
      "Student-level association between instructor gender and performance: -62.2604443985 0.027 0.973 0.051\n"
     ]
    }
   ],
   "source": [
    "# remove students who took triads from instructors all of the same gender or who have missing final grades.\n",
    "# Since this uses final exams, remove IP courses\n",
    "\n",
    "datNonzeroVar = datNoIp.copy()\n",
    "for g in np.unique(dat['student_id']):\n",
    "    gg = dat['student_id'] == g\n",
    "    if (np.var(datNoIp['note_cm'][gg]) == 0.0) or (np.var(datNoIp['prof_male'][gg]) == 0.0) or \\\n",
    "        np.any(np.isnan(datNoIp['note_cm'][gg])):\n",
    "        datNonzeroVar = datNonzeroVar.drop(datNonzeroVar[datNonzeroVar['student_id'] == g].index)\n",
    "\n",
    "(t, plower, pupper, pboth, sims) = stratCorr(x = datNonzeroVar[~np.isnan(datNonzeroVar['note_cm'])]['prof_male'],\\\n",
    "                                    y = datNonzeroVar[~np.isnan(datNonzeroVar['note_cm'])]['note_cm'],\\\n",
    "                                    group = datNonzeroVar[~np.isnan(datNonzeroVar['note_cm'])]['student_id'],\\\n",
    "                                    rs = rs, reps=10**3)\n",
    "                                           \n",
    "print 'Student-level association between instructor gender and performance:', t, plower, pupper, pboth"
   ]
  },
  {
   "cell_type": "markdown",
   "metadata": {},
   "source": [
    "### Association between instructor gender and evaluation scores, by subject"
   ]
  },
  {
   "cell_type": "code",
   "execution_count": 34,
   "metadata": {
    "collapsed": false
   },
   "outputs": [
    {
     "name": "stdout",
     "output_type": "stream",
     "text": [
      "Analyzing the correlation btw avg evaluation score and gender, by course\n",
      "overall 0.105631441051 0.0 0.0002 807.0 370.0 1177 \n",
      "\n",
      "history 0.122121176228 0.0343 0.0669 154.0 70.0 224\n",
      "ip 0.105141548142 0.0599 0.1137 182.0 45.0 227\n",
      "macro 0.107538057991 0.0511 0.1027 155.0 74.0 229\n",
      "micro 0.0501378744901 0.2183 0.4508 148.0 78.0 226\n",
      "scpo 0.08308070678 0.1694 0.3374 91.0 44.0 135\n",
      "socio 0.0907514275643 0.1487 0.2958 77.0 59.0 136\n"
     ]
    }
   ],
   "source": [
    "# Correlation of avg evaluation score and gender, by course.  Includes IP courses.\n",
    "\n",
    "print 'Analyzing the correlation btw avg evaluation score and gender, by course' \n",
    "\n",
    "theCols = evals + ['prof_male','plumTime']\n",
    "\n",
    "grouped = dat.groupby(['course_number'])\n",
    "prof_ratings = grouped[theCols].agg(np.mean)\n",
    "\n",
    "(t, plow, pupper, pboth, sims) = corr(x = prof_ratings['q16'], y = prof_ratings['prof_male'], rs = rs)\n",
    "print 'overall', t, pupper, pboth, prof_ratings['prof_male'].sum(), \\\n",
    "      (1-prof_ratings['prof_male']).sum(),\\\n",
    "       prof_ratings['prof_male'].size, '\\n'\n",
    "\n",
    "for topic in np.unique(dat.course):\n",
    "    perTopic = dat[dat['course']==topic]\n",
    "    grouped = perTopic.groupby(['course_number'])\n",
    "    prof_ratings = grouped[theCols].agg(np.mean)\n",
    "    (t, plow, pupper, pboth, sims) = corr(x = prof_ratings['q16'], y = prof_ratings['prof_male'], rs = rs)\n",
    "    print topic, t, pupper, pboth, prof_ratings['prof_male'].sum(), \\\n",
    "    (1-prof_ratings['prof_male']).sum(),  prof_ratings['prof_male'].size   "
   ]
  },
  {
   "cell_type": "markdown",
   "metadata": {},
   "source": [
    "### Association between instructor gender and final scores, by subject"
   ]
  },
  {
   "cell_type": "code",
   "execution_count": 28,
   "metadata": {
    "collapsed": false
   },
   "outputs": [
    {
     "name": "stdout",
     "output_type": "stream",
     "text": [
      "Correlation btw final exam average and instructor gender, by course\n",
      "overall -0.0210311782873 0.7414 0.5195 625.0 325.0 950 \n",
      "\n",
      "history -0.0661035404995 0.8348 0.3305 154.0 70.0 224\n",
      "ip -0.102342637458 0.936 0.1281 182.0 45.0 227\n",
      "macro 0.00142640235884 0.4884 0.9823 155.0 74.0 229\n",
      "micro -0.0332177187297 0.6852 0.6193 148.0 78.0 226\n",
      "scpo 0.00418393377878 0.4841 0.964 91.0 44.0 135\n",
      "socio 0.011222243947 0.4484 0.8945 77.0 59.0 136\n"
     ]
    }
   ],
   "source": [
    "# Correlation of final exam and gender, by course.  Excludes IP courses.\n",
    "\n",
    "print 'Correlation btw final exam average and instructor gender, by course' \n",
    "\n",
    "theCols = evals + ['prof_male','note_cm']\n",
    "\n",
    "grouped = datNoIp.groupby(['course_number'])\n",
    "prof_ratings = grouped[theCols].agg(np.mean)\n",
    "\n",
    "(t, plow, pupper, pboth, sims) = corr(x = prof_ratings['note_cm'], y = prof_ratings['prof_male'], rs = rs)\n",
    "print 'overall', t, pupper, pboth, prof_ratings['prof_male'].sum(), \\\n",
    "      (1-prof_ratings['prof_male']).sum(),\\\n",
    "       prof_ratings['prof_male'].size, '\\n'\n",
    "\n",
    "for topic in np.unique(dat.course):\n",
    "    perTopic = dat[dat['course']==topic]\n",
    "    grouped = perTopic.groupby(['course_number'])\n",
    "    prof_ratings = grouped[theCols].agg(np.mean)\n",
    "    (t, plow, pupper, pboth, sims) = corr(x = prof_ratings['note_cm'], y = prof_ratings['prof_male'], rs = rs)\n",
    "    print topic, t, pupper, pboth, prof_ratings['prof_male'].sum(), \\\n",
    "    (1-prof_ratings['prof_male']).sum(),  prof_ratings['prof_male'].size "
   ]
  },
  {
   "cell_type": "markdown",
   "metadata": {},
   "source": [
    "### Association between evaluation scores and class meeting time"
   ]
  },
  {
   "cell_type": "code",
   "execution_count": 11,
   "metadata": {
    "collapsed": false
   },
   "outputs": [
    {
     "name": "stdout",
     "output_type": "stream",
     "text": [
      "Analyzing the correlation btw avg evaluation score and desirable time, by course\n",
      "overall 0.0204806118802 0.2352 432 745 1177 \n",
      "\n",
      "history -0.0195341832805 0.6088 90 134 224\n",
      "ip -0.0600664348447 0.8125 75 152 227\n",
      "macro 0.0243616949266 0.3586 77 152 229\n",
      "micro -0.00108273545205 0.5161 81 145 226\n",
      "scpo 0.0152583150004 0.433 53 82 135\n",
      "socio 0.173057340922 0.0211 56 80 136\n"
     ]
    }
   ],
   "source": [
    "# Correlation of avg evaluation score and desirable time, by course. Includes IP courses\n",
    "print 'Analyzing the correlation btw avg evaluation score and desirable time, by course' \n",
    "\n",
    "theCols = evals + ['prof_male','plumTime']\n",
    "\n",
    "grouped = dat.groupby(['course_number'])\n",
    "prof_ratings = grouped[theCols].agg(np.mean)\n",
    "(t, plow, pupper, pboth, sims) = corr(x = prof_ratings['q16'], y = prof_ratings['plumTime'], rs = rs)\n",
    "print 'overall', t, pupper, prof_ratings['plumTime'].sum(), \\\n",
    "      (1-prof_ratings['plumTime']).sum(),\\\n",
    "       prof_ratings['plumTime'].size, '\\n'\n",
    "\n",
    "for topic in np.unique(dat.course):\n",
    "    perTopic = dat[dat['course']==topic]\n",
    "    grouped = perTopic.groupby(['course_number'])\n",
    "    prof_ratings = grouped[theCols].agg(np.mean)\n",
    "    (t, plow, pupper, pboth, sims) = corr(x = prof_ratings['q16'], y = prof_ratings['plumTime'], rs = rs)\n",
    "    print topic, t, pupper, prof_ratings['plumTime'].sum(), \\\n",
    "    (1-prof_ratings['plumTime']).sum(),  prof_ratings['plumTime'].size"
   ]
  },
  {
   "cell_type": "markdown",
   "metadata": {},
   "source": [
    "### Association between instructors' average ratings and average continuous assessment grades"
   ]
  },
  {
   "cell_type": "code",
   "execution_count": 12,
   "metadata": {
    "collapsed": false
   },
   "outputs": [
    {
     "name": "stdout",
     "output_type": "stream",
     "text": [
      "Analyzing the correlation btw avg evaluation score and cont assessment, by instructor\n",
      "overall 0.0339705120032 0.2569 372 \n",
      "\n",
      "history 0.230161612418 0.0239 70\n",
      "ip -0.0260723288441 0.5842 64\n",
      "macro 0.232746688753 0.0121 92\n",
      "micro 0.128885465346 0.116 94\n",
      "scpo 0.120833856289 0.2085 48\n",
      "socio 0.194304589162 0.076 56\n"
     ]
    }
   ],
   "source": [
    "# Correlation of avg evaluation score and avg cont assessment grades, by instructor. \n",
    "# Includes IP courses\n",
    "\n",
    "print 'Analyzing the correlation btw avg evaluation score and cont assessment, by instructor' \n",
    "\n",
    "theCols = evals + ['prof_male','plumTime','note_conf']\n",
    "\n",
    "grouped = dat.groupby(['prof_id'])\n",
    "prof_ratings = grouped[theCols].agg(np.mean)\n",
    "(t, plow, pupper, pboth, sims) = corr(x = prof_ratings['q16'], y = prof_ratings['note_conf'], rs = rs)\n",
    "print 'overall', t, pupper,\\\n",
    "       prof_ratings['note_conf'].size, '\\n'\n",
    "\n",
    "for topic in np.unique(dat.course):\n",
    "    perTopic = dat[dat['course']==topic]\n",
    "    grouped = perTopic.groupby(['prof_id'])\n",
    "    prof_ratings = grouped[theCols].agg(np.mean)\n",
    "    (t, plow, pupper, pboth, sims) = corr(x = prof_ratings['q16'], y = prof_ratings['note_conf'], rs = rs)\n",
    "    print topic, t, pupper, prof_ratings['note_conf'].size\n",
    "    \n",
    "    "
   ]
  },
  {
   "cell_type": "markdown",
   "metadata": {},
   "source": [
    "### Association between concordance of student and teacher genders and overall satisfaction"
   ]
  },
  {
   "cell_type": "code",
   "execution_count": 13,
   "metadata": {
    "collapsed": false
   },
   "outputs": [
    {
     "name": "stdout",
     "output_type": "stream",
     "text": [
      "Correlation of concordance of student and teacher genders and overall satisfaction\n",
      "Male instructors: 0.0831445895209 0.0\n",
      "Female instructors: -0.00233685533328 0.57152\n"
     ]
    }
   ],
   "source": [
    "# Correlation of concordance of student and teacher genders and overall satisfaction. Includes IP courses.\n",
    "print 'Correlation of concordance of student and teacher genders and overall satisfaction'\n",
    "# Male instructors first\n",
    "\n",
    "dMale = dat[dat['prof_male']==1]\n",
    "dFemale = dat[dat['prof_female']==1]\n",
    "\n",
    "(t, plow, pupper, pboth, sims) = corr(x=dMale['q16'], y=dMale['stu_male'], reps=10**5, rs=rs)\n",
    "print 'Male instructors:', t, pupper\n",
    "\n",
    "# Female instructors\n",
    "\n",
    "(t, plow, pupper, pboth, sims) = corr(x=dFemale['q16'], y=dFemale['stu_female'], reps=10**5, rs=rs)\n",
    "print 'Female instructors:', t, pupper"
   ]
  },
  {
   "cell_type": "markdown",
   "metadata": {
    "collapsed": true
   },
   "source": [
    "## Association between student grades and teacher gender, by student\n",
    "\n",
    "### Start with continuous assessment scores"
   ]
  },
  {
   "cell_type": "code",
   "execution_count": 31,
   "metadata": {
    "collapsed": false
   },
   "outputs": [
    {
     "name": "stdout",
     "output_type": "stream",
     "text": [
      "Analyzing the correlation btw avg evaluation score and cont assessment, by course number; no IP\n",
      "overall 0.12306299682 0.0002 0.0002 950 \n",
      "\n",
      "history 0.322874961577 0.0 0.0 224\n",
      "macro 0.229445210663 0.0006 0.0008 229\n",
      "micro 0.186667201697 0.0023 0.0044 226\n",
      "scpo 0.169692942424 0.0247 0.0487 135\n",
      "socio 0.269476214441 0.0008 0.0017 136\n"
     ]
    }
   ],
   "source": [
    "# Correlation btw avg evaluation score and avg cont assessment grades, by course number.\n",
    "# Since this is in contrast to the using the final exam as a measure of instructor value-added, omit IP courses\n",
    "print 'Analyzing the correlation btw avg evaluation score and cont assessment, by course number; no IP' \n",
    "\n",
    "theCols = evals + ['prof_male','plumTime','note_conf']\n",
    "\n",
    "grouped = datNoIp.groupby(['course_number'])\n",
    "prof_ratings = grouped[theCols].agg(np.mean)\n",
    "(t, plow, pupper, pboth, sims) = corr(x = prof_ratings['q16'], y = prof_ratings['note_conf'], rs = rs)\n",
    "print 'overall', t, pupper, pboth,\\\n",
    "       prof_ratings['note_conf'].size, '\\n'\n",
    "\n",
    "for topic in np.unique(datNoIp['course']):\n",
    "    perTopic = datNoIp[datNoIp['course']==topic]\n",
    "    grouped = perTopic.groupby(['course_number'])\n",
    "    prof_ratings = grouped[theCols].agg(np.mean)\n",
    "    (t, plow, pupper, pboth, sims) = corr(x = prof_ratings['q16'], y = prof_ratings['note_conf'], rs = rs)\n",
    "    print topic, t, pupper, pboth, prof_ratings['note_conf'].size\n",
    "    \n",
    "    "
   ]
  },
  {
   "cell_type": "code",
   "execution_count": 30,
   "metadata": {
    "collapsed": false
   },
   "outputs": [
    {
     "name": "stdout",
     "output_type": "stream",
     "text": [
      "Analyzing the correlation btw avg evaluation score and final exam grade, by course number\n",
      "overall -0.0187120576315 0.7216 0.569 950 \n",
      "\n",
      "history 0.0348491783782 0.2994 0.6083 224\n",
      "macro 0.116619238606 0.038 0.0787 229\n",
      "micro 0.117591704876 0.0381 0.0802 226\n",
      "scpo 0.00229264434087 0.4811 0.9798 135\n",
      "socio 0.0613407926159 0.2431 0.481 136\n"
     ]
    }
   ],
   "source": [
    "# Correlation btw avg evaluation score and final exam grade, by course number. Omit IP courses\n",
    "\n",
    "print 'Analyzing the correlation btw avg evaluation score and final exam grade, by course number' \n",
    "\n",
    "theCols = evals + ['prof_male','plumTime','note_cm']\n",
    "\n",
    "grouped = datNoIp.groupby(['course_number'])\n",
    "prof_ratings = grouped[theCols].agg(np.mean)\n",
    "(t, plow, pupper, pboth, sims) = corr(x = prof_ratings['q16'], y = prof_ratings['note_cm'], rs = rs)\n",
    "print 'overall', t, pupper, pboth,\\\n",
    "       prof_ratings['note_cm'].size, '\\n'\n",
    "\n",
    "for topic in np.unique(datNoIp.course):\n",
    "    perTopic = datNoIp[datNoIp['course']==topic]\n",
    "    grouped = perTopic.groupby(['course_number'])\n",
    "    prof_ratings = grouped[theCols].agg(np.mean)\n",
    "    (t, plow, pupper, pboth, sims) = corr(x = prof_ratings['q16'], y = prof_ratings['note_cm'], rs = rs)\n",
    "    print topic, t, pupper, pboth, prof_ratings['note_cm'].size"
   ]
  },
  {
   "cell_type": "code",
   "execution_count": 16,
   "metadata": {
    "collapsed": false
   },
   "outputs": [
    {
     "name": "stdout",
     "output_type": "stream",
     "text": [
      "Analyzing the correlation btw teaching dimension scores and final exam grade, by course number\n",
      "overall -0.052207480733 0.9439 950 \n",
      "\n",
      "history -0.035271381641 0.7017 224\n",
      "macro 0.0812193550034 0.1111 229\n",
      "micro 0.0786543480669 0.1205 226\n",
      "scpo 0.0550156342365 0.2669 135\n",
      "socio 0.0821015630437 0.1712 136\n"
     ]
    }
   ],
   "source": [
    "# Correlation of avg teaching dimension scores and final exam grade, by course number.\n",
    "# Since this uses final, omit IP courses\n",
    "\n",
    "print 'Analyzing the correlation btw teaching dimension scores and final exam grade, by course number' \n",
    "\n",
    "theCols = evals + ['prof_male','plumTime','note_cm']\n",
    "\n",
    "grouped = datNoIp.groupby(['course_number'])\n",
    "prof_ratings = grouped[theCols].agg(np.mean)\n",
    "(t, plow, pupper, pboth, sims) = corr(x = prof_ratings['q5'], y = prof_ratings['note_cm'], rs = rs)\n",
    "\n",
    "print 'overall', t, pupper,\\\n",
    "       prof_ratings['note_cm'].size, '\\n'\n",
    "\n",
    "for topic in np.unique(datNoIp.course):\n",
    "    perTopic = datNoIp[datNoIp['course']==topic]\n",
    "    grouped = perTopic.groupby(['course_number'])\n",
    "    prof_ratings = grouped[theCols].agg(np.mean)\n",
    "    (t, plow, pupper, pboth, sims) = corr(x = prof_ratings['q5'], y = prof_ratings['note_cm'], rs = rs)\n",
    "    print topic, t, pupper, prof_ratings['note_cm'].size"
   ]
  },
  {
   "cell_type": "code",
   "execution_count": 17,
   "metadata": {
    "collapsed": false
   },
   "outputs": [
    {
     "name": "stdout",
     "output_type": "stream",
     "text": [
      "Concordance of genders v continuous assessment, male instructors: 0.0087200513394 0.1361\n",
      "Concordance of genders v continuous assessment, female instructors: 0.0156940814384 0.088\n"
     ]
    }
   ],
   "source": [
    "# Gender concordance v continuous assessment grade. Include IP. \n",
    "# This looks at how profs are rated by students.\n",
    "\n",
    "dMale = dat[dat['prof_male']==1]\n",
    "dMale = dMale[~np.isnan(dMale['note_conf'])]\n",
    "              \n",
    "dFemale = dat[dat['prof_female']==1]\n",
    "dFemale = dFemale[~np.isnan(dFemale['note_conf'])]\n",
    "\n",
    "(t, plow, pupper, pboth, sims) = corr(x=dMale['note_conf'], y=dMale['stu_male'], rs=rs)\n",
    "print 'Concordance of genders v continuous assessment, male instructors:', t, pupper\n",
    "                  \n",
    "(t, plow, pupper, pboth, sims) = corr(x=dFemale['note_conf'], y=dFemale['stu_female'], rs=rs)\n",
    "print 'Concordance of genders v continuous assessment, female instructors:', t, pupper"
   ]
  },
  {
   "cell_type": "code",
   "execution_count": 18,
   "metadata": {
    "collapsed": false
   },
   "outputs": [
    {
     "name": "stdout",
     "output_type": "stream",
     "text": [
      "Gender concordance v. preparation and organization, male instructors: 0.0450345213959 0.0\n",
      "Gender concordance v. preparation and organization, female instructors: 0.0157071192709 0.0907\n"
     ]
    }
   ],
   "source": [
    "# Gender concordance v preparation & organization. Includes IP courses.\n",
    "# This looks at how profs are rated by students.\n",
    "\n",
    "# redundant, but safe:\n",
    "dMale = dat[dat['prof_male']==1]\n",
    "dMale = dMale[~np.isnan(dMale['q1'])]  # note! need to re-set in following analyses\n",
    "\n",
    "dFemale = dat[dat['prof_female']==1]\n",
    "dFemale = dFemale[~np.isnan(dFemale['q1'])]  # note! need to re-set in following analyses\n",
    "\n",
    "# Male instructors\n",
    "(t, plow, pupper, pboth, sims) = corr(x=dMale['q1'], y=dMale['stu_male'], rs=rs)\n",
    "print 'Gender concordance v. preparation and organization, male instructors:', t, pupper\n",
    "\n",
    "# Female instructors\n",
    "(t, plow, pupper, pboth, sims) = corr(x=dFemale['q1'], y=dFemale['stu_female'], rs=rs)\n",
    "print 'Gender concordance v. preparation and organization, female instructors:', t, pupper"
   ]
  },
  {
   "cell_type": "code",
   "execution_count": 26,
   "metadata": {
    "collapsed": false
   },
   "outputs": [
    {
     "name": "stdout",
     "output_type": "stream",
     "text": [
      "Gender concordance v. preparation and organization, male instructors: 0.0359435731205 0.0\n",
      "Gender concordance v. preparation and organization, female instructors: 0.0136743115861 0.121\n"
     ]
    }
   ],
   "source": [
    "# Gender concordance v quality of instructional material. Includes IP courses.\n",
    "# This looks at how profs are rated by students.\n",
    "\n",
    "# redundant, but safe:\n",
    "dMale = dat[dat['prof_male']==1]\n",
    "dMale = dMale[~np.isnan(dMale['q2'])]  # note! need to re-set in following analyses\n",
    "\n",
    "dFemale = dat[dat['prof_female']==1]\n",
    "dFemale = dFemale[~np.isnan(dFemale['q2'])]  # note! need to re-set in following analyses\n",
    "\n",
    "# Male instructors\n",
    "(t, plow, pupper, pboth, sims) = corr(x=dMale['q2'], y=dMale['stu_male'], rs=rs)\n",
    "print 'Gender concordance v. preparation and organization, male instructors:', t, pupper\n",
    "\n",
    "# Female instructors\n",
    "(t, plow, pupper, pboth, sims) = corr(x=dFemale['q2'], y=dFemale['stu_female'], rs=rs)\n",
    "print 'Gender concordance v. preparation and organization, female instructors:', t, pupper"
   ]
  },
  {
   "cell_type": "code",
   "execution_count": 19,
   "metadata": {
    "collapsed": false
   },
   "outputs": [
    {
     "name": "stdout",
     "output_type": "stream",
     "text": [
      "Gender concordance v animation, male instructors: 0.0500726660388 0.0\n",
      "Gender concordance v animation, female instructors: 0.0203476177142 0.0429\n"
     ]
    }
   ],
   "source": [
    "# Gender concordance v quality of animation. Includes IP courses\n",
    "# This looks at how profs are rated by students.\n",
    "\n",
    "dMale = dat[dat['prof_male']==1]\n",
    "dMale = dMale[~np.isnan(dMale['q5'])]\n",
    "              \n",
    "dFemale = dat[dat['prof_female']==1]\n",
    "dFemale = dFemale[~np.isnan(dFemale['q5'])]\n",
    "\n",
    "(t, plow, pupper, pboth, sims) = corr(x=dMale['q5'], y=dMale['stu_male'], rs=rs)\n",
    "print 'Gender concordance v animation, male instructors:', t, pupper\n",
    "\n",
    "(t, plow, pupper, pboth, sims) = corr(x=dFemale['q5'], y=dFemale['stu_female'], rs=rs)\n",
    "print 'Gender concordance v animation, female instructors:', t, pupper"
   ]
  },
  {
   "cell_type": "code",
   "execution_count": 44,
   "metadata": {
    "collapsed": false
   },
   "outputs": [
    {
     "name": "stdout",
     "output_type": "stream",
     "text": [
      "Male prof\n",
      "\n",
      "overall 0.153851774459 0.0 0.0 1177 \n",
      "\n",
      "history 0.186436808803 0.0019 0.0038 224\n",
      "ip 0.114401947363 0.046 0.0836 227\n",
      "macro 0.136157546015 0.0212 0.0407 229\n",
      "micro 0.120907950257 0.0377 0.0762 226\n",
      "scpo 0.180976901361 0.0171 0.0315 135\n",
      "socio 0.121133038436 0.0822 0.1654 136\n",
      "Female prof\n",
      "\n",
      "overall 0.0186821094628 0.2597 0.5306 1177 \n",
      "\n",
      "history -0.0420387066173 0.7429 0.522 224\n",
      "ip -0.0873770156551 0.9049 0.1916 227\n",
      "macro -0.075254314845 0.8711 0.2616 229\n",
      "micro 0.0156996813987 0.4073 0.814 226\n",
      "scpo -0.0014464869183 0.5059 0.9864 135\n",
      "socio -0.044457351039 0.6926 0.6055 136\n"
     ]
    }
   ],
   "source": [
    "# Gender concordance v overall satisfaction, grouped by course\n",
    "# This looks at how students rate their profs, by course\n",
    "\n",
    "dMale_stu = dat[dat['stu_male']==1]\n",
    "dFemale_stu = dat[dat['stu_female']==1]\n",
    "\n",
    "theCols = evals + ['prof_male','prof_female','plumTime','note_cm']\n",
    "\n",
    "groupedMale = dMale_stu.groupby(['course_number'])\n",
    "groupedFemale = dFemale_stu.groupby(['course_number'])\n",
    "prof_ratings_M = groupedMale[theCols].agg(np.mean)\n",
    "prof_ratings_F = groupedFemale[theCols].agg(np.mean)\n",
    "(t, plow, pupper, pboth, sims) = corr(x = prof_ratings_M['q16'], y = prof_ratings_M['prof_male'], rs = rs)\n",
    "print 'Male students\\n'\n",
    "print 'overall', t, pupper, pboth,\\\n",
    "       prof_ratings_M['prof_male'].size, '\\n'\n",
    "\n",
    "for topic in np.unique(dMale_stu['course']):\n",
    "    perTopic = dMale_stu[dMale_stu['course']==topic]\n",
    "    grouped = perTopic.groupby(['course_number'])\n",
    "    prof_ratings = grouped[theCols].agg(np.mean)\n",
    "    (t, plow, pupper, pboth, sims) = corr(x = prof_ratings['q16'], y = prof_ratings['prof_male'], rs = rs)\n",
    "    print topic, t, pupper, pboth, prof_ratings['prof_male'].size\n",
    "\n",
    "print 'Female students\\n'\n",
    "(t, plow, pupper, pboth, sims) = corr(x = prof_ratings_F['note_cm'], y = prof_ratings_F['prof_female'],\\\n",
    "                                      rs = rs)\n",
    "print 'overall', t, pupper,pboth,\\\n",
    "       prof_ratings_F['prof_female'].size, '\\n'\n",
    "\n",
    "for topic in np.unique(dFemale_stu['course']):\n",
    "    perTopic = dFemale_stu[dFemale_stu['course']==topic]\n",
    "    grouped = perTopic.groupby(['course_number'])\n",
    "    prof_ratings = grouped[theCols].agg(np.mean)\n",
    "    (t, plow, pupper, pboth, sims) = corr(x = prof_ratings['q16'], y = prof_ratings['prof_female'], rs = rs)\n",
    "    print topic, t, pupper, pboth, prof_ratings['prof_female'].size"
   ]
  },
  {
   "cell_type": "code",
   "execution_count": 46,
   "metadata": {
    "collapsed": false
   },
   "outputs": [
    {
     "name": "stdout",
     "output_type": "stream",
     "text": [
      "Male students\n",
      "\n",
      "overall 0.0522383949398 0.0509 0.1039 950 \n",
      "\n",
      "history 0.170841397357 0.0054 0.0105 224\n",
      "macro 0.111609865651 0.0452 0.092 229\n",
      "micro 0.041458949105 0.2747 0.5379 226\n",
      "scpo -0.0777604214882 0.8211 0.3632 135\n",
      "socio -0.0571224179777 0.7465 0.5067 136\n",
      "Female students \n",
      "\n",
      "overall -0.000954023113329 0.5088 0.976 950 \n",
      "\n",
      "history 0.00532931858065 0.4681 0.9414 224\n",
      "macro -0.0606413519447 0.8137 0.3723 229\n",
      "micro 0.0149410421363 0.4135 0.8221 226\n",
      "scpo 0.0484675447721 0.2918 0.5766 135\n",
      "socio 0.0330242355461 0.3562 0.7096 136\n"
     ]
    }
   ],
   "source": [
    "# Gender concordance v final exam scores, grouped by course. Excludes IP\n",
    "\n",
    "dMale_stu = datNoIp[datNoIp['stu_male']==1]\n",
    "dFemale_stu = datNoIp[datNoIp['stu_female']==1]\n",
    "\n",
    "theCols = evals + ['prof_male','prof_female','plumTime','note_cm']\n",
    "\n",
    "groupedMale = dMale_stu.groupby(['course_number'])\n",
    "groupedFemale = dFemale_stu.groupby(['course_number'])\n",
    "prof_ratings_M = groupedMale[theCols].agg(np.mean)\n",
    "prof_ratings_F = groupedFemale[theCols].agg(np.mean)\n",
    "(t, plow, pupper, pboth, sims) = corr(x = prof_ratings_M['note_cm'], y = prof_ratings_M['prof_male'], rs = rs)\n",
    "print 'Male students\\n'\n",
    "print 'overall', t, pupper, pboth,\\\n",
    "       prof_ratings_M['prof_male'].size, '\\n'\n",
    "\n",
    "for topic in np.unique(dMale_stu['course']):\n",
    "    perTopic = dMale_stu[dMale_stu['course']==topic]\n",
    "    grouped = perTopic.groupby(['course_number'])\n",
    "    prof_ratings = grouped[theCols].agg(np.mean)\n",
    "    (t, plow, pupper, pboth, sims) = corr(x = prof_ratings['note_cm'], y = prof_ratings['prof_male'], rs = rs)\n",
    "    print topic, t, pupper, pboth, prof_ratings['prof_male'].size\n",
    "\n",
    "print 'Female students \\n'\n",
    "(t, plow, pupper, pboth, sims) = corr(x = prof_ratings_F['note_cm'], y = prof_ratings_F['prof_female'], rs = rs)\n",
    "print 'overall', t, pupper,pboth,\\\n",
    "       prof_ratings_F['prof_female'].size, '\\n'\n",
    "\n",
    "for topic in np.unique(dFemale_stu['course']):\n",
    "    perTopic = dFemale_stu[dFemale_stu['course']==topic]\n",
    "    grouped = perTopic.groupby(['course_number'])\n",
    "    prof_ratings = grouped[theCols].agg(np.mean)\n",
    "    (t, plow, pupper, pboth, sims) = corr(x = prof_ratings['note_cm'], y = prof_ratings['prof_female'], rs = rs)\n",
    "    print topic, t, pupper, pboth, prof_ratings['prof_female'].size"
   ]
  },
  {
   "cell_type": "code",
   "execution_count": 21,
   "metadata": {
    "collapsed": false
   },
   "outputs": [
    {
     "name": "stdout",
     "output_type": "stream",
     "text": [
      "Analyzing the correlation btw avg evaluation score and cont assessment, by course number\n",
      "overall 0.100974571314 0.0004 1177 \n",
      "\n",
      "history 0.322874961577 0.0 224\n",
      "ip 0.056013141146 0.2029 227\n",
      "macro 0.229445210663 0.0002 229\n",
      "micro 0.186667201697 0.0028 226\n",
      "scpo 0.169692942424 0.0268 135\n",
      "socio 0.269476214441 0.001 136\n"
     ]
    }
   ],
   "source": [
    "# Correlation btw avg evaluation score and avg cont assessment grades, by course number. Includes IP\n",
    "print 'Analyzing the correlation btw avg evaluation score and cont assessment, by course number' \n",
    "\n",
    "theCols = evals + ['prof_male','plumTime','note_conf']\n",
    "\n",
    "grouped = dat.groupby(['course_number'])\n",
    "prof_ratings = grouped[theCols].agg(np.mean)\n",
    "(t, plow, pupper, pboth, sims) = corr(x = prof_ratings['q16'], y = prof_ratings['note_conf'], rs = rs)\n",
    "print 'overall', t, pupper,\\\n",
    "       prof_ratings['note_conf'].size, '\\n'\n",
    "\n",
    "for topic in np.unique(dat.course):\n",
    "    perTopic = dat[dat['course']==topic]\n",
    "    grouped = perTopic.groupby(['course_number'])\n",
    "    prof_ratings = grouped[theCols].agg(np.mean)\n",
    "    (t, plow, pupper, pboth, sims) = corr(x = prof_ratings['q16'], y = prof_ratings['note_conf'], rs = rs)\n",
    "    print topic, t, pupper, prof_ratings['note_conf'].size\n",
    "    \n",
    "    "
   ]
  },
  {
   "cell_type": "code",
   "execution_count": 22,
   "metadata": {
    "collapsed": false
   },
   "outputs": [
    {
     "name": "stdout",
     "output_type": "stream",
     "text": [
      "Analyzing the correlation btw avg evaluation score and final exam grade, by course number\n",
      "overall -0.0187120576315 0.7174 950 \n",
      "\n",
      "history 0.0348491783782 0.2993 224\n",
      "ip nan 0.0 0\n",
      "macro 0.116619238606 0.0404 229\n",
      "micro 0.117591704876 0.0378 226\n",
      "scpo 0.00229264434087 0.4959 135\n",
      "socio 0.0613407926159 0.2474 136\n"
     ]
    },
    {
     "name": "stderr",
     "output_type": "stream",
     "text": [
      "C:\\Users\\albor_000\\Anaconda\\lib\\site-packages\\numpy\\lib\\function_base.py:1890: RuntimeWarning: Degrees of freedom <= 0 for slice\n",
      "  warnings.warn(\"Degrees of freedom <= 0 for slice\", RuntimeWarning)\n",
      "C:\\Users\\albor_000\\Anaconda\\lib\\site-packages\\numpy\\core\\_methods.py:59: RuntimeWarning: Mean of empty slice.\n",
      "  warnings.warn(\"Mean of empty slice.\", RuntimeWarning)\n"
     ]
    }
   ],
   "source": [
    "# Correlation of avg evaluation score and final exam grade, by course number. Excludes IP.\n",
    "print 'Analyzing the correlation btw avg evaluation score and final exam grade, by course number' \n",
    "\n",
    "theCols = evals + ['prof_male','plumTime','note_cm']\n",
    "\n",
    "grouped = datNoIp.groupby(['course_number'])\n",
    "prof_ratings = grouped[theCols].agg(np.mean)\n",
    "(t, plow, pupper, pboth, sims) = corr(x = prof_ratings['q16'], y = prof_ratings['note_cm'], rs = rs)\n",
    "print 'overall', t, pupper,\\\n",
    "       prof_ratings['note_cm'].size, '\\n'\n",
    "\n",
    "for topic in np.unique(dat.course):\n",
    "    perTopic = datNoIp[datNoIp['course']==topic]\n",
    "    grouped = perTopic.groupby(['course_number'])\n",
    "    prof_ratings = grouped[theCols].agg(np.mean)\n",
    "    (t, plow, pupper, pboth, sims) = corr(x = prof_ratings['q16'], y = prof_ratings['note_cm'], rs = rs)\n",
    "    print topic, t, pupper, prof_ratings['note_cm'].size\n",
    "    \n",
    "    "
   ]
  },
  {
   "cell_type": "code",
   "execution_count": 23,
   "metadata": {
    "collapsed": false
   },
   "outputs": [
    {
     "name": "stdout",
     "output_type": "stream",
     "text": [
      "Analyzing the correlation btw teaching dimension scores and final exam grade, by course number\n",
      "overall -0.052207480733 0.9447 950 \n",
      "\n",
      "history -0.035271381641 0.7029 224\n",
      "macro 0.0812193550034 0.1128 229\n",
      "micro 0.0786543480669 0.1169 226\n",
      "scpo 0.0550156342365 0.2638 135\n",
      "socio 0.0821015630437 0.1693 136\n"
     ]
    }
   ],
   "source": [
    "# Correlation of avg teaching dimension scores and final exam grade, by course number.\n",
    "# Excludes IP.\n",
    "print 'Analyzing the correlation btw teaching dimension scores and final exam grade, by course number' \n",
    "\n",
    "theCols = evals + ['prof_male','plumTime','note_cm']\n",
    "\n",
    "grouped = datNoIp.groupby(['course_number'])\n",
    "prof_ratings = grouped[theCols].agg(np.mean)\n",
    "(t, plow, pupper, pboth, sims) = corr(x = prof_ratings['q5'], y = prof_ratings['note_cm'], rs = rs)\n",
    "print 'overall', t, pupper,\\\n",
    "       prof_ratings['note_cm'].size, '\\n'\n",
    "\n",
    "for topic in np.unique(datNoIp.course):\n",
    "    perTopic = datNoIp[datNoIp['course']==topic]\n",
    "    grouped = perTopic.groupby(['course_number'])\n",
    "    prof_ratings = grouped[theCols].agg(np.mean)\n",
    "    (t, plow, pupper, pboth, sims) = corr(x = prof_ratings['q5'], y = prof_ratings['note_cm'], rs = rs)\n",
    "    print topic, t, pupper, prof_ratings['note_cm'].size\n",
    "    \n",
    "    "
   ]
  },
  {
   "cell_type": "code",
   "execution_count": 63,
   "metadata": {
    "collapsed": false
   },
   "outputs": [
    {
     "name": "stdout",
     "output_type": "stream",
     "text": [
      "Gender concordance v difference btw continuous assessment and final grade, male instructors: -0.0165534167593 0.9808\n",
      "Gender concordance v difference btw continuous assessment and final grade, female instructors: 0.0265258442011 0.0134\n"
     ]
    }
   ],
   "source": [
    "# Gender concordance v and difference btw continuous assessment and final grade. Includes IP courses\n",
    "# This looks at how profs grade students compared to their actual level.\n",
    "\n",
    "dMale = dat[dat['prof_male']==1]\n",
    "dMale = dMale[~np.isnan(dMale['diff_final_cont'])]\n",
    "              \n",
    "dFemale = dat[dat['prof_female']==1]\n",
    "dFemale = dFemale[~np.isnan(dFemale['diff_final_cont'])]\n",
    "\n",
    "(t, plow, pupper, pboth, sims) = corr(x=dMale['diff_final_cont'], y=dMale['stu_male'], rs=rs)\n",
    "print 'Gender concordance v difference btw continuous assessment and final grade, male instructors:', t, pupper\n",
    "\n",
    "(t, plow, pupper, pboth, sims) = corr(x=dFemale['diff_final_cont'], y=dFemale['stu_female'], rs=rs)\n",
    "print 'Gender concordance v difference btw continuous assessment and final grade, female instructors:', t, pupper"
   ]
  },
  {
   "cell_type": "code",
   "execution_count": 24,
   "metadata": {
    "collapsed": false
   },
   "outputs": [
    {
     "name": "stdout",
     "output_type": "stream",
     "text": [
      "Avg evaluation score v difference btw continuous assessment & final grade, by course number\n",
      "overall 0.098629691166 0.0008 950 \n",
      "\n",
      "history 0.136630399402 0.0196 224\n",
      "macro 0.0239854106221 0.367 229\n",
      "micro -0.0167164772184 0.5999 226\n",
      "scpo 0.111944247681 0.1008 135\n",
      "socio 0.121772764345 0.0825 136\n"
     ]
    }
   ],
   "source": [
    "# Correlation btw avg evaluation score and difference btw continuous assessment and final grade, by course number\n",
    "# Exclude IP courses\n",
    "print 'Avg evaluation score v difference btw continuous assessment & final grade, by course number' \n",
    "\n",
    "theCols = evals + ['prof_male','plumTime','note_cm', 'diff_final_cont']\n",
    "\n",
    "grouped = datNoIp.groupby(['course_number'])\n",
    "prof_ratings = grouped[theCols].agg(np.mean)\n",
    "(t, plow, pupper, pboth, sims) = corr(x = prof_ratings['q16'], y = prof_ratings['diff_final_cont'], rs = rs)\n",
    "print 'overall', t, pupper,\\\n",
    "       prof_ratings['diff_final_cont'].size, '\\n'\n",
    "\n",
    "for topic in np.unique(datNoIp.course):\n",
    "    perTopic = datNoIp[datNoIp['course']==topic]\n",
    "    grouped = perTopic.groupby(['course_number'])\n",
    "    prof_ratings = grouped[theCols].agg(np.mean)\n",
    "    (t, plow, pupper, pboth, sims) = corr(x = prof_ratings['q16'], y = prof_ratings['diff_final_cont'], rs = rs)\n",
    "    print topic, t, pupper, prof_ratings['diff_final_cont'].size "
   ]
  },
  {
   "cell_type": "code",
   "execution_count": 25,
   "metadata": {
    "collapsed": false
   },
   "outputs": [
    {
     "data": {
      "text/plain": [
       "(array([   69.,     0.,   723.,     0.,  5889.,     0.,  7227.,     0.,\n",
       "         4206.,  1488.]),\n",
       " array([ 4. ,  4.5,  5. ,  5.5,  6. ,  6.5,  7. ,  7.5,  8. ,  8.5,  9. ]),\n",
       " <a list of 10 Patch objects>)"
      ]
     },
     "execution_count": 25,
     "metadata": {},
     "output_type": "execute_result"
    },
    {
     "data": {
      "image/png": "[encoded data removed]",
      "text/plain": [
       "<matplotlib.figure.Figure at 0xb021c18>"
      ]
     },
     "metadata": {},
     "output_type": "display_data"
    }
   ],
   "source": [
    "# dat with IP => to test for reliability on q10 (student self-assessed involvment in the course)\n",
    "\n",
    "wrkld=dat[dat['three_evals']==1]['sum_q10']\n",
    "plt.hist (wrkld)   "
   ]
  },
  {
   "cell_type": "code",
   "execution_count": null,
   "metadata": {
    "collapsed": true
   },
   "outputs": [],
   "source": []
  }
 ],
 "metadata": {
  "kernelspec": {
   "display_name": "Python 2",
   "language": "python",
   "name": "python2"
  },
  "language_info": {
   "codemirror_mode": {
    "name": "ipython",
    "version": 2
   },
   "file_extension": ".py",
   "mimetype": "text/x-python",
   "name": "python",
   "nbconvert_exporter": "python",
   "pygments_lexer": "ipython2",
   "version": "2.7.9"
  }
 },
 "nbformat": 4,
 "nbformat_minor": 0
}
