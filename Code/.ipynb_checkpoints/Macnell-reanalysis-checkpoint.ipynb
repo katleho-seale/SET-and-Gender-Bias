{
 "cells": [
  {
   "cell_type": "markdown",
   "metadata": {},
   "source": [
    "Gender Biases in Student Evaluations of Teachers - A Randomized, Online Experiment\n",
    "====================================================\n"
   ]
  },
  {
   "cell_type": "code",
   "execution_count": 1,
   "metadata": {
    "collapsed": true
   },
   "outputs": [],
   "source": [
    "# boilerplate\n",
    "%matplotlib inline\n",
    "import math\n",
    "import numpy as np\n",
    "import pandas as pd\n",
    "from numpy.random import random\n",
    "import scipy as sp\n",
    "from scipy import special\n",
    "import matplotlib.pyplot as plt\n",
    "from __future__ import division\n",
    "\n",
    "# initialize PRNG\n",
    "rs = np.random.RandomState(seed=1)"
   ]
  },
  {
   "cell_type": "markdown",
   "metadata": {},
   "source": [
    "Permutation test code\n",
    "============\n",
    "You must install the _permute_ package to use this code. Install instructions can be found at https://github.com/statlab/permute."
   ]
  },
  {
   "cell_type": "code",
   "execution_count": 2,
   "metadata": {
    "collapsed": false
   },
   "outputs": [],
   "source": [
    "from permute.core import corr, two_sample, permute_within_groups"
   ]
  },
  {
   "cell_type": "markdown",
   "metadata": {},
   "source": [
    "Read data\n",
    "=================\n",
    "\n",
    "Some notes on the variables:\n",
    "* **group** identifies the section the student was placed in.\n",
    "* **gender** refers to the student's gender: 1 = male, 2 = female.\n",
    "* **tagender** is the instructor's true gender: 1 = male, 0 = female.\n",
    "* **taidgender** is the instructor's reported gender: 1 = male, 0 = female."
   ]
  },
  {
   "cell_type": "code",
   "execution_count": null,
   "metadata": {
    "collapsed": false
   },
   "outputs": [
    {
     "data": {
      "text/html": [
       "<div style=\"max-height:1000px;max-width:1500px;overflow:auto;\">\n",
       "<table border=\"1\" class=\"dataframe\">\n",
       "  <thead>\n",
       "    <tr style=\"text-align: right;\">\n",
       "      <th></th>\n",
       "      <th>group</th>\n",
       "      <th>professional</th>\n",
       "      <th>respect</th>\n",
       "      <th>caring</th>\n",
       "      <th>enthusiastic</th>\n",
       "      <th>communicate</th>\n",
       "      <th>helpful</th>\n",
       "      <th>feedback</th>\n",
       "      <th>prompt</th>\n",
       "      <th>consistent</th>\n",
       "      <th>fair</th>\n",
       "      <th>responsive</th>\n",
       "      <th>praised</th>\n",
       "      <th>knowledgeable</th>\n",
       "      <th>clear</th>\n",
       "      <th>overall</th>\n",
       "      <th>gender</th>\n",
       "      <th>age</th>\n",
       "      <th>tagender</th>\n",
       "      <th>taidgender</th>\n",
       "    </tr>\n",
       "  </thead>\n",
       "  <tbody>\n",
       "    <tr>\n",
       "      <th>0</th>\n",
       "      <td> 3</td>\n",
       "      <td> 5</td>\n",
       "      <td> 5</td>\n",
       "      <td> 4</td>\n",
       "      <td> 4</td>\n",
       "      <td> 4</td>\n",
       "      <td> 3</td>\n",
       "      <td> 4</td>\n",
       "      <td> 4</td>\n",
       "      <td> 4</td>\n",
       "      <td> 4</td>\n",
       "      <td> 4</td>\n",
       "      <td> 4</td>\n",
       "      <td> 3</td>\n",
       "      <td> 5</td>\n",
       "      <td> 4</td>\n",
       "      <td> 2</td>\n",
       "      <td> 1990</td>\n",
       "      <td> 0</td>\n",
       "      <td> 1</td>\n",
       "    </tr>\n",
       "    <tr>\n",
       "      <th>1</th>\n",
       "      <td> 3</td>\n",
       "      <td> 4</td>\n",
       "      <td> 4</td>\n",
       "      <td> 4</td>\n",
       "      <td> 4</td>\n",
       "      <td> 5</td>\n",
       "      <td> 5</td>\n",
       "      <td> 5</td>\n",
       "      <td> 5</td>\n",
       "      <td> 3</td>\n",
       "      <td> 4</td>\n",
       "      <td> 5</td>\n",
       "      <td> 5</td>\n",
       "      <td> 5</td>\n",
       "      <td> 5</td>\n",
       "      <td> 4</td>\n",
       "      <td> 1</td>\n",
       "      <td> 1992</td>\n",
       "      <td> 0</td>\n",
       "      <td> 1</td>\n",
       "    </tr>\n",
       "    <tr>\n",
       "      <th>2</th>\n",
       "      <td> 3</td>\n",
       "      <td> 5</td>\n",
       "      <td> 5</td>\n",
       "      <td> 5</td>\n",
       "      <td> 5</td>\n",
       "      <td> 5</td>\n",
       "      <td> 5</td>\n",
       "      <td> 5</td>\n",
       "      <td> 5</td>\n",
       "      <td> 5</td>\n",
       "      <td> 5</td>\n",
       "      <td> 5</td>\n",
       "      <td> 5</td>\n",
       "      <td> 5</td>\n",
       "      <td> 5</td>\n",
       "      <td> 5</td>\n",
       "      <td> 2</td>\n",
       "      <td> 1991</td>\n",
       "      <td> 0</td>\n",
       "      <td> 1</td>\n",
       "    </tr>\n",
       "    <tr>\n",
       "      <th>3</th>\n",
       "      <td> 3</td>\n",
       "      <td> 5</td>\n",
       "      <td> 5</td>\n",
       "      <td> 5</td>\n",
       "      <td> 5</td>\n",
       "      <td> 5</td>\n",
       "      <td> 3</td>\n",
       "      <td> 5</td>\n",
       "      <td> 5</td>\n",
       "      <td> 5</td>\n",
       "      <td> 5</td>\n",
       "      <td> 3</td>\n",
       "      <td> 5</td>\n",
       "      <td> 5</td>\n",
       "      <td> 5</td>\n",
       "      <td> 5</td>\n",
       "      <td> 2</td>\n",
       "      <td> 1991</td>\n",
       "      <td> 0</td>\n",
       "      <td> 1</td>\n",
       "    </tr>\n",
       "    <tr>\n",
       "      <th>4</th>\n",
       "      <td> 3</td>\n",
       "      <td> 5</td>\n",
       "      <td> 5</td>\n",
       "      <td> 5</td>\n",
       "      <td> 5</td>\n",
       "      <td> 5</td>\n",
       "      <td> 5</td>\n",
       "      <td> 5</td>\n",
       "      <td> 3</td>\n",
       "      <td> 4</td>\n",
       "      <td> 5</td>\n",
       "      <td> 5</td>\n",
       "      <td> 5</td>\n",
       "      <td> 5</td>\n",
       "      <td> 5</td>\n",
       "      <td> 5</td>\n",
       "      <td> 2</td>\n",
       "      <td> 1992</td>\n",
       "      <td> 0</td>\n",
       "      <td> 1</td>\n",
       "    </tr>\n",
       "  </tbody>\n",
       "</table>\n",
       "</div>"
      ],
      "text/plain": [
       "   group  professional  respect  caring  enthusiastic  communicate  helpful  \\\n",
       "0      3             5        5       4             4            4        3   \n",
       "1      3             4        4       4             4            5        5   \n",
       "2      3             5        5       5             5            5        5   \n",
       "3      3             5        5       5             5            5        3   \n",
       "4      3             5        5       5             5            5        5   \n",
       "\n",
       "   feedback  prompt  consistent  fair  responsive  praised  knowledgeable  \\\n",
       "0         4       4           4     4           4        4              3   \n",
       "1         5       5           3     4           5        5              5   \n",
       "2         5       5           5     5           5        5              5   \n",
       "3         5       5           5     5           3        5              5   \n",
       "4         5       3           4     5           5        5              5   \n",
       "\n",
       "   clear  overall  gender   age  tagender  taidgender  \n",
       "0      5        4       2  1990         0           1  \n",
       "1      5        4       1  1992         0           1  \n",
       "2      5        5       2  1991         0           1  \n",
       "3      5        5       2  1991         0           1  \n",
       "4      5        5       2  1992         0           1  "
      ]
     },
     "execution_count": 3,
     "metadata": {},
     "output_type": "execute_result"
    }
   ],
   "source": [
    "ratings = pd.read_csv(\"Macnell-RatingsData.csv\")\n",
    "categories = ratings.columns.values.tolist()[1:15]\n",
    "ratings.head()"
   ]
  },
  {
   "cell_type": "markdown",
   "metadata": {},
   "source": [
    "# Analysis\n",
    "\n",
    "### Ratings vs reported instructor gender"
   ]
  },
  {
   "cell_type": "code",
   "execution_count": null,
   "metadata": {
    "collapsed": false
   },
   "outputs": [
    {
     "name": "stdout",
     "output_type": "stream",
     "text": [
      "Overall rating:\n",
      "t statistic: 1.82159\n",
      "P-value (two-sided): 0.04505\n",
      "95% Confidence Interval for the P-value [ 0.04377  0.04635]\n",
      "Number of evaluations for male-identified instructors: 23\n",
      "Number of evaluations for female-identified instructors: 20\n",
      "\n",
      "\n",
      "Category                 t        p-value \n",
      "professional             1.93     0.03"
     ]
    }
   ],
   "source": [
    "(p, t, ci, dist) = two_sample(ratings['overall'][ratings.taidgender==1], ratings['overall'][ratings.taidgender==0], \\\n",
    "                              stat = 't', interval = 'two-sided', keep_dist = True)\n",
    "print 'Overall rating:'\n",
    "print 't statistic:', np.round(t, 5)\n",
    "print 'P-value (two-sided):', np.round(p, 5)\n",
    "print '95% Confidence Interval for the P-value', np.round(ci, 5)\n",
    "print 'Number of evaluations for male-identified instructors:', np.sum(ratings.taidgender==1)\n",
    "print 'Number of evaluations for female-identified instructors:', np.sum(ratings.taidgender==0)\n",
    "\n",
    "print ('\\n\\n{0:24} {1:8} {2:8}'.format('Category', 't', 'p-value'))\n",
    "for col in categories:\n",
    "    (p, t, ci) = two_sample(ratings[col][ratings.taidgender==1], ratings[col][ratings.taidgender==0], \\\n",
    "                              stat = 't', interval = 'two-sided', keep_dist = False)\n",
    "    print ('{0:20} {1:8.2f} {2:8.2f}'.format(col, t, p))"
   ]
  },
  {
   "cell_type": "markdown",
   "metadata": {},
   "source": [
    "### Ratings vs concordance of student and REPORTED instructor genders\n"
   ]
  },
  {
   "cell_type": "code",
   "execution_count": null,
   "metadata": {
    "collapsed": false
   },
   "outputs": [],
   "source": [
    "ratings['gender_concordance'] = ( (ratings['gender']% 2)==ratings['taidgender'] )\n",
    "stu_male = ratings[ratings['gender']==1]\n",
    "stu_female = ratings[ratings['gender']==2]\n",
    "\n",
    "(t, plow, pupper, pboth, sims) = corr(x = stu_male['overall'], \\\n",
    "                                      y = stu_male['gender_concordance'], seed = rs)\n",
    "print 'Male students\\n'\n",
    "print 'Number of male students:', stu_male.shape[0], '\\n'\n",
    "print 'Correlation for overall rating:', t\n",
    "print 'Upper p-value:', pupper\n",
    "print 'Two-sided p-value:', pboth\n",
    "print ('\\n{0:15} {1:8} {2:8} {3:8}'.format('Category', 'Correlation',\\\n",
    "                                           'Upper p-value', 'Two-sided p-value'))\n",
    "(t, plow, pupper, pboth, sims) = corr(x = stu_male['overall'], \\\n",
    "                                      y = stu_male['gender_concordance'], seed = rs)\n",
    "print ('{0:15} {1:8.3f} {2:10.2f} {3:10.2f}'.format('Overall', t, pupper, pboth))\n",
    "\n",
    "for col in categories:\n",
    "    (t, plow, pupper, pboth, sims) = corr(x = stu_male[col], \\\n",
    "                                          y = stu_male['gender_concordance'], seed = rs)\n",
    "    print ('{0:15} {1:8.3f} {2:10.2f} {3:10.2f}'.format(col, t, pupper, pboth))\n",
    "\n",
    "\n",
    "(t, plow, pupper, pboth, sims) = corr(x = stu_female['overall'], \\\n",
    "                                      y = stu_female['gender_concordance'], seed = rs)\n",
    "print '\\nFemale students\\n'\n",
    "print 'Number of female students:', stu_female.shape[0], '\\n'\n",
    "print 'Correlation for overall rating:', t\n",
    "print 'Upper p-value:', pupper\n",
    "print 'Two-sided p-value:', pboth\n",
    "print ('\\n{0:15} {1:8} {2:8} {3:8}'.format('Category', 'Correlation', \\\n",
    "                                           'Upper p-value', 'Two-sided p-value'))\n",
    "(t, plow, pupper, pboth, sims) = corr(x = stu_female['overall'], \\\n",
    "                                      y = stu_female['gender_concordance'], seed = rs)\n",
    "print ('{0:15} {1:8.3f} {2:10.2f} {3:10.2f}'.format('Overall', t, pupper, pboth))\n",
    "\n",
    "for col in categories:\n",
    "    (t, plow, pupper, pboth, sims) = corr(x = stu_female[col], \\\n",
    "                                          y = stu_female['gender_concordance'], seed = rs)\n",
    "    print ('{0:15} {1:8.3f} {2:10.2f} {3:10.2f}'.format(col, t, pupper, pboth))"
   ]
  },
  {
   "cell_type": "markdown",
   "metadata": {},
   "source": [
    "### As a sanity check -- Ratings vs concordance of student and ACTUAL instructor genders\n",
    "\n",
    "Since the students didn't know the instructors' actual gender, we hope that there is no correlation between gender concordance and ratings."
   ]
  },
  {
   "cell_type": "code",
   "execution_count": null,
   "metadata": {
    "collapsed": false
   },
   "outputs": [],
   "source": [
    "ratings['gender_concordance_actual'] = ( (ratings['gender']% 2)==ratings['tagender'] )\n",
    "stu_male = ratings[ratings['gender']==1]\n",
    "stu_female = ratings[ratings['gender']==2]\n",
    "\n",
    "(t, plow, pupper, pboth, sims) = corr(x = stu_male['overall'], \\\n",
    "                                      y = stu_male['gender_concordance_actual'], seed = rs)\n",
    "print 'Male students\\n'\n",
    "print 'Number of male students:', stu_male.shape[0]\n",
    "print 'Correlation:', t\n",
    "print 'Upper p-value:', pupper\n",
    "print 'Two-sided p-value:', pboth\n",
    "\n",
    "(t, plow, pupper, pboth, sims) = corr(x = stu_female['overall'], \\\n",
    "                                      y = stu_female['gender_concordance_actual'], seed = rs)\n",
    "print '\\nFemale students\\n'\n",
    "print 'Number of female students:', stu_female.shape[0]\n",
    "print 'Correlation:', t\n",
    "print 'Upper p-value:', pupper\n",
    "print 'Two-sided p-value:', pboth"
   ]
  },
  {
   "cell_type": "markdown",
   "metadata": {
    "collapsed": true
   },
   "source": [
    "### Difference in differences\n",
    "\n",
    "We'd like to test whether the decrease in ratings due to self-identifying as a female is the same for the two instructors. We'll look at the test statistic $\\left( \\overline{\\text{rating}}_{MM}-\\overline{\\text{rating}}_{MF}\\right) - \\left( \\overline{\\text{rating}}_{FM}-\\overline{\\text{rating}}_{FF}\\right)$, where the first subscript refers to the instructor's actual gender and the second subscript refers to their reported gender. Under the null hypothesis of no difference, this statistic is $0$."
   ]
  },
  {
   "cell_type": "code",
   "execution_count": null,
   "metadata": {
    "collapsed": false
   },
   "outputs": [],
   "source": [
    "weights = np.ones(len(ratings.taidgender))\n",
    "for g in ratings.group.unique():\n",
    "    gg = np.array(ratings.group == g)\n",
    "    if (ratings.tagender[gg]==ratings.taidgender[gg]).all():\n",
    "        weights[gg] = 1/sum(gg)\n",
    "    else:\n",
    "        weights[gg] = -1/sum(gg)\n",
    "tst = lambda ratings: (ratings*weights).sum()\n",
    "obs = tst(ratings['overall'])\n",
    "\n",
    "B = 100\n",
    "dist = np.empty(B)\n",
    "for b in range(B):\n",
    "    perm = rs.permutation(ratings['overall'])\n",
    "    dist[b] = tst(perm)\n",
    "\n",
    "print ('{0:15} {1:8} {2:8}'.format('Category', 'Test Statistic', \\\n",
    "                                           'Two-sided p-value'))\n",
    "print ('{0:15} {1:8.3f} {2:10.2f}'.format('Overall', obs, np.mean(abs(dist)>=abs(obs))))\n",
    "\n",
    "for col in categories:\n",
    "    obs = tst(ratings[col])\n",
    "    dist = np.empty(B)\n",
    "    for b in range(B):\n",
    "        perm = rs.permutation(ratings['overall'])\n",
    "        dist[b] = tst(perm)\n",
    "    print ('{0:15} {1:8.3f} {2:10.2f}'.format(col, obs, np.mean(abs(dist)>=abs(obs))))"
   ]
  },
  {
   "cell_type": "markdown",
   "metadata": {},
   "source": [
    "## References\n",
    "\n",
    "MacNell, L., Driscoll, A., and Hunt, A.N. (2014), \"What’s in a Name: Exposing Gender Bias in Student Ratings of Teaching,\" Innovative Higher Education, 1-13."
   ]
  }
 ],
 "metadata": {
  "kernelspec": {
   "display_name": "Python 2",
   "language": "python",
   "name": "python2"
  },
  "language_info": {
   "codemirror_mode": {
    "name": "ipython",
    "version": 2
   },
   "file_extension": ".py",
   "mimetype": "text/x-python",
   "name": "python",
   "nbconvert_exporter": "python",
   "pygments_lexer": "ipython2",
   "version": "2.7.9"
  }
 },
 "nbformat": 4,
 "nbformat_minor": 0
}
