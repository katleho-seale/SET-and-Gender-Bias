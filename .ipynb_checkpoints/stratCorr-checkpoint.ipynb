{
 "cells": [
  {
   "cell_type": "code",
   "execution_count": 1,
   "metadata": {
    "collapsed": false
   },
   "outputs": [],
   "source": [
    "import math\n",
    "import numpy as np\n",
    "from numpy.random import random\n",
    "import scipy as sp\n",
    "from scipy import special\n",
    "from __future__ import division\n",
    "\n",
    "def corr(x, y, reps=10**4, rs=None):\n",
    "    '''\n",
    "    Simulate permutation p-value for Spearman correlation coefficient\n",
    "    Returns test statistic, simulations, left-sided p-value, right-sided p-value, two-sided p-value\n",
    "    '''\n",
    "    if rs == None:\n",
    "        rs = np.random.RandomState()\n",
    "    t = np.corrcoef(x, y)[0,1]\n",
    "    sims = [np.corrcoef(rs.permutation(x), y)[0,1] for i in range(reps)]\n",
    "    return t, np.sum(sims <= t)/reps, np.sum(sims >= t)/reps, np.sum(np.abs(sims) >= math.fabs(t))/reps, sims\n",
    "\n",
    "def stratCorrTst(x, y, group):\n",
    "    '''\n",
    "    Calculates sum of Spearman correlations between x and y, computed separately in each group.\n",
    "    '''\n",
    "    tst = 0.0\n",
    "    for g in np.unique(group):\n",
    "        gg = group == g\n",
    "        tst += np.corrcoef(x[gg], y[gg])[0,1]\n",
    "    return tst\n",
    "\n",
    "def permuteWithinGroups(x, group, rs=None):\n",
    "    '''\n",
    "    Permutes the elements of x within groups\n",
    "    Input: ndarray x to be permuted, ndarray group of group ids, np.random.RandomState object rs\n",
    "    '''\n",
    "    if rs == None:\n",
    "        rs = np.random.RandomState()\n",
    "    permuted = x.copy()\n",
    "    for g in np.unique(group):\n",
    "        gg = group == g\n",
    "        permuted[gg] = rs.permutation(permuted[gg])      \n",
    "    return permuted\n",
    "\n",
    "def stratCorr(x, y, group, rs, reps=10**4):\n",
    "    '''\n",
    "    Simulate permutation p-value of stratified Spearman correlation test.\n",
    "    Returns test statistic, simulations, left-sided p-value, right-sided p-value, two-sided p-value\n",
    "    '''\n",
    "    t = stratCorrTst(x, y, group)\n",
    "    sims = [stratCorrTst(permuteWithinGroups(x, group, rs), y, group) for i in range(reps)]\n",
    "    return t, np.sum(sims <= t)/reps, np.sum(sims >= t)/reps, np.sum(np.abs(sims) >= math.fabs(t))/reps, sims\n"
   ]
  },
  {
   "cell_type": "code",
   "execution_count": 2,
   "metadata": {
    "collapsed": false
   },
   "outputs": [],
   "source": [
    "seed = 1\n",
    "rs = np.random.RandomState(seed=seed)\n",
    "group = np.array([0, 0, 0, 1, 1, 1])\n",
    "x = np.array([0, 0, 1, 0, 1, 1])\n",
    "y = np.array([0, 0, 1, 0, 1, 1])\n",
    "reps = 10**4"
   ]
  },
  {
   "cell_type": "code",
   "execution_count": 4,
   "metadata": {
    "collapsed": false
   },
   "outputs": [
    {
     "name": "stdout",
     "output_type": "stream",
     "text": [
      "2.0 1.0 0.111 0.111 0.111111111111\n"
     ]
    }
   ],
   "source": [
    "## test stratCorr\n",
    "t, left, right, both, sims = stratCorr(x, y, group, reps=reps, rs=rs)\n",
    "print t, left, right, both, 1/9 # for the test data, true right p-value is 1/9"
   ]
  },
  {
   "cell_type": "code",
   "execution_count": 5,
   "metadata": {
    "collapsed": false
   },
   "outputs": [
    {
     "name": "stdout",
     "output_type": "stream",
     "text": [
      "1.0 1.0 0.0549 0.1054 0.05\n"
     ]
    }
   ],
   "source": [
    "# test corr\n",
    "t, left, right, both, sims = corr(x, y, reps=reps, rs=rs)\n",
    "print t, left, right, both, 1/sp.special.binom(6,3) # for the test data, true right p-value is 1/20"
   ]
  },
  {
   "cell_type": "code",
   "execution_count": null,
   "metadata": {
    "collapsed": true
   },
   "outputs": [],
   "source": []
  },
  {
   "cell_type": "code",
   "execution_count": null,
   "metadata": {
    "collapsed": true
   },
   "outputs": [],
   "source": []
  }
 ],
 "metadata": {
  "kernelspec": {
   "display_name": "Python 2",
   "language": "python",
   "name": "python2"
  },
  "language_info": {
   "codemirror_mode": {
    "name": "ipython",
    "version": 2
   },
   "file_extension": ".py",
   "mimetype": "text/x-python",
   "name": "python",
   "nbconvert_exporter": "python",
   "pygments_lexer": "ipython2",
   "version": "2.7.9"
  }
 },
 "nbformat": 4,
 "nbformat_minor": 0
}
